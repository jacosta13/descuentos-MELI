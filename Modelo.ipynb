{
 "cells": [
  {
   "cell_type": "code",
   "execution_count": 1,
   "id": "c8dfa33d-ad04-4489-82dd-5c7ed1d30c04",
   "metadata": {},
   "outputs": [],
   "source": [
    "import utils\n",
    "import constants"
   ]
  },
  {
   "cell_type": "code",
   "execution_count": 2,
   "id": "b79c7244-71ba-42b7-b173-032afa484d2a",
   "metadata": {},
   "outputs": [],
   "source": [
    "import pandas as pd\n",
    "import numpy as np"
   ]
  },
  {
   "cell_type": "code",
   "execution_count": 3,
   "id": "e2fe0cae-cddd-4c24-83c2-f075008685c0",
   "metadata": {},
   "outputs": [
    {
     "data": {
      "text/html": [
       "<div>\n",
       "<style scoped>\n",
       "    .dataframe tbody tr th:only-of-type {\n",
       "        vertical-align: middle;\n",
       "    }\n",
       "\n",
       "    .dataframe tbody tr th {\n",
       "        vertical-align: top;\n",
       "    }\n",
       "\n",
       "    .dataframe thead th {\n",
       "        text-align: right;\n",
       "    }\n",
       "</style>\n",
       "<table border=\"1\" class=\"dataframe\">\n",
       "  <thead>\n",
       "    <tr style=\"text-align: right;\">\n",
       "      <th></th>\n",
       "      <th>cod_category</th>\n",
       "      <th>name_category</th>\n",
       "      <th>total_items</th>\n",
       "      <th>parti_num_items</th>\n",
       "      <th>cum_parti_num_items</th>\n",
       "    </tr>\n",
       "  </thead>\n",
       "  <tbody>\n",
       "    <tr>\n",
       "      <th>0</th>\n",
       "      <td>MCO1574</td>\n",
       "      <td>Hogar y Muebles</td>\n",
       "      <td>4305565</td>\n",
       "      <td>5.430839</td>\n",
       "      <td>5.430839</td>\n",
       "    </tr>\n",
       "    <tr>\n",
       "      <th>1</th>\n",
       "      <td>MCO1132</td>\n",
       "      <td>Juegos y Juguetes</td>\n",
       "      <td>2136362</td>\n",
       "      <td>2.694708</td>\n",
       "      <td>8.125547</td>\n",
       "    </tr>\n",
       "    <tr>\n",
       "      <th>2</th>\n",
       "      <td>MCO1246</td>\n",
       "      <td>Belleza y Cuidado Personal</td>\n",
       "      <td>2059954</td>\n",
       "      <td>2.598330</td>\n",
       "      <td>10.723877</td>\n",
       "    </tr>\n",
       "    <tr>\n",
       "      <th>3</th>\n",
       "      <td>MCO1747</td>\n",
       "      <td>Accesorios para Vehículos</td>\n",
       "      <td>1596663</td>\n",
       "      <td>2.013956</td>\n",
       "      <td>12.737833</td>\n",
       "    </tr>\n",
       "    <tr>\n",
       "      <th>4</th>\n",
       "      <td>MCO1430</td>\n",
       "      <td>Ropa y Accesorios</td>\n",
       "      <td>1431321</td>\n",
       "      <td>1.805402</td>\n",
       "      <td>14.543235</td>\n",
       "    </tr>\n",
       "    <tr>\n",
       "      <th>...</th>\n",
       "      <td>...</td>\n",
       "      <td>...</td>\n",
       "      <td>...</td>\n",
       "      <td>...</td>\n",
       "      <td>...</td>\n",
       "    </tr>\n",
       "    <tr>\n",
       "      <th>503</th>\n",
       "      <td>MCO429452</td>\n",
       "      <td>Soportes para Carros</td>\n",
       "      <td>22268</td>\n",
       "      <td>0.028088</td>\n",
       "      <td>79.872895</td>\n",
       "    </tr>\n",
       "    <tr>\n",
       "      <th>504</th>\n",
       "      <td>MCO158236</td>\n",
       "      <td>Luces</td>\n",
       "      <td>22267</td>\n",
       "      <td>0.028087</td>\n",
       "      <td>79.900981</td>\n",
       "    </tr>\n",
       "    <tr>\n",
       "      <th>505</th>\n",
       "      <td>MCO164712</td>\n",
       "      <td>De Pared</td>\n",
       "      <td>22255</td>\n",
       "      <td>0.028071</td>\n",
       "      <td>79.929053</td>\n",
       "    </tr>\n",
       "    <tr>\n",
       "      <th>506</th>\n",
       "      <td>MCO179914</td>\n",
       "      <td>Otros</td>\n",
       "      <td>22209</td>\n",
       "      <td>0.028013</td>\n",
       "      <td>79.957066</td>\n",
       "    </tr>\n",
       "    <tr>\n",
       "      <th>507</th>\n",
       "      <td>MCO4800</td>\n",
       "      <td>Video Beams y Pantallas</td>\n",
       "      <td>22131</td>\n",
       "      <td>0.027915</td>\n",
       "      <td>79.984981</td>\n",
       "    </tr>\n",
       "  </tbody>\n",
       "</table>\n",
       "<p>508 rows × 5 columns</p>\n",
       "</div>"
      ],
      "text/plain": [
       "    cod_category               name_category  total_items  parti_num_items  \\\n",
       "0        MCO1574             Hogar y Muebles      4305565         5.430839   \n",
       "1        MCO1132           Juegos y Juguetes      2136362         2.694708   \n",
       "2        MCO1246  Belleza y Cuidado Personal      2059954         2.598330   \n",
       "3        MCO1747   Accesorios para Vehículos      1596663         2.013956   \n",
       "4        MCO1430           Ropa y Accesorios      1431321         1.805402   \n",
       "..           ...                         ...          ...              ...   \n",
       "503    MCO429452        Soportes para Carros        22268         0.028088   \n",
       "504    MCO158236                       Luces        22267         0.028087   \n",
       "505    MCO164712                    De Pared        22255         0.028071   \n",
       "506    MCO179914                       Otros        22209         0.028013   \n",
       "507      MCO4800     Video Beams y Pantallas        22131         0.027915   \n",
       "\n",
       "     cum_parti_num_items  \n",
       "0               5.430839  \n",
       "1               8.125547  \n",
       "2              10.723877  \n",
       "3              12.737833  \n",
       "4              14.543235  \n",
       "..                   ...  \n",
       "503            79.872895  \n",
       "504            79.900981  \n",
       "505            79.929053  \n",
       "506            79.957066  \n",
       "507            79.984981  \n",
       "\n",
       "[508 rows x 5 columns]"
      ]
     },
     "execution_count": 3,
     "metadata": {},
     "output_type": "execute_result"
    }
   ],
   "source": [
    "df_cat = pd.read_csv(\"MCO_categorias_importantes.csv\")\n",
    "\n",
    "df_cat"
   ]
  },
  {
   "cell_type": "code",
   "execution_count": 4,
   "id": "7dbe19fa-8d11-44a7-953f-908e72ca8f8f",
   "metadata": {},
   "outputs": [
    {
     "data": {
      "text/plain": [
       "4305.5650000000005"
      ]
     },
     "execution_count": 4,
     "metadata": {},
     "output_type": "execute_result"
    }
   ],
   "source": [
    "4305565*0.001"
   ]
  },
  {
   "cell_type": "code",
   "execution_count": 8,
   "id": "88d18986-965a-49fc-ac0d-9239904673be",
   "metadata": {},
   "outputs": [
    {
     "data": {
      "text/plain": [
       "0    MCO1574\n",
       "1    MCO1132\n",
       "2    MCO1246\n",
       "3    MCO1747\n",
       "4    MCO1430\n",
       "5    MCO1592\n",
       "6    MCO3025\n",
       "7    MCO1276\n",
       "8    MCO1196\n",
       "9    MCO1631\n",
       "Name: cod_category, dtype: object"
      ]
     },
     "execution_count": 8,
     "metadata": {},
     "output_type": "execute_result"
    }
   ],
   "source": []
  },
  {
   "cell_type": "code",
   "execution_count": null,
   "id": "fec0bb22-3100-4449-9ca3-c94305670269",
   "metadata": {},
   "outputs": [
    {
     "name": "stdout",
     "output_type": "stream",
     "text": [
      "[INFO]: Categoria:----------MCO1574\n"
     ]
    }
   ],
   "source": [
    "for cat in df_cat[\"cod_category\"].unique():\n",
    "    print(\"[INFO]: Categoria:\" + \"-\"*10 + cat)\n",
    "    size = 100\n",
    "    \n",
    "    utils.lote_items(\n",
    "        category=cat,\n",
    "        size=size, \n",
    "        site=\"MCO\",\n",
    "        file_name=\"Data_Modelo/items_modelo_{category}_{size}.csv\".format(\n",
    "            category=cat,\n",
    "            size=size\n",
    "        ),\n",
    "        discount=False\n",
    "    )\n",
    "    print(\"-\"*20)"
   ]
  },
  {
   "cell_type": "code",
   "execution_count": null,
   "id": "51730133-3497-43a2-ad8d-3fd7357e2151",
   "metadata": {},
   "outputs": [],
   "source": []
  }
 ],
 "metadata": {
  "kernelspec": {
   "display_name": "MyEnv",
   "language": "python",
   "name": "myenv"
  },
  "language_info": {
   "codemirror_mode": {
    "name": "ipython",
    "version": 3
   },
   "file_extension": ".py",
   "mimetype": "text/x-python",
   "name": "python",
   "nbconvert_exporter": "python",
   "pygments_lexer": "ipython3",
   "version": "3.8.10"
  }
 },
 "nbformat": 4,
 "nbformat_minor": 5
}
