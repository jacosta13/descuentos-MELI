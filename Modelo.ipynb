{
 "cells": [
  {
   "cell_type": "code",
   "execution_count": 69,
   "id": "c8dfa33d-ad04-4489-82dd-5c7ed1d30c04",
   "metadata": {},
   "outputs": [],
   "source": [
    "import utils\n",
    "import constants"
   ]
  },
  {
   "cell_type": "code",
   "execution_count": 70,
   "id": "b79c7244-71ba-42b7-b173-032afa484d2a",
   "metadata": {},
   "outputs": [],
   "source": [
    "import pandas as pd\n",
    "import numpy as np"
   ]
  },
  {
   "cell_type": "code",
   "execution_count": 71,
   "id": "e2fe0cae-cddd-4c24-83c2-f075008685c0",
   "metadata": {},
   "outputs": [
    {
     "data": {
      "text/html": [
       "<div>\n",
       "<style scoped>\n",
       "    .dataframe tbody tr th:only-of-type {\n",
       "        vertical-align: middle;\n",
       "    }\n",
       "\n",
       "    .dataframe tbody tr th {\n",
       "        vertical-align: top;\n",
       "    }\n",
       "\n",
       "    .dataframe thead th {\n",
       "        text-align: right;\n",
       "    }\n",
       "</style>\n",
       "<table border=\"1\" class=\"dataframe\">\n",
       "  <thead>\n",
       "    <tr style=\"text-align: right;\">\n",
       "      <th></th>\n",
       "      <th>cod_category</th>\n",
       "      <th>name_category</th>\n",
       "      <th>total_items</th>\n",
       "      <th>parti_num_items</th>\n",
       "      <th>cum_parti_num_items</th>\n",
       "    </tr>\n",
       "  </thead>\n",
       "  <tbody>\n",
       "    <tr>\n",
       "      <th>0</th>\n",
       "      <td>MCO1574</td>\n",
       "      <td>Hogar y Muebles</td>\n",
       "      <td>4305565</td>\n",
       "      <td>5.430839</td>\n",
       "      <td>5.430839</td>\n",
       "    </tr>\n",
       "    <tr>\n",
       "      <th>1</th>\n",
       "      <td>MCO1132</td>\n",
       "      <td>Juegos y Juguetes</td>\n",
       "      <td>2136362</td>\n",
       "      <td>2.694708</td>\n",
       "      <td>8.125547</td>\n",
       "    </tr>\n",
       "    <tr>\n",
       "      <th>2</th>\n",
       "      <td>MCO1246</td>\n",
       "      <td>Belleza y Cuidado Personal</td>\n",
       "      <td>2059954</td>\n",
       "      <td>2.598330</td>\n",
       "      <td>10.723877</td>\n",
       "    </tr>\n",
       "    <tr>\n",
       "      <th>3</th>\n",
       "      <td>MCO1747</td>\n",
       "      <td>Accesorios para Vehículos</td>\n",
       "      <td>1596663</td>\n",
       "      <td>2.013956</td>\n",
       "      <td>12.737833</td>\n",
       "    </tr>\n",
       "    <tr>\n",
       "      <th>4</th>\n",
       "      <td>MCO1430</td>\n",
       "      <td>Ropa y Accesorios</td>\n",
       "      <td>1431321</td>\n",
       "      <td>1.805402</td>\n",
       "      <td>14.543235</td>\n",
       "    </tr>\n",
       "    <tr>\n",
       "      <th>...</th>\n",
       "      <td>...</td>\n",
       "      <td>...</td>\n",
       "      <td>...</td>\n",
       "      <td>...</td>\n",
       "      <td>...</td>\n",
       "    </tr>\n",
       "    <tr>\n",
       "      <th>503</th>\n",
       "      <td>MCO429452</td>\n",
       "      <td>Soportes para Carros</td>\n",
       "      <td>22268</td>\n",
       "      <td>0.028088</td>\n",
       "      <td>79.872895</td>\n",
       "    </tr>\n",
       "    <tr>\n",
       "      <th>504</th>\n",
       "      <td>MCO158236</td>\n",
       "      <td>Luces</td>\n",
       "      <td>22267</td>\n",
       "      <td>0.028087</td>\n",
       "      <td>79.900981</td>\n",
       "    </tr>\n",
       "    <tr>\n",
       "      <th>505</th>\n",
       "      <td>MCO164712</td>\n",
       "      <td>De Pared</td>\n",
       "      <td>22255</td>\n",
       "      <td>0.028071</td>\n",
       "      <td>79.929053</td>\n",
       "    </tr>\n",
       "    <tr>\n",
       "      <th>506</th>\n",
       "      <td>MCO179914</td>\n",
       "      <td>Otros</td>\n",
       "      <td>22209</td>\n",
       "      <td>0.028013</td>\n",
       "      <td>79.957066</td>\n",
       "    </tr>\n",
       "    <tr>\n",
       "      <th>507</th>\n",
       "      <td>MCO4800</td>\n",
       "      <td>Video Beams y Pantallas</td>\n",
       "      <td>22131</td>\n",
       "      <td>0.027915</td>\n",
       "      <td>79.984981</td>\n",
       "    </tr>\n",
       "  </tbody>\n",
       "</table>\n",
       "<p>508 rows × 5 columns</p>\n",
       "</div>"
      ],
      "text/plain": [
       "    cod_category               name_category  total_items  parti_num_items  \\\n",
       "0        MCO1574             Hogar y Muebles      4305565         5.430839   \n",
       "1        MCO1132           Juegos y Juguetes      2136362         2.694708   \n",
       "2        MCO1246  Belleza y Cuidado Personal      2059954         2.598330   \n",
       "3        MCO1747   Accesorios para Vehículos      1596663         2.013956   \n",
       "4        MCO1430           Ropa y Accesorios      1431321         1.805402   \n",
       "..           ...                         ...          ...              ...   \n",
       "503    MCO429452        Soportes para Carros        22268         0.028088   \n",
       "504    MCO158236                       Luces        22267         0.028087   \n",
       "505    MCO164712                    De Pared        22255         0.028071   \n",
       "506    MCO179914                       Otros        22209         0.028013   \n",
       "507      MCO4800     Video Beams y Pantallas        22131         0.027915   \n",
       "\n",
       "     cum_parti_num_items  \n",
       "0               5.430839  \n",
       "1               8.125547  \n",
       "2              10.723877  \n",
       "3              12.737833  \n",
       "4              14.543235  \n",
       "..                   ...  \n",
       "503            79.872895  \n",
       "504            79.900981  \n",
       "505            79.929053  \n",
       "506            79.957066  \n",
       "507            79.984981  \n",
       "\n",
       "[508 rows x 5 columns]"
      ]
     },
     "execution_count": 71,
     "metadata": {},
     "output_type": "execute_result"
    }
   ],
   "source": [
    "df_cat = pd.read_csv(\"MCO_categorias_importantes.csv\")\n",
    "\n",
    "df_cat"
   ]
  },
  {
   "cell_type": "code",
   "execution_count": 72,
   "id": "fec0bb22-3100-4449-9ca3-c94305670269",
   "metadata": {},
   "outputs": [],
   "source": [
    "# for cat in df_cat[\"cod_category\"].unique():\n",
    "#     print(\"[INFO]: Categoria:\" + \"-\"*10 + cat)\n",
    "#     size = 100\n",
    "    \n",
    "#     utils.lote_items(\n",
    "#         category=cat,\n",
    "#         size=size, \n",
    "#         site=\"MCO\",\n",
    "#         file_name=\"Data_Modelo/items_modelo_{category}_{size}.csv\".format(\n",
    "#             category=cat,\n",
    "#             size=size\n",
    "#         ),\n",
    "#         discount=False\n",
    "#     )\n",
    "#     print(\"-\"*20)"
   ]
  },
  {
   "cell_type": "code",
   "execution_count": 73,
   "id": "51730133-3497-43a2-ad8d-3fd7357e2151",
   "metadata": {},
   "outputs": [
    {
     "data": {
      "text/html": [
       "<div>\n",
       "<style scoped>\n",
       "    .dataframe tbody tr th:only-of-type {\n",
       "        vertical-align: middle;\n",
       "    }\n",
       "\n",
       "    .dataframe tbody tr th {\n",
       "        vertical-align: top;\n",
       "    }\n",
       "\n",
       "    .dataframe thead th {\n",
       "        text-align: right;\n",
       "    }\n",
       "</style>\n",
       "<table border=\"1\" class=\"dataframe\">\n",
       "  <thead>\n",
       "    <tr style=\"text-align: right;\">\n",
       "      <th></th>\n",
       "      <th>id</th>\n",
       "      <th>site_id</th>\n",
       "      <th>title</th>\n",
       "      <th>price</th>\n",
       "      <th>sale_price</th>\n",
       "      <th>currency_id</th>\n",
       "      <th>available_quantity</th>\n",
       "      <th>sold_quantity</th>\n",
       "      <th>buying_mode</th>\n",
       "      <th>listing_type_id</th>\n",
       "      <th>...</th>\n",
       "      <th>seller_address_latitude</th>\n",
       "      <th>seller_address_longitude</th>\n",
       "      <th>NUM_ATTRIBUTEs</th>\n",
       "      <th>BRAND</th>\n",
       "      <th>ITEM_CONDITION</th>\n",
       "      <th>MODEL</th>\n",
       "      <th>num_tags</th>\n",
       "      <th>best_seller_candidate</th>\n",
       "      <th>loyalty_discount_eligible</th>\n",
       "      <th>good_quality_picture</th>\n",
       "    </tr>\n",
       "  </thead>\n",
       "  <tbody>\n",
       "    <tr>\n",
       "      <th>0</th>\n",
       "      <td>MCO446165009</td>\n",
       "      <td>MCO</td>\n",
       "      <td>Bomba De Succión Al Vacío Para Baños, Cañerías...</td>\n",
       "      <td>47405</td>\n",
       "      <td>NaN</td>\n",
       "      <td>COP</td>\n",
       "      <td>1</td>\n",
       "      <td>250</td>\n",
       "      <td>buy_it_now</td>\n",
       "      <td>gold_special</td>\n",
       "      <td>...</td>\n",
       "      <td>NaN</td>\n",
       "      <td>NaN</td>\n",
       "      <td>5</td>\n",
       "      <td>Energy Plus</td>\n",
       "      <td>Nuevo</td>\n",
       "      <td>402400</td>\n",
       "      <td>7</td>\n",
       "      <td>0</td>\n",
       "      <td>1</td>\n",
       "      <td>1</td>\n",
       "    </tr>\n",
       "    <tr>\n",
       "      <th>1</th>\n",
       "      <td>MCO472182494</td>\n",
       "      <td>MCO</td>\n",
       "      <td>Base Pata Escritorio Milano Negra</td>\n",
       "      <td>98000</td>\n",
       "      <td>NaN</td>\n",
       "      <td>COP</td>\n",
       "      <td>1</td>\n",
       "      <td>50</td>\n",
       "      <td>buy_it_now</td>\n",
       "      <td>gold_special</td>\n",
       "      <td>...</td>\n",
       "      <td>NaN</td>\n",
       "      <td>NaN</td>\n",
       "      <td>3</td>\n",
       "      <td>Vince</td>\n",
       "      <td>Nuevo</td>\n",
       "      <td>MILANO</td>\n",
       "      <td>5</td>\n",
       "      <td>0</td>\n",
       "      <td>1</td>\n",
       "      <td>1</td>\n",
       "    </tr>\n",
       "    <tr>\n",
       "      <th>2</th>\n",
       "      <td>MCO503609295</td>\n",
       "      <td>MCO</td>\n",
       "      <td>Velas Pebetero 32und Luz Decoración Aluminio M...</td>\n",
       "      <td>18990</td>\n",
       "      <td>NaN</td>\n",
       "      <td>COP</td>\n",
       "      <td>1</td>\n",
       "      <td>25</td>\n",
       "      <td>buy_it_now</td>\n",
       "      <td>gold_special</td>\n",
       "      <td>...</td>\n",
       "      <td>NaN</td>\n",
       "      <td>NaN</td>\n",
       "      <td>3</td>\n",
       "      <td>candeles</td>\n",
       "      <td>Nuevo</td>\n",
       "      <td>x32</td>\n",
       "      <td>4</td>\n",
       "      <td>0</td>\n",
       "      <td>0</td>\n",
       "      <td>1</td>\n",
       "    </tr>\n",
       "    <tr>\n",
       "      <th>3</th>\n",
       "      <td>MCO466957428</td>\n",
       "      <td>MCO</td>\n",
       "      <td>Repuesto Cono  Exprimidor Black And Decker Cj ...</td>\n",
       "      <td>27000</td>\n",
       "      <td>NaN</td>\n",
       "      <td>COP</td>\n",
       "      <td>1</td>\n",
       "      <td>250</td>\n",
       "      <td>buy_it_now</td>\n",
       "      <td>gold_pro</td>\n",
       "      <td>...</td>\n",
       "      <td>NaN</td>\n",
       "      <td>NaN</td>\n",
       "      <td>3</td>\n",
       "      <td>Genérica</td>\n",
       "      <td>Nuevo</td>\n",
       "      <td>Cj631</td>\n",
       "      <td>5</td>\n",
       "      <td>0</td>\n",
       "      <td>1</td>\n",
       "      <td>1</td>\n",
       "    </tr>\n",
       "    <tr>\n",
       "      <th>4</th>\n",
       "      <td>MCO591610344</td>\n",
       "      <td>MCO</td>\n",
       "      <td>Set X3 Recipientes Porta Comida Hermetico Vidr...</td>\n",
       "      <td>59900</td>\n",
       "      <td>NaN</td>\n",
       "      <td>COP</td>\n",
       "      <td>1</td>\n",
       "      <td>100</td>\n",
       "      <td>buy_it_now</td>\n",
       "      <td>gold_special</td>\n",
       "      <td>...</td>\n",
       "      <td>NaN</td>\n",
       "      <td>NaN</td>\n",
       "      <td>5</td>\n",
       "      <td>NaN</td>\n",
       "      <td>Nuevo</td>\n",
       "      <td>x3</td>\n",
       "      <td>6</td>\n",
       "      <td>0</td>\n",
       "      <td>1</td>\n",
       "      <td>1</td>\n",
       "    </tr>\n",
       "    <tr>\n",
       "      <th>...</th>\n",
       "      <td>...</td>\n",
       "      <td>...</td>\n",
       "      <td>...</td>\n",
       "      <td>...</td>\n",
       "      <td>...</td>\n",
       "      <td>...</td>\n",
       "      <td>...</td>\n",
       "      <td>...</td>\n",
       "      <td>...</td>\n",
       "      <td>...</td>\n",
       "      <td>...</td>\n",
       "      <td>...</td>\n",
       "      <td>...</td>\n",
       "      <td>...</td>\n",
       "      <td>...</td>\n",
       "      <td>...</td>\n",
       "      <td>...</td>\n",
       "      <td>...</td>\n",
       "      <td>...</td>\n",
       "      <td>...</td>\n",
       "      <td>...</td>\n",
       "    </tr>\n",
       "    <tr>\n",
       "      <th>12820</th>\n",
       "      <td>MCO577238346</td>\n",
       "      <td>MCO</td>\n",
       "      <td>Camara Robotica Inalambrica Wifi 3 Antenas 360...</td>\n",
       "      <td>89900</td>\n",
       "      <td>NaN</td>\n",
       "      <td>COP</td>\n",
       "      <td>1</td>\n",
       "      <td>500</td>\n",
       "      <td>buy_it_now</td>\n",
       "      <td>gold_special</td>\n",
       "      <td>...</td>\n",
       "      <td>NaN</td>\n",
       "      <td>NaN</td>\n",
       "      <td>4</td>\n",
       "      <td>NaN</td>\n",
       "      <td>Nuevo</td>\n",
       "      <td>3 antenas</td>\n",
       "      <td>6</td>\n",
       "      <td>0</td>\n",
       "      <td>1</td>\n",
       "      <td>1</td>\n",
       "    </tr>\n",
       "    <tr>\n",
       "      <th>12821</th>\n",
       "      <td>MCO534970001</td>\n",
       "      <td>MCO</td>\n",
       "      <td>Fuente De Voltaje 12 V 1 A Para Cctv Hikvision...</td>\n",
       "      <td>3471</td>\n",
       "      <td>NaN</td>\n",
       "      <td>COP</td>\n",
       "      <td>100</td>\n",
       "      <td>500</td>\n",
       "      <td>buy_it_now</td>\n",
       "      <td>gold_pro</td>\n",
       "      <td>...</td>\n",
       "      <td>NaN</td>\n",
       "      <td>NaN</td>\n",
       "      <td>6</td>\n",
       "      <td>Genérica</td>\n",
       "      <td>Nuevo</td>\n",
       "      <td>1200v 1A</td>\n",
       "      <td>7</td>\n",
       "      <td>1</td>\n",
       "      <td>1</td>\n",
       "      <td>1</td>\n",
       "    </tr>\n",
       "    <tr>\n",
       "      <th>12822</th>\n",
       "      <td>MCO502633990</td>\n",
       "      <td>MCO</td>\n",
       "      <td>Camara Ip Wifi Vision Nocturna  2mpx 3 Antenas...</td>\n",
       "      <td>84500</td>\n",
       "      <td>NaN</td>\n",
       "      <td>COP</td>\n",
       "      <td>100</td>\n",
       "      <td>500</td>\n",
       "      <td>buy_it_now</td>\n",
       "      <td>gold_special</td>\n",
       "      <td>...</td>\n",
       "      <td>NaN</td>\n",
       "      <td>NaN</td>\n",
       "      <td>6</td>\n",
       "      <td>Vision</td>\n",
       "      <td>Nuevo</td>\n",
       "      <td>camara ip</td>\n",
       "      <td>6</td>\n",
       "      <td>1</td>\n",
       "      <td>0</td>\n",
       "      <td>1</td>\n",
       "    </tr>\n",
       "    <tr>\n",
       "      <th>12823</th>\n",
       "      <td>MCO562589688</td>\n",
       "      <td>MCO</td>\n",
       "      <td>Caja Fuerte Digital Karson Gran Capacidad 16 L...</td>\n",
       "      <td>199900</td>\n",
       "      <td>NaN</td>\n",
       "      <td>COP</td>\n",
       "      <td>1</td>\n",
       "      <td>500</td>\n",
       "      <td>buy_it_now</td>\n",
       "      <td>gold_special</td>\n",
       "      <td>...</td>\n",
       "      <td>NaN</td>\n",
       "      <td>NaN</td>\n",
       "      <td>5</td>\n",
       "      <td>Karson</td>\n",
       "      <td>Nuevo</td>\n",
       "      <td>Tamaño grande</td>\n",
       "      <td>5</td>\n",
       "      <td>0</td>\n",
       "      <td>0</td>\n",
       "      <td>1</td>\n",
       "    </tr>\n",
       "    <tr>\n",
       "      <th>12824</th>\n",
       "      <td>MCO855086229</td>\n",
       "      <td>MCO</td>\n",
       "      <td>Cámara De Seguridad Tp-link Tapo C200 V1 Tapo ...</td>\n",
       "      <td>158000</td>\n",
       "      <td>NaN</td>\n",
       "      <td>COP</td>\n",
       "      <td>7</td>\n",
       "      <td>82</td>\n",
       "      <td>buy_it_now</td>\n",
       "      <td>gold_special</td>\n",
       "      <td>...</td>\n",
       "      <td>NaN</td>\n",
       "      <td>NaN</td>\n",
       "      <td>7</td>\n",
       "      <td>TP-Link</td>\n",
       "      <td>Nuevo</td>\n",
       "      <td>Tapo C200 V1</td>\n",
       "      <td>4</td>\n",
       "      <td>1</td>\n",
       "      <td>0</td>\n",
       "      <td>1</td>\n",
       "    </tr>\n",
       "  </tbody>\n",
       "</table>\n",
       "<p>12825 rows × 70 columns</p>\n",
       "</div>"
      ],
      "text/plain": [
       "                 id site_id  \\\n",
       "0      MCO446165009     MCO   \n",
       "1      MCO472182494     MCO   \n",
       "2      MCO503609295     MCO   \n",
       "3      MCO466957428     MCO   \n",
       "4      MCO591610344     MCO   \n",
       "...             ...     ...   \n",
       "12820  MCO577238346     MCO   \n",
       "12821  MCO534970001     MCO   \n",
       "12822  MCO502633990     MCO   \n",
       "12823  MCO562589688     MCO   \n",
       "12824  MCO855086229     MCO   \n",
       "\n",
       "                                                   title   price  sale_price  \\\n",
       "0      Bomba De Succión Al Vacío Para Baños, Cañerías...   47405         NaN   \n",
       "1                      Base Pata Escritorio Milano Negra   98000         NaN   \n",
       "2      Velas Pebetero 32und Luz Decoración Aluminio M...   18990         NaN   \n",
       "3      Repuesto Cono  Exprimidor Black And Decker Cj ...   27000         NaN   \n",
       "4      Set X3 Recipientes Porta Comida Hermetico Vidr...   59900         NaN   \n",
       "...                                                  ...     ...         ...   \n",
       "12820  Camara Robotica Inalambrica Wifi 3 Antenas 360...   89900         NaN   \n",
       "12821  Fuente De Voltaje 12 V 1 A Para Cctv Hikvision...    3471         NaN   \n",
       "12822  Camara Ip Wifi Vision Nocturna  2mpx 3 Antenas...   84500         NaN   \n",
       "12823  Caja Fuerte Digital Karson Gran Capacidad 16 L...  199900         NaN   \n",
       "12824  Cámara De Seguridad Tp-link Tapo C200 V1 Tapo ...  158000         NaN   \n",
       "\n",
       "      currency_id  available_quantity  sold_quantity buying_mode  \\\n",
       "0             COP                   1            250  buy_it_now   \n",
       "1             COP                   1             50  buy_it_now   \n",
       "2             COP                   1             25  buy_it_now   \n",
       "3             COP                   1            250  buy_it_now   \n",
       "4             COP                   1            100  buy_it_now   \n",
       "...           ...                 ...            ...         ...   \n",
       "12820         COP                   1            500  buy_it_now   \n",
       "12821         COP                 100            500  buy_it_now   \n",
       "12822         COP                 100            500  buy_it_now   \n",
       "12823         COP                   1            500  buy_it_now   \n",
       "12824         COP                   7             82  buy_it_now   \n",
       "\n",
       "      listing_type_id  ... seller_address_latitude seller_address_longitude  \\\n",
       "0        gold_special  ...                     NaN                      NaN   \n",
       "1        gold_special  ...                     NaN                      NaN   \n",
       "2        gold_special  ...                     NaN                      NaN   \n",
       "3            gold_pro  ...                     NaN                      NaN   \n",
       "4        gold_special  ...                     NaN                      NaN   \n",
       "...               ...  ...                     ...                      ...   \n",
       "12820    gold_special  ...                     NaN                      NaN   \n",
       "12821        gold_pro  ...                     NaN                      NaN   \n",
       "12822    gold_special  ...                     NaN                      NaN   \n",
       "12823    gold_special  ...                     NaN                      NaN   \n",
       "12824    gold_special  ...                     NaN                      NaN   \n",
       "\n",
       "      NUM_ATTRIBUTEs        BRAND ITEM_CONDITION          MODEL  num_tags  \\\n",
       "0                  5  Energy Plus          Nuevo         402400         7   \n",
       "1                  3        Vince          Nuevo         MILANO         5   \n",
       "2                  3     candeles          Nuevo            x32         4   \n",
       "3                  3     Genérica          Nuevo          Cj631         5   \n",
       "4                  5          NaN          Nuevo             x3         6   \n",
       "...              ...          ...            ...            ...       ...   \n",
       "12820              4          NaN          Nuevo      3 antenas         6   \n",
       "12821              6     Genérica          Nuevo       1200v 1A         7   \n",
       "12822              6       Vision          Nuevo      camara ip         6   \n",
       "12823              5       Karson          Nuevo  Tamaño grande         5   \n",
       "12824              7      TP-Link          Nuevo   Tapo C200 V1         4   \n",
       "\n",
       "      best_seller_candidate  loyalty_discount_eligible good_quality_picture  \n",
       "0                         0                          1                    1  \n",
       "1                         0                          1                    1  \n",
       "2                         0                          0                    1  \n",
       "3                         0                          1                    1  \n",
       "4                         0                          1                    1  \n",
       "...                     ...                        ...                  ...  \n",
       "12820                     0                          1                    1  \n",
       "12821                     1                          1                    1  \n",
       "12822                     1                          0                    1  \n",
       "12823                     0                          0                    1  \n",
       "12824                     1                          0                    1  \n",
       "\n",
       "[12825 rows x 70 columns]"
      ]
     },
     "execution_count": 73,
     "metadata": {},
     "output_type": "execute_result"
    }
   ],
   "source": [
    "df = pd.read_csv(\"Data_Modelo/data_set.csv\")\n",
    "\n",
    "df"
   ]
  },
  {
   "cell_type": "markdown",
   "id": "6dae834d-d468-4077-bca7-a2ce0d6d1b5a",
   "metadata": {},
   "source": [
    "# Limpieza de datos"
   ]
  },
  {
   "cell_type": "markdown",
   "id": "5b8b32be-858f-47ae-9634-aa2124bde7b9",
   "metadata": {},
   "source": [
    "## Columnas de Ids"
   ]
  },
  {
   "cell_type": "code",
   "execution_count": 74,
   "id": "40d3f50c-5cf3-4319-9b4a-59d5a14b8699",
   "metadata": {},
   "outputs": [
    {
     "data": {
      "text/plain": [
       "['id',\n",
       " 'site_id',\n",
       " 'currency_id',\n",
       " 'listing_type_id',\n",
       " 'thumbnail_id',\n",
       " 'category_id',\n",
       " 'official_store_id',\n",
       " 'domain_id',\n",
       " 'catalog_product_id',\n",
       " 'use_thumbnail_id',\n",
       " 'winner_item_id',\n",
       " 'seller_id',\n",
       " 'prices_id',\n",
       " 'installments_currency_id',\n",
       " 'address_state_id',\n",
       " 'address_city_id',\n",
       " 'seller_address_id']"
      ]
     },
     "execution_count": 74,
     "metadata": {},
     "output_type": "execute_result"
    }
   ],
   "source": [
    "cols_id = [\n",
    "    x for x in df.columns if(\"id\" in x)&(\"best_seller_candidate\"!=x)\n",
    "]\n",
    "\n",
    "cols_id"
   ]
  },
  {
   "cell_type": "code",
   "execution_count": 75,
   "id": "7f0b4837-af3b-49ac-814d-0893f67771a3",
   "metadata": {},
   "outputs": [],
   "source": [
    "df.drop(\n",
    "    columns=cols_id,\n",
    "    inplace=True\n",
    ")"
   ]
  },
  {
   "cell_type": "markdown",
   "id": "df8e6a0e-627f-4302-b007-c96f7f78b241",
   "metadata": {},
   "source": [
    "## Nulos"
   ]
  },
  {
   "cell_type": "code",
   "execution_count": 76,
   "id": "61c1acb5-6750-4f84-8191-5bf4bef2e5fa",
   "metadata": {},
   "outputs": [
    {
     "data": {
      "text/html": [
       "<div>\n",
       "<style scoped>\n",
       "    .dataframe tbody tr th:only-of-type {\n",
       "        vertical-align: middle;\n",
       "    }\n",
       "\n",
       "    .dataframe tbody tr th {\n",
       "        vertical-align: top;\n",
       "    }\n",
       "\n",
       "    .dataframe thead th {\n",
       "        text-align: right;\n",
       "    }\n",
       "</style>\n",
       "<table border=\"1\" class=\"dataframe\">\n",
       "  <thead>\n",
       "    <tr style=\"text-align: right;\">\n",
       "      <th></th>\n",
       "      <th>variables</th>\n",
       "      <th>num_nulos</th>\n",
       "      <th>perc_nulos</th>\n",
       "    </tr>\n",
       "  </thead>\n",
       "  <tbody>\n",
       "    <tr>\n",
       "      <th>0</th>\n",
       "      <td>title</td>\n",
       "      <td>0</td>\n",
       "      <td>0.000000</td>\n",
       "    </tr>\n",
       "    <tr>\n",
       "      <th>1</th>\n",
       "      <td>price</td>\n",
       "      <td>0</td>\n",
       "      <td>0.000000</td>\n",
       "    </tr>\n",
       "    <tr>\n",
       "      <th>2</th>\n",
       "      <td>sale_price</td>\n",
       "      <td>12825</td>\n",
       "      <td>100.000000</td>\n",
       "    </tr>\n",
       "    <tr>\n",
       "      <th>3</th>\n",
       "      <td>available_quantity</td>\n",
       "      <td>0</td>\n",
       "      <td>0.000000</td>\n",
       "    </tr>\n",
       "    <tr>\n",
       "      <th>4</th>\n",
       "      <td>sold_quantity</td>\n",
       "      <td>0</td>\n",
       "      <td>0.000000</td>\n",
       "    </tr>\n",
       "    <tr>\n",
       "      <th>5</th>\n",
       "      <td>buying_mode</td>\n",
       "      <td>0</td>\n",
       "      <td>0.000000</td>\n",
       "    </tr>\n",
       "    <tr>\n",
       "      <th>6</th>\n",
       "      <td>stop_time</td>\n",
       "      <td>0</td>\n",
       "      <td>0.000000</td>\n",
       "    </tr>\n",
       "    <tr>\n",
       "      <th>7</th>\n",
       "      <td>condition</td>\n",
       "      <td>0</td>\n",
       "      <td>0.000000</td>\n",
       "    </tr>\n",
       "    <tr>\n",
       "      <th>8</th>\n",
       "      <td>permalink</td>\n",
       "      <td>0</td>\n",
       "      <td>0.000000</td>\n",
       "    </tr>\n",
       "    <tr>\n",
       "      <th>9</th>\n",
       "      <td>thumbnail</td>\n",
       "      <td>0</td>\n",
       "      <td>0.000000</td>\n",
       "    </tr>\n",
       "    <tr>\n",
       "      <th>10</th>\n",
       "      <td>accepts_mercadopago</td>\n",
       "      <td>0</td>\n",
       "      <td>0.000000</td>\n",
       "    </tr>\n",
       "    <tr>\n",
       "      <th>11</th>\n",
       "      <td>original_price</td>\n",
       "      <td>10590</td>\n",
       "      <td>82.573099</td>\n",
       "    </tr>\n",
       "    <tr>\n",
       "      <th>12</th>\n",
       "      <td>order_backend</td>\n",
       "      <td>0</td>\n",
       "      <td>0.000000</td>\n",
       "    </tr>\n",
       "    <tr>\n",
       "      <th>13</th>\n",
       "      <td>offer_score</td>\n",
       "      <td>12825</td>\n",
       "      <td>100.000000</td>\n",
       "    </tr>\n",
       "    <tr>\n",
       "      <th>14</th>\n",
       "      <td>offer_share</td>\n",
       "      <td>12825</td>\n",
       "      <td>100.000000</td>\n",
       "    </tr>\n",
       "    <tr>\n",
       "      <th>15</th>\n",
       "      <td>match_score</td>\n",
       "      <td>12825</td>\n",
       "      <td>100.000000</td>\n",
       "    </tr>\n",
       "    <tr>\n",
       "      <th>16</th>\n",
       "      <td>melicoin</td>\n",
       "      <td>12825</td>\n",
       "      <td>100.000000</td>\n",
       "    </tr>\n",
       "    <tr>\n",
       "      <th>17</th>\n",
       "      <td>seller_permalink</td>\n",
       "      <td>12625</td>\n",
       "      <td>98.440546</td>\n",
       "    </tr>\n",
       "    <tr>\n",
       "      <th>18</th>\n",
       "      <td>seller_registration_date</td>\n",
       "      <td>12625</td>\n",
       "      <td>98.440546</td>\n",
       "    </tr>\n",
       "    <tr>\n",
       "      <th>19</th>\n",
       "      <td>seller_car_dealer</td>\n",
       "      <td>0</td>\n",
       "      <td>0.000000</td>\n",
       "    </tr>\n",
       "    <tr>\n",
       "      <th>20</th>\n",
       "      <td>seller_real_estate_agency</td>\n",
       "      <td>0</td>\n",
       "      <td>0.000000</td>\n",
       "    </tr>\n",
       "    <tr>\n",
       "      <th>21</th>\n",
       "      <td>seller_tags</td>\n",
       "      <td>12625</td>\n",
       "      <td>98.440546</td>\n",
       "    </tr>\n",
       "    <tr>\n",
       "      <th>22</th>\n",
       "      <td>prices_prices</td>\n",
       "      <td>0</td>\n",
       "      <td>0.000000</td>\n",
       "    </tr>\n",
       "    <tr>\n",
       "      <th>23</th>\n",
       "      <td>prices_presentation</td>\n",
       "      <td>0</td>\n",
       "      <td>0.000000</td>\n",
       "    </tr>\n",
       "    <tr>\n",
       "      <th>24</th>\n",
       "      <td>prices_payment_method_prices</td>\n",
       "      <td>0</td>\n",
       "      <td>0.000000</td>\n",
       "    </tr>\n",
       "    <tr>\n",
       "      <th>25</th>\n",
       "      <td>prices_reference_prices</td>\n",
       "      <td>0</td>\n",
       "      <td>0.000000</td>\n",
       "    </tr>\n",
       "    <tr>\n",
       "      <th>26</th>\n",
       "      <td>prices_purchase_discounts</td>\n",
       "      <td>0</td>\n",
       "      <td>0.000000</td>\n",
       "    </tr>\n",
       "    <tr>\n",
       "      <th>27</th>\n",
       "      <td>installments_quantity</td>\n",
       "      <td>200</td>\n",
       "      <td>1.559454</td>\n",
       "    </tr>\n",
       "    <tr>\n",
       "      <th>28</th>\n",
       "      <td>installments_amount</td>\n",
       "      <td>200</td>\n",
       "      <td>1.559454</td>\n",
       "    </tr>\n",
       "    <tr>\n",
       "      <th>29</th>\n",
       "      <td>installments_rate</td>\n",
       "      <td>200</td>\n",
       "      <td>1.559454</td>\n",
       "    </tr>\n",
       "    <tr>\n",
       "      <th>30</th>\n",
       "      <td>address_state_name</td>\n",
       "      <td>0</td>\n",
       "      <td>0.000000</td>\n",
       "    </tr>\n",
       "    <tr>\n",
       "      <th>31</th>\n",
       "      <td>address_city_name</td>\n",
       "      <td>0</td>\n",
       "      <td>0.000000</td>\n",
       "    </tr>\n",
       "    <tr>\n",
       "      <th>32</th>\n",
       "      <td>shipping_free_shipping</td>\n",
       "      <td>0</td>\n",
       "      <td>0.000000</td>\n",
       "    </tr>\n",
       "    <tr>\n",
       "      <th>33</th>\n",
       "      <td>shipping_mode</td>\n",
       "      <td>0</td>\n",
       "      <td>0.000000</td>\n",
       "    </tr>\n",
       "    <tr>\n",
       "      <th>34</th>\n",
       "      <td>shipping_tags</td>\n",
       "      <td>0</td>\n",
       "      <td>0.000000</td>\n",
       "    </tr>\n",
       "    <tr>\n",
       "      <th>35</th>\n",
       "      <td>shipping_logistic_type</td>\n",
       "      <td>200</td>\n",
       "      <td>1.559454</td>\n",
       "    </tr>\n",
       "    <tr>\n",
       "      <th>36</th>\n",
       "      <td>shipping_store_pick_up</td>\n",
       "      <td>0</td>\n",
       "      <td>0.000000</td>\n",
       "    </tr>\n",
       "    <tr>\n",
       "      <th>37</th>\n",
       "      <td>seller_address_comment</td>\n",
       "      <td>12825</td>\n",
       "      <td>100.000000</td>\n",
       "    </tr>\n",
       "    <tr>\n",
       "      <th>38</th>\n",
       "      <td>seller_address_address_line</td>\n",
       "      <td>12825</td>\n",
       "      <td>100.000000</td>\n",
       "    </tr>\n",
       "    <tr>\n",
       "      <th>39</th>\n",
       "      <td>seller_address_zip_code</td>\n",
       "      <td>12825</td>\n",
       "      <td>100.000000</td>\n",
       "    </tr>\n",
       "    <tr>\n",
       "      <th>40</th>\n",
       "      <td>seller_address_country_name</td>\n",
       "      <td>0</td>\n",
       "      <td>0.000000</td>\n",
       "    </tr>\n",
       "    <tr>\n",
       "      <th>41</th>\n",
       "      <td>seller_address_state_name</td>\n",
       "      <td>0</td>\n",
       "      <td>0.000000</td>\n",
       "    </tr>\n",
       "    <tr>\n",
       "      <th>42</th>\n",
       "      <td>seller_address_city_name</td>\n",
       "      <td>0</td>\n",
       "      <td>0.000000</td>\n",
       "    </tr>\n",
       "    <tr>\n",
       "      <th>43</th>\n",
       "      <td>seller_address_latitude</td>\n",
       "      <td>12825</td>\n",
       "      <td>100.000000</td>\n",
       "    </tr>\n",
       "    <tr>\n",
       "      <th>44</th>\n",
       "      <td>seller_address_longitude</td>\n",
       "      <td>12825</td>\n",
       "      <td>100.000000</td>\n",
       "    </tr>\n",
       "    <tr>\n",
       "      <th>45</th>\n",
       "      <td>NUM_ATTRIBUTEs</td>\n",
       "      <td>0</td>\n",
       "      <td>0.000000</td>\n",
       "    </tr>\n",
       "    <tr>\n",
       "      <th>46</th>\n",
       "      <td>BRAND</td>\n",
       "      <td>2243</td>\n",
       "      <td>17.489279</td>\n",
       "    </tr>\n",
       "    <tr>\n",
       "      <th>47</th>\n",
       "      <td>ITEM_CONDITION</td>\n",
       "      <td>2</td>\n",
       "      <td>0.015595</td>\n",
       "    </tr>\n",
       "    <tr>\n",
       "      <th>48</th>\n",
       "      <td>MODEL</td>\n",
       "      <td>4364</td>\n",
       "      <td>34.027290</td>\n",
       "    </tr>\n",
       "    <tr>\n",
       "      <th>49</th>\n",
       "      <td>num_tags</td>\n",
       "      <td>0</td>\n",
       "      <td>0.000000</td>\n",
       "    </tr>\n",
       "    <tr>\n",
       "      <th>50</th>\n",
       "      <td>best_seller_candidate</td>\n",
       "      <td>0</td>\n",
       "      <td>0.000000</td>\n",
       "    </tr>\n",
       "    <tr>\n",
       "      <th>51</th>\n",
       "      <td>loyalty_discount_eligible</td>\n",
       "      <td>0</td>\n",
       "      <td>0.000000</td>\n",
       "    </tr>\n",
       "    <tr>\n",
       "      <th>52</th>\n",
       "      <td>good_quality_picture</td>\n",
       "      <td>0</td>\n",
       "      <td>0.000000</td>\n",
       "    </tr>\n",
       "  </tbody>\n",
       "</table>\n",
       "</div>"
      ],
      "text/plain": [
       "                       variables  num_nulos  perc_nulos\n",
       "0                          title          0    0.000000\n",
       "1                          price          0    0.000000\n",
       "2                     sale_price      12825  100.000000\n",
       "3             available_quantity          0    0.000000\n",
       "4                  sold_quantity          0    0.000000\n",
       "5                    buying_mode          0    0.000000\n",
       "6                      stop_time          0    0.000000\n",
       "7                      condition          0    0.000000\n",
       "8                      permalink          0    0.000000\n",
       "9                      thumbnail          0    0.000000\n",
       "10           accepts_mercadopago          0    0.000000\n",
       "11                original_price      10590   82.573099\n",
       "12                 order_backend          0    0.000000\n",
       "13                   offer_score      12825  100.000000\n",
       "14                   offer_share      12825  100.000000\n",
       "15                   match_score      12825  100.000000\n",
       "16                      melicoin      12825  100.000000\n",
       "17              seller_permalink      12625   98.440546\n",
       "18      seller_registration_date      12625   98.440546\n",
       "19             seller_car_dealer          0    0.000000\n",
       "20     seller_real_estate_agency          0    0.000000\n",
       "21                   seller_tags      12625   98.440546\n",
       "22                 prices_prices          0    0.000000\n",
       "23           prices_presentation          0    0.000000\n",
       "24  prices_payment_method_prices          0    0.000000\n",
       "25       prices_reference_prices          0    0.000000\n",
       "26     prices_purchase_discounts          0    0.000000\n",
       "27         installments_quantity        200    1.559454\n",
       "28           installments_amount        200    1.559454\n",
       "29             installments_rate        200    1.559454\n",
       "30            address_state_name          0    0.000000\n",
       "31             address_city_name          0    0.000000\n",
       "32        shipping_free_shipping          0    0.000000\n",
       "33                 shipping_mode          0    0.000000\n",
       "34                 shipping_tags          0    0.000000\n",
       "35        shipping_logistic_type        200    1.559454\n",
       "36        shipping_store_pick_up          0    0.000000\n",
       "37        seller_address_comment      12825  100.000000\n",
       "38   seller_address_address_line      12825  100.000000\n",
       "39       seller_address_zip_code      12825  100.000000\n",
       "40   seller_address_country_name          0    0.000000\n",
       "41     seller_address_state_name          0    0.000000\n",
       "42      seller_address_city_name          0    0.000000\n",
       "43       seller_address_latitude      12825  100.000000\n",
       "44      seller_address_longitude      12825  100.000000\n",
       "45                NUM_ATTRIBUTEs          0    0.000000\n",
       "46                         BRAND       2243   17.489279\n",
       "47                ITEM_CONDITION          2    0.015595\n",
       "48                         MODEL       4364   34.027290\n",
       "49                      num_tags          0    0.000000\n",
       "50         best_seller_candidate          0    0.000000\n",
       "51     loyalty_discount_eligible          0    0.000000\n",
       "52          good_quality_picture          0    0.000000"
      ]
     },
     "execution_count": 76,
     "metadata": {},
     "output_type": "execute_result"
    }
   ],
   "source": [
    "df_nulos = pd.DataFrame(df.isnull().sum()).reset_index(drop=False)\n",
    "df_nulos.columns = [\"variables\", \"num_nulos\"]\n",
    "df_nulos[\"perc_nulos\"] = 100*df_nulos[\"num_nulos\"]/df.shape[0]\n",
    "df_nulos"
   ]
  },
  {
   "cell_type": "code",
   "execution_count": 77,
   "id": "597e7670-a211-4e50-8e0f-6cf865f649a8",
   "metadata": {},
   "outputs": [
    {
     "data": {
      "text/html": [
       "<div>\n",
       "<style scoped>\n",
       "    .dataframe tbody tr th:only-of-type {\n",
       "        vertical-align: middle;\n",
       "    }\n",
       "\n",
       "    .dataframe tbody tr th {\n",
       "        vertical-align: top;\n",
       "    }\n",
       "\n",
       "    .dataframe thead th {\n",
       "        text-align: right;\n",
       "    }\n",
       "</style>\n",
       "<table border=\"1\" class=\"dataframe\">\n",
       "  <thead>\n",
       "    <tr style=\"text-align: right;\">\n",
       "      <th></th>\n",
       "      <th>variables</th>\n",
       "      <th>num_nulos</th>\n",
       "      <th>perc_nulos</th>\n",
       "    </tr>\n",
       "  </thead>\n",
       "  <tbody>\n",
       "    <tr>\n",
       "      <th>2</th>\n",
       "      <td>sale_price</td>\n",
       "      <td>12825</td>\n",
       "      <td>100.000000</td>\n",
       "    </tr>\n",
       "    <tr>\n",
       "      <th>38</th>\n",
       "      <td>seller_address_address_line</td>\n",
       "      <td>12825</td>\n",
       "      <td>100.000000</td>\n",
       "    </tr>\n",
       "    <tr>\n",
       "      <th>13</th>\n",
       "      <td>offer_score</td>\n",
       "      <td>12825</td>\n",
       "      <td>100.000000</td>\n",
       "    </tr>\n",
       "    <tr>\n",
       "      <th>14</th>\n",
       "      <td>offer_share</td>\n",
       "      <td>12825</td>\n",
       "      <td>100.000000</td>\n",
       "    </tr>\n",
       "    <tr>\n",
       "      <th>15</th>\n",
       "      <td>match_score</td>\n",
       "      <td>12825</td>\n",
       "      <td>100.000000</td>\n",
       "    </tr>\n",
       "    <tr>\n",
       "      <th>16</th>\n",
       "      <td>melicoin</td>\n",
       "      <td>12825</td>\n",
       "      <td>100.000000</td>\n",
       "    </tr>\n",
       "    <tr>\n",
       "      <th>44</th>\n",
       "      <td>seller_address_longitude</td>\n",
       "      <td>12825</td>\n",
       "      <td>100.000000</td>\n",
       "    </tr>\n",
       "    <tr>\n",
       "      <th>43</th>\n",
       "      <td>seller_address_latitude</td>\n",
       "      <td>12825</td>\n",
       "      <td>100.000000</td>\n",
       "    </tr>\n",
       "    <tr>\n",
       "      <th>39</th>\n",
       "      <td>seller_address_zip_code</td>\n",
       "      <td>12825</td>\n",
       "      <td>100.000000</td>\n",
       "    </tr>\n",
       "    <tr>\n",
       "      <th>37</th>\n",
       "      <td>seller_address_comment</td>\n",
       "      <td>12825</td>\n",
       "      <td>100.000000</td>\n",
       "    </tr>\n",
       "    <tr>\n",
       "      <th>17</th>\n",
       "      <td>seller_permalink</td>\n",
       "      <td>12625</td>\n",
       "      <td>98.440546</td>\n",
       "    </tr>\n",
       "    <tr>\n",
       "      <th>18</th>\n",
       "      <td>seller_registration_date</td>\n",
       "      <td>12625</td>\n",
       "      <td>98.440546</td>\n",
       "    </tr>\n",
       "    <tr>\n",
       "      <th>21</th>\n",
       "      <td>seller_tags</td>\n",
       "      <td>12625</td>\n",
       "      <td>98.440546</td>\n",
       "    </tr>\n",
       "    <tr>\n",
       "      <th>11</th>\n",
       "      <td>original_price</td>\n",
       "      <td>10590</td>\n",
       "      <td>82.573099</td>\n",
       "    </tr>\n",
       "    <tr>\n",
       "      <th>48</th>\n",
       "      <td>MODEL</td>\n",
       "      <td>4364</td>\n",
       "      <td>34.027290</td>\n",
       "    </tr>\n",
       "    <tr>\n",
       "      <th>46</th>\n",
       "      <td>BRAND</td>\n",
       "      <td>2243</td>\n",
       "      <td>17.489279</td>\n",
       "    </tr>\n",
       "    <tr>\n",
       "      <th>35</th>\n",
       "      <td>shipping_logistic_type</td>\n",
       "      <td>200</td>\n",
       "      <td>1.559454</td>\n",
       "    </tr>\n",
       "    <tr>\n",
       "      <th>29</th>\n",
       "      <td>installments_rate</td>\n",
       "      <td>200</td>\n",
       "      <td>1.559454</td>\n",
       "    </tr>\n",
       "    <tr>\n",
       "      <th>27</th>\n",
       "      <td>installments_quantity</td>\n",
       "      <td>200</td>\n",
       "      <td>1.559454</td>\n",
       "    </tr>\n",
       "    <tr>\n",
       "      <th>28</th>\n",
       "      <td>installments_amount</td>\n",
       "      <td>200</td>\n",
       "      <td>1.559454</td>\n",
       "    </tr>\n",
       "    <tr>\n",
       "      <th>47</th>\n",
       "      <td>ITEM_CONDITION</td>\n",
       "      <td>2</td>\n",
       "      <td>0.015595</td>\n",
       "    </tr>\n",
       "  </tbody>\n",
       "</table>\n",
       "</div>"
      ],
      "text/plain": [
       "                      variables  num_nulos  perc_nulos\n",
       "2                    sale_price      12825  100.000000\n",
       "38  seller_address_address_line      12825  100.000000\n",
       "13                  offer_score      12825  100.000000\n",
       "14                  offer_share      12825  100.000000\n",
       "15                  match_score      12825  100.000000\n",
       "16                     melicoin      12825  100.000000\n",
       "44     seller_address_longitude      12825  100.000000\n",
       "43      seller_address_latitude      12825  100.000000\n",
       "39      seller_address_zip_code      12825  100.000000\n",
       "37       seller_address_comment      12825  100.000000\n",
       "17             seller_permalink      12625   98.440546\n",
       "18     seller_registration_date      12625   98.440546\n",
       "21                  seller_tags      12625   98.440546\n",
       "11               original_price      10590   82.573099\n",
       "48                        MODEL       4364   34.027290\n",
       "46                        BRAND       2243   17.489279\n",
       "35       shipping_logistic_type        200    1.559454\n",
       "29            installments_rate        200    1.559454\n",
       "27        installments_quantity        200    1.559454\n",
       "28          installments_amount        200    1.559454\n",
       "47               ITEM_CONDITION          2    0.015595"
      ]
     },
     "execution_count": 77,
     "metadata": {},
     "output_type": "execute_result"
    }
   ],
   "source": [
    "df_nulos[\n",
    "    df_nulos[\"perc_nulos\"] > 0\n",
    "].sort_values(\n",
    "    by=\"perc_nulos\", \n",
    "    ascending=False\n",
    ")"
   ]
  },
  {
   "cell_type": "markdown",
   "id": "0c3a1a33-576e-49e6-953c-c087b77b3918",
   "metadata": {},
   "source": [
    "### Columnas completamente vacias "
   ]
  },
  {
   "cell_type": "code",
   "execution_count": 78,
   "id": "83c20b28-d770-4bc6-b265-da94cff2c85c",
   "metadata": {},
   "outputs": [
    {
     "data": {
      "text/plain": [
       "array(['sale_price', 'offer_score', 'offer_share', 'match_score',\n",
       "       'melicoin', 'seller_permalink', 'seller_registration_date',\n",
       "       'seller_tags', 'seller_address_comment',\n",
       "       'seller_address_address_line', 'seller_address_zip_code',\n",
       "       'seller_address_latitude', 'seller_address_longitude'],\n",
       "      dtype=object)"
      ]
     },
     "execution_count": 78,
     "metadata": {},
     "output_type": "execute_result"
    }
   ],
   "source": [
    "cols_100_nulas = df_nulos.loc[\n",
    "    df_nulos[\"perc_nulos\"] >95, \"variables\"\n",
    "].unique()\n",
    "\n",
    "df.drop(\n",
    "    columns=cols_100_nulas,\n",
    "    inplace=True\n",
    ")\n",
    "\n",
    "cols_100_nulas"
   ]
  },
  {
   "cell_type": "code",
   "execution_count": 79,
   "id": "2a3114c4-be74-47d0-b799-497e08dee6e4",
   "metadata": {},
   "outputs": [
    {
     "data": {
      "text/html": [
       "<div>\n",
       "<style scoped>\n",
       "    .dataframe tbody tr th:only-of-type {\n",
       "        vertical-align: middle;\n",
       "    }\n",
       "\n",
       "    .dataframe tbody tr th {\n",
       "        vertical-align: top;\n",
       "    }\n",
       "\n",
       "    .dataframe thead th {\n",
       "        text-align: right;\n",
       "    }\n",
       "</style>\n",
       "<table border=\"1\" class=\"dataframe\">\n",
       "  <thead>\n",
       "    <tr style=\"text-align: right;\">\n",
       "      <th></th>\n",
       "      <th>variables</th>\n",
       "      <th>num_nulos</th>\n",
       "      <th>perc_nulos</th>\n",
       "    </tr>\n",
       "  </thead>\n",
       "  <tbody>\n",
       "    <tr>\n",
       "      <th>11</th>\n",
       "      <td>original_price</td>\n",
       "      <td>10590</td>\n",
       "      <td>82.573099</td>\n",
       "    </tr>\n",
       "    <tr>\n",
       "      <th>48</th>\n",
       "      <td>MODEL</td>\n",
       "      <td>4364</td>\n",
       "      <td>34.027290</td>\n",
       "    </tr>\n",
       "    <tr>\n",
       "      <th>46</th>\n",
       "      <td>BRAND</td>\n",
       "      <td>2243</td>\n",
       "      <td>17.489279</td>\n",
       "    </tr>\n",
       "    <tr>\n",
       "      <th>27</th>\n",
       "      <td>installments_quantity</td>\n",
       "      <td>200</td>\n",
       "      <td>1.559454</td>\n",
       "    </tr>\n",
       "    <tr>\n",
       "      <th>28</th>\n",
       "      <td>installments_amount</td>\n",
       "      <td>200</td>\n",
       "      <td>1.559454</td>\n",
       "    </tr>\n",
       "    <tr>\n",
       "      <th>29</th>\n",
       "      <td>installments_rate</td>\n",
       "      <td>200</td>\n",
       "      <td>1.559454</td>\n",
       "    </tr>\n",
       "    <tr>\n",
       "      <th>35</th>\n",
       "      <td>shipping_logistic_type</td>\n",
       "      <td>200</td>\n",
       "      <td>1.559454</td>\n",
       "    </tr>\n",
       "    <tr>\n",
       "      <th>47</th>\n",
       "      <td>ITEM_CONDITION</td>\n",
       "      <td>2</td>\n",
       "      <td>0.015595</td>\n",
       "    </tr>\n",
       "  </tbody>\n",
       "</table>\n",
       "</div>"
      ],
      "text/plain": [
       "                 variables  num_nulos  perc_nulos\n",
       "11          original_price      10590   82.573099\n",
       "48                   MODEL       4364   34.027290\n",
       "46                   BRAND       2243   17.489279\n",
       "27   installments_quantity        200    1.559454\n",
       "28     installments_amount        200    1.559454\n",
       "29       installments_rate        200    1.559454\n",
       "35  shipping_logistic_type        200    1.559454\n",
       "47          ITEM_CONDITION          2    0.015595"
      ]
     },
     "execution_count": 79,
     "metadata": {},
     "output_type": "execute_result"
    }
   ],
   "source": [
    "df_nulos_evaluar = df_nulos[\n",
    "    (df_nulos[\"perc_nulos\"]>0)&(df_nulos[\"perc_nulos\"]<95)\n",
    "].sort_values(\n",
    "    by=\"perc_nulos\", \n",
    "    ascending=False\n",
    ")\n",
    "\n",
    "df_nulos_evaluar"
   ]
  },
  {
   "cell_type": "code",
   "execution_count": 80,
   "id": "b1bb4831-945c-42f7-b907-d8e718341922",
   "metadata": {},
   "outputs": [
    {
     "data": {
      "text/plain": [
       "array(['original_price', 'MODEL', 'BRAND', 'installments_quantity',\n",
       "       'installments_amount', 'installments_rate',\n",
       "       'shipping_logistic_type', 'ITEM_CONDITION'], dtype=object)"
      ]
     },
     "execution_count": 80,
     "metadata": {},
     "output_type": "execute_result"
    }
   ],
   "source": [
    "cols_nulos_evaluar = df_nulos_evaluar[\"variables\"].unique()\n",
    "\n",
    "cols_nulos_evaluar"
   ]
  },
  {
   "cell_type": "markdown",
   "id": "66551c1e-3b4a-41c8-a815-32f95c9fb0ce",
   "metadata": {},
   "source": [
    "original_price"
   ]
  },
  {
   "cell_type": "code",
   "execution_count": 81,
   "id": "855581ee-73ce-446a-885f-aa1ab769ba08",
   "metadata": {},
   "outputs": [],
   "source": [
    "df[\"tiene_descuento\"] = 1\n",
    "\n",
    "df.loc[\n",
    "    df[\"original_price\"].isnull(),\n",
    "    \"tiene_descuento\"\n",
    "] = 0\n",
    "\n",
    "df.drop(\n",
    "    columns=[\"original_price\"], \n",
    "    inplace=True\n",
    ")"
   ]
  },
  {
   "cell_type": "markdown",
   "id": "85d2f0ab-bc8b-4763-9c0d-aac6eff9bc9e",
   "metadata": {},
   "source": [
    "MODEL"
   ]
  },
  {
   "cell_type": "code",
   "execution_count": 82,
   "id": "7de618a4-0f5b-4d66-b124-43affdd4c7f7",
   "metadata": {},
   "outputs": [
    {
     "data": {
      "text/html": [
       "<div>\n",
       "<style scoped>\n",
       "    .dataframe tbody tr th:only-of-type {\n",
       "        vertical-align: middle;\n",
       "    }\n",
       "\n",
       "    .dataframe tbody tr th {\n",
       "        vertical-align: top;\n",
       "    }\n",
       "\n",
       "    .dataframe thead th {\n",
       "        text-align: right;\n",
       "    }\n",
       "</style>\n",
       "<table border=\"1\" class=\"dataframe\">\n",
       "  <thead>\n",
       "    <tr style=\"text-align: right;\">\n",
       "      <th></th>\n",
       "      <th>Modelo</th>\n",
       "      <th>frecuencia</th>\n",
       "    </tr>\n",
       "  </thead>\n",
       "  <tbody>\n",
       "    <tr>\n",
       "      <th>0</th>\n",
       "      <td>2021</td>\n",
       "      <td>147</td>\n",
       "    </tr>\n",
       "    <tr>\n",
       "      <th>1</th>\n",
       "      <td>2020</td>\n",
       "      <td>118</td>\n",
       "    </tr>\n",
       "    <tr>\n",
       "      <th>2</th>\n",
       "      <td>Luz Blanca</td>\n",
       "      <td>24</td>\n",
       "    </tr>\n",
       "    <tr>\n",
       "      <th>3</th>\n",
       "      <td>1</td>\n",
       "      <td>22</td>\n",
       "    </tr>\n",
       "    <tr>\n",
       "      <th>4</th>\n",
       "      <td>360</td>\n",
       "      <td>20</td>\n",
       "    </tr>\n",
       "    <tr>\n",
       "      <th>...</th>\n",
       "      <td>...</td>\n",
       "      <td>...</td>\n",
       "    </tr>\n",
       "    <tr>\n",
       "      <th>2822</th>\n",
       "      <td>Gazebo</td>\n",
       "      <td>1</td>\n",
       "    </tr>\n",
       "    <tr>\n",
       "      <th>2823</th>\n",
       "      <td>Silla Grande Porta Vaso</td>\n",
       "      <td>1</td>\n",
       "    </tr>\n",
       "    <tr>\n",
       "      <th>2824</th>\n",
       "      <td>2 Personas</td>\n",
       "      <td>1</td>\n",
       "    </tr>\n",
       "    <tr>\n",
       "      <th>2825</th>\n",
       "      <td>homecollection</td>\n",
       "      <td>1</td>\n",
       "    </tr>\n",
       "    <tr>\n",
       "      <th>4895</th>\n",
       "      <td>Tamaño grande</td>\n",
       "      <td>1</td>\n",
       "    </tr>\n",
       "  </tbody>\n",
       "</table>\n",
       "<p>4896 rows × 2 columns</p>\n",
       "</div>"
      ],
      "text/plain": [
       "                       Modelo  frecuencia\n",
       "0                        2021         147\n",
       "1                        2020         118\n",
       "2                  Luz Blanca          24\n",
       "3                           1          22\n",
       "4                         360          20\n",
       "...                       ...         ...\n",
       "2822                   Gazebo           1\n",
       "2823  Silla Grande Porta Vaso           1\n",
       "2824               2 Personas           1\n",
       "2825           homecollection           1\n",
       "4895            Tamaño grande           1\n",
       "\n",
       "[4896 rows x 2 columns]"
      ]
     },
     "execution_count": 82,
     "metadata": {},
     "output_type": "execute_result"
    }
   ],
   "source": [
    "df_models = pd.DataFrame(\n",
    "    df[\"MODEL\"].value_counts()\n",
    ").reset_index()\n",
    "\n",
    "df_models.columns = [\"Modelo\", \"frecuencia\"]\n",
    "\n",
    "df_models.sort_values(\n",
    "    by=[\"frecuencia\"], \n",
    "    ascending=False\n",
    ")"
   ]
  },
  {
   "cell_type": "code",
   "execution_count": 83,
   "id": "25b1cf2d-ef5c-408b-92df-e7f656117b46",
   "metadata": {},
   "outputs": [],
   "source": [
    "df[\"MODEL_bool\"] = df[\"MODEL\"].map(\n",
    "    lambda x : 0 if pd.isnull(x) else 1\n",
    ")"
   ]
  },
  {
   "cell_type": "code",
   "execution_count": 84,
   "id": "76918f4d-3c6c-4888-9ed1-4925016182c6",
   "metadata": {},
   "outputs": [
    {
     "data": {
      "text/html": [
       "<div>\n",
       "<style scoped>\n",
       "    .dataframe tbody tr th:only-of-type {\n",
       "        vertical-align: middle;\n",
       "    }\n",
       "\n",
       "    .dataframe tbody tr th {\n",
       "        vertical-align: top;\n",
       "    }\n",
       "\n",
       "    .dataframe thead th {\n",
       "        text-align: right;\n",
       "    }\n",
       "</style>\n",
       "<table border=\"1\" class=\"dataframe\">\n",
       "  <thead>\n",
       "    <tr style=\"text-align: right;\">\n",
       "      <th></th>\n",
       "      <th>MODEL</th>\n",
       "      <th>MODEL_bool</th>\n",
       "    </tr>\n",
       "  </thead>\n",
       "  <tbody>\n",
       "    <tr>\n",
       "      <th>0</th>\n",
       "      <td>402400</td>\n",
       "      <td>1</td>\n",
       "    </tr>\n",
       "    <tr>\n",
       "      <th>1</th>\n",
       "      <td>MILANO</td>\n",
       "      <td>1</td>\n",
       "    </tr>\n",
       "    <tr>\n",
       "      <th>2</th>\n",
       "      <td>x32</td>\n",
       "      <td>1</td>\n",
       "    </tr>\n",
       "    <tr>\n",
       "      <th>3</th>\n",
       "      <td>Cj631</td>\n",
       "      <td>1</td>\n",
       "    </tr>\n",
       "    <tr>\n",
       "      <th>4</th>\n",
       "      <td>x3</td>\n",
       "      <td>1</td>\n",
       "    </tr>\n",
       "    <tr>\n",
       "      <th>...</th>\n",
       "      <td>...</td>\n",
       "      <td>...</td>\n",
       "    </tr>\n",
       "    <tr>\n",
       "      <th>12820</th>\n",
       "      <td>3 antenas</td>\n",
       "      <td>1</td>\n",
       "    </tr>\n",
       "    <tr>\n",
       "      <th>12821</th>\n",
       "      <td>1200v 1A</td>\n",
       "      <td>1</td>\n",
       "    </tr>\n",
       "    <tr>\n",
       "      <th>12822</th>\n",
       "      <td>camara ip</td>\n",
       "      <td>1</td>\n",
       "    </tr>\n",
       "    <tr>\n",
       "      <th>12823</th>\n",
       "      <td>Tamaño grande</td>\n",
       "      <td>1</td>\n",
       "    </tr>\n",
       "    <tr>\n",
       "      <th>12824</th>\n",
       "      <td>Tapo C200 V1</td>\n",
       "      <td>1</td>\n",
       "    </tr>\n",
       "  </tbody>\n",
       "</table>\n",
       "<p>12825 rows × 2 columns</p>\n",
       "</div>"
      ],
      "text/plain": [
       "               MODEL  MODEL_bool\n",
       "0             402400           1\n",
       "1             MILANO           1\n",
       "2                x32           1\n",
       "3              Cj631           1\n",
       "4                 x3           1\n",
       "...              ...         ...\n",
       "12820      3 antenas           1\n",
       "12821       1200v 1A           1\n",
       "12822      camara ip           1\n",
       "12823  Tamaño grande           1\n",
       "12824   Tapo C200 V1           1\n",
       "\n",
       "[12825 rows x 2 columns]"
      ]
     },
     "execution_count": 84,
     "metadata": {},
     "output_type": "execute_result"
    }
   ],
   "source": [
    "df[[\"MODEL\", \"MODEL_bool\"]]"
   ]
  },
  {
   "cell_type": "code",
   "execution_count": 85,
   "id": "e22c55b3-479f-485a-bfec-6ecc46a2af02",
   "metadata": {},
   "outputs": [],
   "source": [
    "df.drop(\n",
    "    columns=[\"MODEL\"], \n",
    "    inplace=True\n",
    ")"
   ]
  },
  {
   "cell_type": "code",
   "execution_count": 86,
   "id": "91f38f1a-af7a-40a9-b524-9afa0f0d8fa8",
   "metadata": {},
   "outputs": [
    {
     "data": {
      "text/plain": [
       "array(['original_price', 'MODEL', 'BRAND', 'installments_quantity',\n",
       "       'installments_amount', 'installments_rate',\n",
       "       'shipping_logistic_type', 'ITEM_CONDITION'], dtype=object)"
      ]
     },
     "execution_count": 86,
     "metadata": {},
     "output_type": "execute_result"
    }
   ],
   "source": [
    "cols_nulos_evaluar"
   ]
  },
  {
   "cell_type": "markdown",
   "id": "0d2619e9-c437-4a7d-aff2-8273a7251385",
   "metadata": {},
   "source": [
    "BRAND"
   ]
  },
  {
   "cell_type": "code",
   "execution_count": 87,
   "id": "c87bba28-876d-4ba6-b61e-5cfa737db2fa",
   "metadata": {},
   "outputs": [
    {
     "data": {
      "text/html": [
       "<div>\n",
       "<style scoped>\n",
       "    .dataframe tbody tr th:only-of-type {\n",
       "        vertical-align: middle;\n",
       "    }\n",
       "\n",
       "    .dataframe tbody tr th {\n",
       "        vertical-align: top;\n",
       "    }\n",
       "\n",
       "    .dataframe thead th {\n",
       "        text-align: right;\n",
       "    }\n",
       "</style>\n",
       "<table border=\"1\" class=\"dataframe\">\n",
       "  <thead>\n",
       "    <tr style=\"text-align: right;\">\n",
       "      <th></th>\n",
       "      <th>Brand</th>\n",
       "      <th>frecuencia</th>\n",
       "    </tr>\n",
       "  </thead>\n",
       "  <tbody>\n",
       "    <tr>\n",
       "      <th>0</th>\n",
       "      <td>Genérica</td>\n",
       "      <td>424</td>\n",
       "    </tr>\n",
       "    <tr>\n",
       "      <th>1</th>\n",
       "      <td>Generico</td>\n",
       "      <td>131</td>\n",
       "    </tr>\n",
       "    <tr>\n",
       "      <th>2</th>\n",
       "      <td>Xiaomi</td>\n",
       "      <td>69</td>\n",
       "    </tr>\n",
       "    <tr>\n",
       "      <th>3</th>\n",
       "      <td>Truper</td>\n",
       "      <td>62</td>\n",
       "    </tr>\n",
       "    <tr>\n",
       "      <th>4</th>\n",
       "      <td>Medellín Electrónica</td>\n",
       "      <td>60</td>\n",
       "    </tr>\n",
       "    <tr>\n",
       "      <th>...</th>\n",
       "      <td>...</td>\n",
       "      <td>...</td>\n",
       "    </tr>\n",
       "    <tr>\n",
       "      <th>2306</th>\n",
       "      <td>ECOM.WORLD</td>\n",
       "      <td>1</td>\n",
       "    </tr>\n",
       "    <tr>\n",
       "      <th>2305</th>\n",
       "      <td>Fenbo</td>\n",
       "      <td>1</td>\n",
       "    </tr>\n",
       "    <tr>\n",
       "      <th>2304</th>\n",
       "      <td>GAMES</td>\n",
       "      <td>1</td>\n",
       "    </tr>\n",
       "    <tr>\n",
       "      <th>2303</th>\n",
       "      <td>Tutu Love</td>\n",
       "      <td>1</td>\n",
       "    </tr>\n",
       "    <tr>\n",
       "      <th>3512</th>\n",
       "      <td>Homesafe</td>\n",
       "      <td>1</td>\n",
       "    </tr>\n",
       "  </tbody>\n",
       "</table>\n",
       "<p>3513 rows × 2 columns</p>\n",
       "</div>"
      ],
      "text/plain": [
       "                     Brand  frecuencia\n",
       "0                 Genérica         424\n",
       "1                 Generico         131\n",
       "2                   Xiaomi          69\n",
       "3                   Truper          62\n",
       "4     Medellín Electrónica          60\n",
       "...                    ...         ...\n",
       "2306            ECOM.WORLD           1\n",
       "2305                 Fenbo           1\n",
       "2304                 GAMES           1\n",
       "2303             Tutu Love           1\n",
       "3512              Homesafe           1\n",
       "\n",
       "[3513 rows x 2 columns]"
      ]
     },
     "execution_count": 87,
     "metadata": {},
     "output_type": "execute_result"
    }
   ],
   "source": [
    "df_models = pd.DataFrame(\n",
    "    df[\"BRAND\"].value_counts()\n",
    ").reset_index()\n",
    "\n",
    "df_models.columns = [\"Brand\", \"frecuencia\"]\n",
    "\n",
    "df_models.sort_values(\n",
    "    by=[\"frecuencia\"], \n",
    "    ascending=False\n",
    ")"
   ]
  },
  {
   "cell_type": "code",
   "execution_count": 88,
   "id": "e65ff14e-5df5-4442-9a5d-ac6eff80dd34",
   "metadata": {},
   "outputs": [],
   "source": [
    "df[\"BRAND_bool\"] = df[\"BRAND\"].map(\n",
    "    lambda x : 0 if pd.isnull(x) else 1\n",
    ")"
   ]
  },
  {
   "cell_type": "code",
   "execution_count": 89,
   "id": "b64e5dc4-b993-49ef-948b-de825ce903f0",
   "metadata": {},
   "outputs": [
    {
     "data": {
      "text/html": [
       "<div>\n",
       "<style scoped>\n",
       "    .dataframe tbody tr th:only-of-type {\n",
       "        vertical-align: middle;\n",
       "    }\n",
       "\n",
       "    .dataframe tbody tr th {\n",
       "        vertical-align: top;\n",
       "    }\n",
       "\n",
       "    .dataframe thead th {\n",
       "        text-align: right;\n",
       "    }\n",
       "</style>\n",
       "<table border=\"1\" class=\"dataframe\">\n",
       "  <thead>\n",
       "    <tr style=\"text-align: right;\">\n",
       "      <th></th>\n",
       "      <th>BRAND</th>\n",
       "      <th>BRAND_bool</th>\n",
       "    </tr>\n",
       "  </thead>\n",
       "  <tbody>\n",
       "    <tr>\n",
       "      <th>0</th>\n",
       "      <td>Energy Plus</td>\n",
       "      <td>1</td>\n",
       "    </tr>\n",
       "    <tr>\n",
       "      <th>1</th>\n",
       "      <td>Vince</td>\n",
       "      <td>1</td>\n",
       "    </tr>\n",
       "    <tr>\n",
       "      <th>2</th>\n",
       "      <td>candeles</td>\n",
       "      <td>1</td>\n",
       "    </tr>\n",
       "    <tr>\n",
       "      <th>3</th>\n",
       "      <td>Genérica</td>\n",
       "      <td>1</td>\n",
       "    </tr>\n",
       "    <tr>\n",
       "      <th>4</th>\n",
       "      <td>NaN</td>\n",
       "      <td>0</td>\n",
       "    </tr>\n",
       "    <tr>\n",
       "      <th>...</th>\n",
       "      <td>...</td>\n",
       "      <td>...</td>\n",
       "    </tr>\n",
       "    <tr>\n",
       "      <th>12820</th>\n",
       "      <td>NaN</td>\n",
       "      <td>0</td>\n",
       "    </tr>\n",
       "    <tr>\n",
       "      <th>12821</th>\n",
       "      <td>Genérica</td>\n",
       "      <td>1</td>\n",
       "    </tr>\n",
       "    <tr>\n",
       "      <th>12822</th>\n",
       "      <td>Vision</td>\n",
       "      <td>1</td>\n",
       "    </tr>\n",
       "    <tr>\n",
       "      <th>12823</th>\n",
       "      <td>Karson</td>\n",
       "      <td>1</td>\n",
       "    </tr>\n",
       "    <tr>\n",
       "      <th>12824</th>\n",
       "      <td>TP-Link</td>\n",
       "      <td>1</td>\n",
       "    </tr>\n",
       "  </tbody>\n",
       "</table>\n",
       "<p>12825 rows × 2 columns</p>\n",
       "</div>"
      ],
      "text/plain": [
       "             BRAND  BRAND_bool\n",
       "0      Energy Plus           1\n",
       "1            Vince           1\n",
       "2         candeles           1\n",
       "3         Genérica           1\n",
       "4              NaN           0\n",
       "...            ...         ...\n",
       "12820          NaN           0\n",
       "12821     Genérica           1\n",
       "12822       Vision           1\n",
       "12823       Karson           1\n",
       "12824      TP-Link           1\n",
       "\n",
       "[12825 rows x 2 columns]"
      ]
     },
     "execution_count": 89,
     "metadata": {},
     "output_type": "execute_result"
    }
   ],
   "source": [
    "df[[\"BRAND\", \"BRAND_bool\"]]"
   ]
  },
  {
   "cell_type": "code",
   "execution_count": 90,
   "id": "cacb3e4d-f81e-4aad-b93a-1afa206bfb0b",
   "metadata": {},
   "outputs": [],
   "source": [
    "df.drop(\n",
    "    columns=[\"BRAND\"], \n",
    "    inplace=True\n",
    ")"
   ]
  },
  {
   "cell_type": "code",
   "execution_count": 91,
   "id": "6b7ce342-606f-480a-90d4-61617e04f8fb",
   "metadata": {},
   "outputs": [
    {
     "data": {
      "text/plain": [
       "array(['original_price', 'MODEL', 'BRAND', 'installments_quantity',\n",
       "       'installments_amount', 'installments_rate',\n",
       "       'shipping_logistic_type', 'ITEM_CONDITION'], dtype=object)"
      ]
     },
     "execution_count": 91,
     "metadata": {},
     "output_type": "execute_result"
    }
   ],
   "source": [
    "cols_nulos_evaluar"
   ]
  },
  {
   "cell_type": "markdown",
   "id": "b3a52fff-db0e-42ed-be33-d2add94b394b",
   "metadata": {},
   "source": [
    "### Filas con nulos"
   ]
  },
  {
   "cell_type": "code",
   "execution_count": 92,
   "id": "1652c745-0ce6-40f8-911d-ce7e3be75207",
   "metadata": {},
   "outputs": [],
   "source": [
    "cols_for_rows = ['installments_quantity',\n",
    "       'installments_amount', 'installments_rate',\n",
    "       'shipping_logistic_type', 'ITEM_CONDITION']"
   ]
  },
  {
   "cell_type": "code",
   "execution_count": 93,
   "id": "83780c10-9909-4c26-81b6-3dd5d7bae123",
   "metadata": {},
   "outputs": [
    {
     "data": {
      "text/html": [
       "<div>\n",
       "<style scoped>\n",
       "    .dataframe tbody tr th:only-of-type {\n",
       "        vertical-align: middle;\n",
       "    }\n",
       "\n",
       "    .dataframe tbody tr th {\n",
       "        vertical-align: top;\n",
       "    }\n",
       "\n",
       "    .dataframe thead th {\n",
       "        text-align: right;\n",
       "    }\n",
       "</style>\n",
       "<table border=\"1\" class=\"dataframe\">\n",
       "  <thead>\n",
       "    <tr style=\"text-align: right;\">\n",
       "      <th></th>\n",
       "      <th>fila_nulo</th>\n",
       "    </tr>\n",
       "  </thead>\n",
       "  <tbody>\n",
       "    <tr>\n",
       "      <th>11839</th>\n",
       "      <td>4</td>\n",
       "    </tr>\n",
       "    <tr>\n",
       "      <th>8642</th>\n",
       "      <td>4</td>\n",
       "    </tr>\n",
       "    <tr>\n",
       "      <th>8551</th>\n",
       "      <td>4</td>\n",
       "    </tr>\n",
       "    <tr>\n",
       "      <th>8552</th>\n",
       "      <td>4</td>\n",
       "    </tr>\n",
       "    <tr>\n",
       "      <th>8553</th>\n",
       "      <td>4</td>\n",
       "    </tr>\n",
       "    <tr>\n",
       "      <th>...</th>\n",
       "      <td>...</td>\n",
       "    </tr>\n",
       "    <tr>\n",
       "      <th>4278</th>\n",
       "      <td>0</td>\n",
       "    </tr>\n",
       "    <tr>\n",
       "      <th>4279</th>\n",
       "      <td>0</td>\n",
       "    </tr>\n",
       "    <tr>\n",
       "      <th>4280</th>\n",
       "      <td>0</td>\n",
       "    </tr>\n",
       "    <tr>\n",
       "      <th>4281</th>\n",
       "      <td>0</td>\n",
       "    </tr>\n",
       "    <tr>\n",
       "      <th>12824</th>\n",
       "      <td>0</td>\n",
       "    </tr>\n",
       "  </tbody>\n",
       "</table>\n",
       "<p>12825 rows × 1 columns</p>\n",
       "</div>"
      ],
      "text/plain": [
       "       fila_nulo\n",
       "11839          4\n",
       "8642           4\n",
       "8551           4\n",
       "8552           4\n",
       "8553           4\n",
       "...          ...\n",
       "4278           0\n",
       "4279           0\n",
       "4280           0\n",
       "4281           0\n",
       "12824          0\n",
       "\n",
       "[12825 rows x 1 columns]"
      ]
     },
     "execution_count": 93,
     "metadata": {},
     "output_type": "execute_result"
    }
   ],
   "source": [
    "df_rows_nulos = pd.DataFrame(\n",
    "    df[cols_for_rows].isnull().sum(axis=1)\n",
    ")\n",
    "\n",
    "df_rows_nulos.columns = [\"fila_nulo\"]\n",
    "\n",
    "df_rows_nulos.sort_values(\n",
    "    by=[\"fila_nulo\"], \n",
    "    ascending=False\n",
    ")"
   ]
  },
  {
   "cell_type": "code",
   "execution_count": 94,
   "id": "1aa0cece-2f99-42a6-97a7-f1faeae952f1",
   "metadata": {},
   "outputs": [
    {
     "data": {
      "text/plain": [
       "Int64Index([ 7300,  7301,  7302,  7303,  7304,  7305,  7306,  7307,  7308,\n",
       "             7309,\n",
       "            ...\n",
       "            11866, 11867, 11868, 11869, 11870, 11871, 11872, 11873, 11874,\n",
       "            12159],\n",
       "           dtype='int64', length=202)"
      ]
     },
     "execution_count": 94,
     "metadata": {},
     "output_type": "execute_result"
    }
   ],
   "source": [
    "indices_con_nulos = df_rows_nulos[df_rows_nulos[\"fila_nulo\"] > 0].index\n",
    "\n",
    "df.drop(\n",
    "    index=indices_con_nulos,\n",
    "    inplace=True\n",
    ")\n",
    "\n",
    "indices_con_nulos"
   ]
  },
  {
   "cell_type": "code",
   "execution_count": 95,
   "id": "1d4641b6-197f-4d3a-8a78-6992d3aee98b",
   "metadata": {},
   "outputs": [
    {
     "data": {
      "text/plain": [
       "title                           0\n",
       "price                           0\n",
       "available_quantity              0\n",
       "sold_quantity                   0\n",
       "buying_mode                     0\n",
       "stop_time                       0\n",
       "condition                       0\n",
       "permalink                       0\n",
       "thumbnail                       0\n",
       "accepts_mercadopago             0\n",
       "order_backend                   0\n",
       "seller_car_dealer               0\n",
       "seller_real_estate_agency       0\n",
       "prices_prices                   0\n",
       "prices_presentation             0\n",
       "prices_payment_method_prices    0\n",
       "prices_reference_prices         0\n",
       "prices_purchase_discounts       0\n",
       "installments_quantity           0\n",
       "installments_amount             0\n",
       "installments_rate               0\n",
       "address_state_name              0\n",
       "address_city_name               0\n",
       "shipping_free_shipping          0\n",
       "shipping_mode                   0\n",
       "shipping_tags                   0\n",
       "shipping_logistic_type          0\n",
       "shipping_store_pick_up          0\n",
       "seller_address_country_name     0\n",
       "seller_address_state_name       0\n",
       "seller_address_city_name        0\n",
       "NUM_ATTRIBUTEs                  0\n",
       "ITEM_CONDITION                  0\n",
       "num_tags                        0\n",
       "best_seller_candidate           0\n",
       "loyalty_discount_eligible       0\n",
       "good_quality_picture            0\n",
       "tiene_descuento                 0\n",
       "MODEL_bool                      0\n",
       "BRAND_bool                      0\n",
       "dtype: int64"
      ]
     },
     "execution_count": 95,
     "metadata": {},
     "output_type": "execute_result"
    }
   ],
   "source": [
    "df.isnull().sum()"
   ]
  },
  {
   "cell_type": "markdown",
   "id": "38bdaf26-8e3d-4680-b3a9-fd68c49cd81f",
   "metadata": {
    "tags": []
   },
   "source": [
    "## Columnas con dict o list"
   ]
  },
  {
   "cell_type": "code",
   "execution_count": 96,
   "id": "c07c9826-031c-4f40-8652-0c4dbc949cb1",
   "metadata": {},
   "outputs": [
    {
     "data": {
      "text/plain": [
       "[]"
      ]
     },
     "execution_count": 96,
     "metadata": {},
     "output_type": "execute_result"
    }
   ],
   "source": [
    "cols_complex_type = constants.KEYS_LIST_TYPES + list(constants.KEYS_JSON_TYPES.keys())\n",
    "\n",
    "[x for x in df.columns if x in cols_complex_type]"
   ]
  },
  {
   "cell_type": "code",
   "execution_count": 97,
   "id": "7c546fc8-e4e0-432a-a911-e71c32da439f",
   "metadata": {},
   "outputs": [
    {
     "name": "stdout",
     "output_type": "stream",
     "text": [
      "prices_prices\n",
      "[{'id': '20', 'type': 'standard', 'amount': 49900, 'regular_amount': None, 'currency_id': 'COP', 'last_updated': '2021-07-29T01:09:44Z', 'conditions': {'context_restrictions': [], 'start_time': None, 'end_time': None, 'eligible': True}, 'exchange_rate_context': 'DEFAULT', 'metadata': {}}, {'id': '67', 'type': 'promotion', 'amount': 47405, 'regular_amount': 49900, 'currency_id': 'COP', 'last_updated': '2022-02-16T21:55:11Z', 'conditions': {'context_restrictions': ['channel_marketplace'], 'start_time': '2022-02-16T05:00:00Z', 'end_time': '2022-02-23T04:59:59Z', 'eligible': True}, 'exchange_rate_context': 'DEFAULT', 'metadata': {'promotion_id': '1633377-MCO446165009', 'promotion_type': 'custom'}}]\n",
      "prices_presentation\n",
      "{'display_currency': 'COP'}\n",
      "prices_payment_method_prices\n",
      "[]\n",
      "prices_reference_prices\n",
      "[]\n",
      "prices_purchase_discounts\n",
      "[]\n",
      "shipping_tags\n",
      "['fulfillment', 'self_service_in']\n"
     ]
    }
   ],
   "source": [
    "special_type_cols = []\n",
    "for col in df.columns:\n",
    "    value = str(df.loc[~df[col].isnull(), col][0])\n",
    "    if ((\"[\" in value)|(\"{\" in value)):\n",
    "        print(col)\n",
    "        print(value)\n",
    "        special_type_cols.append(col)"
   ]
  },
  {
   "cell_type": "code",
   "execution_count": 98,
   "id": "0edf94b4-85fc-46ad-a214-7d67195c5020",
   "metadata": {},
   "outputs": [
    {
     "data": {
      "text/plain": [
       "['prices_prices',\n",
       " 'prices_presentation',\n",
       " 'prices_payment_method_prices',\n",
       " 'prices_reference_prices',\n",
       " 'prices_purchase_discounts',\n",
       " 'shipping_tags']"
      ]
     },
     "execution_count": 98,
     "metadata": {},
     "output_type": "execute_result"
    }
   ],
   "source": [
    "df.drop(\n",
    "    columns=special_type_cols,\n",
    "    inplace=True\n",
    ")\n",
    "special_type_cols"
   ]
  },
  {
   "cell_type": "markdown",
   "id": "effbb933-2644-4f0e-9abf-97f1344adcf8",
   "metadata": {},
   "source": [
    "# Evaluacion de variables "
   ]
  },
  {
   "cell_type": "markdown",
   "id": "29b3d009-ad41-4fdd-97c7-9e5afe2a4ebf",
   "metadata": {},
   "source": [
    "### Enlaces"
   ]
  },
  {
   "cell_type": "code",
   "execution_count": 99,
   "id": "761acca6-b940-4a96-b4da-4ceeebae84fe",
   "metadata": {},
   "outputs": [
    {
     "data": {
      "text/plain": [
       "['permalink', 'thumbnail']"
      ]
     },
     "execution_count": 99,
     "metadata": {},
     "output_type": "execute_result"
    }
   ],
   "source": [
    "cols_enlaces = [\"permalink\", \"thumbnail\"]\n",
    "\n",
    "df.drop(\n",
    "    columns=cols_enlaces,\n",
    "    inplace=True\n",
    ")\n",
    "\n",
    "cols_enlaces"
   ]
  },
  {
   "cell_type": "markdown",
   "id": "8ca775ac-bc41-471c-ae6b-62cc0baee3ab",
   "metadata": {},
   "source": [
    "### Titulo"
   ]
  },
  {
   "cell_type": "code",
   "execution_count": 100,
   "id": "029221fe-9000-4ac8-9440-950d8f6b46da",
   "metadata": {},
   "outputs": [
    {
     "data": {
      "text/plain": [
       "0        Bomba De Succión Al Vacío Para Baños, Cañerías...\n",
       "1                        Base Pata Escritorio Milano Negra\n",
       "2        Velas Pebetero 32und Luz Decoración Aluminio M...\n",
       "3        Repuesto Cono  Exprimidor Black And Decker Cj ...\n",
       "4        Set X3 Recipientes Porta Comida Hermetico Vidr...\n",
       "                               ...                        \n",
       "12820    Camara Robotica Inalambrica Wifi 3 Antenas 360...\n",
       "12821    Fuente De Voltaje 12 V 1 A Para Cctv Hikvision...\n",
       "12822    Camara Ip Wifi Vision Nocturna  2mpx 3 Antenas...\n",
       "12823    Caja Fuerte Digital Karson Gran Capacidad 16 L...\n",
       "12824    Cámara De Seguridad Tp-link Tapo C200 V1 Tapo ...\n",
       "Name: title, Length: 12623, dtype: object"
      ]
     },
     "execution_count": 100,
     "metadata": {},
     "output_type": "execute_result"
    }
   ],
   "source": [
    "df[\"title\"]"
   ]
  },
  {
   "cell_type": "code",
   "execution_count": 101,
   "id": "b1095c71-1e0c-4d2a-9608-b28b5e6ff6ad",
   "metadata": {},
   "outputs": [],
   "source": [
    "def num_words(x:str):\n",
    "    return len(x.split(\" \"))"
   ]
  },
  {
   "cell_type": "code",
   "execution_count": 102,
   "id": "5f4592bc-a6d6-42a8-b4cd-23fd0c03763e",
   "metadata": {},
   "outputs": [
    {
     "data": {
      "text/plain": [
       "7"
      ]
     },
     "execution_count": 102,
     "metadata": {},
     "output_type": "execute_result"
    }
   ],
   "source": [
    "num_words(\"Bomba De Succión Al Vacío Para Baños\")"
   ]
  },
  {
   "cell_type": "code",
   "execution_count": 103,
   "id": "8f47fde5-88e4-475c-98e0-58d1665b36ee",
   "metadata": {},
   "outputs": [
    {
     "data": {
      "text/plain": [
       "0        10\n",
       "1         5\n",
       "2         8\n",
       "3        10\n",
       "4         8\n",
       "         ..\n",
       "12820     9\n",
       "12821    12\n",
       "12822    11\n",
       "12823    10\n",
       "12824    17\n",
       "Name: num_words_tittle, Length: 12623, dtype: int64"
      ]
     },
     "execution_count": 103,
     "metadata": {},
     "output_type": "execute_result"
    }
   ],
   "source": [
    "df[\"num_words_tittle\"] = df[\"title\"].map(num_words)\n",
    "\n",
    "df[\"num_words_tittle\"]"
   ]
  },
  {
   "cell_type": "code",
   "execution_count": 104,
   "id": "33af38cf-0812-400c-bf97-b4f9af94f673",
   "metadata": {},
   "outputs": [],
   "source": [
    "def num_ints(x:str):\n",
    "    return sum(c.isdigit() for c in x)"
   ]
  },
  {
   "cell_type": "code",
   "execution_count": 105,
   "id": "56b474b7-7b74-4d74-836f-295e421c05d2",
   "metadata": {},
   "outputs": [
    {
     "data": {
      "text/plain": [
       "6"
      ]
     },
     "execution_count": 105,
     "metadata": {},
     "output_type": "execute_result"
    }
   ],
   "source": [
    "num_ints(\"Bo87mba De Succ5ión Al Va5cío Par67a Baños\")"
   ]
  },
  {
   "cell_type": "code",
   "execution_count": 106,
   "id": "d6b72424-17dd-4acf-a4bb-6a6d851b0721",
   "metadata": {},
   "outputs": [
    {
     "data": {
      "text/plain": [
       "0        0\n",
       "1        0\n",
       "2        9\n",
       "3        3\n",
       "4        1\n",
       "        ..\n",
       "12820    8\n",
       "12821    3\n",
       "12822    2\n",
       "12823    8\n",
       "12824    5\n",
       "Name: num_ints_tittle, Length: 12623, dtype: int64"
      ]
     },
     "execution_count": 106,
     "metadata": {},
     "output_type": "execute_result"
    }
   ],
   "source": [
    "df[\"num_ints_tittle\"] = df[\"title\"].map(num_ints)\n",
    "df[\"num_ints_tittle\"]"
   ]
  },
  {
   "cell_type": "code",
   "execution_count": 107,
   "id": "fc548f05-8d79-4d04-b023-36700110acef",
   "metadata": {},
   "outputs": [],
   "source": [
    "def num_letters(x:str):\n",
    "    return sum(c.isalpha() for c in x)"
   ]
  },
  {
   "cell_type": "code",
   "execution_count": 108,
   "id": "b71c626b-6b71-47c1-86f2-3f3e45a30582",
   "metadata": {},
   "outputs": [
    {
     "data": {
      "text/plain": [
       "30"
      ]
     },
     "execution_count": 108,
     "metadata": {},
     "output_type": "execute_result"
    }
   ],
   "source": [
    "num_letters(\"Bo87mba De Succ5ión Al Va5cío Par67a Baños\")"
   ]
  },
  {
   "cell_type": "code",
   "execution_count": 109,
   "id": "19d6de84-f44d-4ce9-83fb-6538bdac6906",
   "metadata": {},
   "outputs": [
    {
     "data": {
      "text/plain": [
       "0        0\n",
       "1        0\n",
       "2        9\n",
       "3        3\n",
       "4        1\n",
       "        ..\n",
       "12820    8\n",
       "12821    3\n",
       "12822    2\n",
       "12823    8\n",
       "12824    5\n",
       "Name: num_ints_tittle, Length: 12623, dtype: int64"
      ]
     },
     "execution_count": 109,
     "metadata": {},
     "output_type": "execute_result"
    }
   ],
   "source": [
    "df[\"num_letters_tittle\"] = df[\"title\"].map(num_letters)\n",
    "df[\"num_ints_tittle\"]"
   ]
  },
  {
   "cell_type": "code",
   "execution_count": 110,
   "id": "bfdeb071-9290-4053-97ce-ba658dd1e332",
   "metadata": {},
   "outputs": [],
   "source": [
    "df.drop(\n",
    "    columns=[\"title\"],\n",
    "    inplace=True\n",
    ")"
   ]
  },
  {
   "cell_type": "markdown",
   "id": "e85e9651-cb82-4016-beb5-8ba1d24e096e",
   "metadata": {},
   "source": [
    "## Columns constantes"
   ]
  },
  {
   "cell_type": "code",
   "execution_count": 111,
   "id": "47de617f-42a3-47e0-898c-dff8e4c169ee",
   "metadata": {},
   "outputs": [
    {
     "name": "stdout",
     "output_type": "stream",
     "text": [
      "buying_mode 1 ['buy_it_now']\n",
      "condition 1 ['new']\n",
      "accepts_mercadopago 1 [ True]\n",
      "seller_car_dealer 1 [False]\n",
      "seller_real_estate_agency 1 [False]\n",
      "installments_quantity 2 [36. 12.]\n",
      "installments_rate 1 [0.]\n",
      "shipping_free_shipping 2 [False  True]\n",
      "shipping_mode 3 ['me2' 'custom' 'not_specified']\n",
      "shipping_store_pick_up 1 [False]\n",
      "seller_address_country_name 3 ['Colombia' 'China' 'United States of America']\n",
      "ITEM_CONDITION 2 ['Nuevo' 'Reacondicionado']\n",
      "best_seller_candidate 2 [0 1]\n",
      "loyalty_discount_eligible 2 [1 0]\n",
      "good_quality_picture 2 [1 0]\n",
      "tiene_descuento 2 [1 0]\n",
      "MODEL_bool 2 [1 0]\n",
      "BRAND_bool 2 [1 0]\n"
     ]
    }
   ],
   "source": [
    "for col in df.columns:\n",
    "    vls_unicos = len(df[col].unique())\n",
    "    if vls_unicos <= 3:\n",
    "        print(col, vls_unicos, df[col].unique())"
   ]
  },
  {
   "cell_type": "code",
   "execution_count": 112,
   "id": "8651ae6f-c8ee-4dc4-8152-067fe0ad8d76",
   "metadata": {},
   "outputs": [
    {
     "data": {
      "text/plain": [
       "['buying_mode',\n",
       " 'condition',\n",
       " 'accepts_mercadopago',\n",
       " 'seller_car_dealer',\n",
       " 'seller_real_estate_agency',\n",
       " 'installments_rate',\n",
       " 'shipping_store_pick_up']"
      ]
     },
     "execution_count": 112,
     "metadata": {},
     "output_type": "execute_result"
    }
   ],
   "source": [
    "cols_constantes = [\n",
    "    col for col in df.columns if len(df[col].unique()) == 1\n",
    "]\n",
    "\n",
    "df.drop(\n",
    "    columns=cols_constantes,\n",
    "    inplace=True\n",
    ")\n",
    "\n",
    "cols_constantes"
   ]
  },
  {
   "cell_type": "markdown",
   "id": "5bab7992-b3e5-4e5f-8cef-b5611527e2a4",
   "metadata": {},
   "source": [
    "### Stop Time"
   ]
  },
  {
   "cell_type": "code",
   "execution_count": 113,
   "id": "93a836b9-3265-4910-886f-552b1c077b19",
   "metadata": {},
   "outputs": [],
   "source": [
    "df.drop(\n",
    "    columns=[\"stop_time\"],\n",
    "    inplace=True\n",
    ")"
   ]
  },
  {
   "cell_type": "markdown",
   "id": "92915215-d2a4-4468-aaa0-1140d5d7904d",
   "metadata": {},
   "source": [
    "### address_city_name "
   ]
  },
  {
   "cell_type": "code",
   "execution_count": 114,
   "id": "6d09b668-1e01-4b5a-9b84-6d2cf794abc3",
   "metadata": {},
   "outputs": [],
   "source": [
    "df.drop(\n",
    "    columns=[\"address_city_name\"],\n",
    "    inplace=True\n",
    ")"
   ]
  },
  {
   "cell_type": "markdown",
   "id": "cffd0b90-03a8-4866-b93d-881567670d90",
   "metadata": {},
   "source": [
    "### seller_address_city_name"
   ]
  },
  {
   "cell_type": "code",
   "execution_count": 115,
   "id": "5114fe20-03e6-4329-8992-fa4bd17e5c7c",
   "metadata": {},
   "outputs": [],
   "source": [
    "df.drop(\n",
    "    columns=[\"seller_address_city_name\"],\n",
    "    inplace=True\n",
    ")"
   ]
  },
  {
   "cell_type": "markdown",
   "id": "2ea14590-abc0-4bd4-a1ec-074aa76d6495",
   "metadata": {},
   "source": [
    "## Separacion categoricas, numericas y var respuesta"
   ]
  },
  {
   "cell_type": "code",
   "execution_count": 116,
   "id": "e0dd99d7-9371-4fbf-a788-aa53ddec3abc",
   "metadata": {},
   "outputs": [],
   "source": [
    "df[\"shipping_free_shipping\"] = df[\"shipping_free_shipping\"].map(\n",
    "    lambda x : 1 if x else 0\n",
    ")"
   ]
  },
  {
   "cell_type": "code",
   "execution_count": 117,
   "id": "fa7caedb-c314-4ea6-b178-818863cb0aab",
   "metadata": {},
   "outputs": [],
   "source": [
    "df[\"seller_address_country_name\"] = df[\"seller_address_country_name\"].map(\n",
    "    lambda x : x if x == \"Colombia\" else \"Extranjero\"\n",
    ")"
   ]
  },
  {
   "cell_type": "code",
   "execution_count": 118,
   "id": "6b5198eb-f9f4-49f8-a0bd-f356a7589273",
   "metadata": {},
   "outputs": [
    {
     "data": {
      "text/plain": [
       "price                            int64\n",
       "available_quantity               int64\n",
       "sold_quantity                    int64\n",
       "order_backend                    int64\n",
       "installments_quantity          float64\n",
       "installments_amount            float64\n",
       "address_state_name              object\n",
       "shipping_free_shipping           int64\n",
       "shipping_mode                   object\n",
       "shipping_logistic_type          object\n",
       "seller_address_country_name     object\n",
       "seller_address_state_name       object\n",
       "NUM_ATTRIBUTEs                   int64\n",
       "ITEM_CONDITION                  object\n",
       "num_tags                         int64\n",
       "best_seller_candidate            int64\n",
       "loyalty_discount_eligible        int64\n",
       "good_quality_picture             int64\n",
       "tiene_descuento                  int64\n",
       "MODEL_bool                       int64\n",
       "BRAND_bool                       int64\n",
       "num_words_tittle                 int64\n",
       "num_ints_tittle                  int64\n",
       "num_letters_tittle               int64\n",
       "dtype: object"
      ]
     },
     "execution_count": 118,
     "metadata": {},
     "output_type": "execute_result"
    }
   ],
   "source": [
    "df.dtypes"
   ]
  },
  {
   "cell_type": "code",
   "execution_count": 160,
   "id": "cf43d9fe-daf5-4767-8618-a49d17d7eb50",
   "metadata": {},
   "outputs": [],
   "source": [
    "cols_categoricas = [\n",
    "    \"available_quantity\",\n",
    "    \"address_state_name\",   \n",
    "    \"shipping_mode\",\n",
    "    \"shipping_logistic_type\",\n",
    "    \"seller_address_country_name\",\n",
    "    \"seller_address_state_name\",\n",
    "    \"ITEM_CONDITION\"\n",
    "]\n",
    "\n",
    "var_respuesta = \"sold_quantity\"\n",
    "\n",
    "cols_numericas = [\n",
    "    \"price\",\n",
    "     \"sold_quantity\",\n",
    "    \"order_backend\",\n",
    "    \"installments_quantity\",\n",
    "    \"installments_amount\",\n",
    "    \"shipping_free_shipping\",\n",
    "    \"NUM_ATTRIBUTEs\",\n",
    "    \"num_tags\",\n",
    "    \"best_seller_candidate\",\n",
    "    \"loyalty_discount_eligible\",\n",
    "    \"good_quality_picture\",\n",
    "    \"tiene_descuento\",\n",
    "    \"MODEL_bool\",\n",
    "    \"BRAND_bool\",\n",
    "    \"num_words_tittle\",\n",
    "    \"num_ints_tittle\",\n",
    "    \"num_letters_tittle\"\n",
    "]"
   ]
  },
  {
   "cell_type": "code",
   "execution_count": 120,
   "id": "6b386e13-362d-450f-b156-fd9d2ab89b75",
   "metadata": {},
   "outputs": [],
   "source": [
    "for col in cols_categoricas:\n",
    "    df[col] = df[col].astype(object)"
   ]
  },
  {
   "cell_type": "code",
   "execution_count": 121,
   "id": "34e9dcc2-4278-4500-95f9-ae6b5f2b1c8b",
   "metadata": {},
   "outputs": [
    {
     "name": "stdout",
     "output_type": "stream",
     "text": [
      "<class 'pandas.core.frame.DataFrame'>\n",
      "Int64Index: 12623 entries, 0 to 12824\n",
      "Data columns (total 7 columns):\n",
      " #   Column                       Non-Null Count  Dtype \n",
      "---  ------                       --------------  ----- \n",
      " 0   available_quantity           12623 non-null  object\n",
      " 1   address_state_name           12623 non-null  object\n",
      " 2   shipping_mode                12623 non-null  object\n",
      " 3   shipping_logistic_type       12623 non-null  object\n",
      " 4   seller_address_country_name  12623 non-null  object\n",
      " 5   seller_address_state_name    12623 non-null  object\n",
      " 6   ITEM_CONDITION               12623 non-null  object\n",
      "dtypes: object(7)\n",
      "memory usage: 788.9+ KB\n"
     ]
    }
   ],
   "source": [
    "df[cols_categoricas].info()"
   ]
  },
  {
   "cell_type": "code",
   "execution_count": 122,
   "id": "6a6ca1f4-181b-43c5-851d-b4fcd6749dfb",
   "metadata": {},
   "outputs": [
    {
     "data": {
      "text/plain": [
       "['available_quantity',\n",
       " 'address_state_name',\n",
       " 'shipping_mode',\n",
       " 'shipping_logistic_type',\n",
       " 'seller_address_country_name',\n",
       " 'seller_address_state_name',\n",
       " 'ITEM_CONDITION']"
      ]
     },
     "execution_count": 122,
     "metadata": {},
     "output_type": "execute_result"
    }
   ],
   "source": [
    "cols_categoricas"
   ]
  },
  {
   "cell_type": "code",
   "execution_count": 161,
   "id": "9485c4e7-b823-4d33-8418-6ed8c16e682f",
   "metadata": {},
   "outputs": [
    {
     "data": {
      "text/plain": [
       "'sold_quantity'"
      ]
     },
     "execution_count": 161,
     "metadata": {},
     "output_type": "execute_result"
    }
   ],
   "source": [
    "var_respuesta"
   ]
  },
  {
   "cell_type": "code",
   "execution_count": 162,
   "id": "9d812d97-3ff3-4159-b839-cca3f4c45721",
   "metadata": {},
   "outputs": [
    {
     "data": {
      "text/plain": [
       "array([ 275,   75,   50,  125,  175,  225,   25,  525, 5025,  150, 2025,\n",
       "        200,  350,  300, 1700,  100,  325,  825,  650, 1000,  950,  800,\n",
       "        850,  550, 1200,  675,  500,  250, 1050,  625, 3600,  475,  750,\n",
       "        875,  425, 1475, 2000,  400,  450, 1600])"
      ]
     },
     "execution_count": 162,
     "metadata": {},
     "output_type": "execute_result"
    }
   ],
   "source": [
    "df[var_respuesta].unique()"
   ]
  },
  {
   "cell_type": "code",
   "execution_count": 163,
   "id": "ad3a813f-1bcd-4045-a5f5-15525a372db7",
   "metadata": {},
   "outputs": [],
   "source": [
    "df[var_respuesta] = df[var_respuesta].map(\n",
    "    lambda x: 25*(1+round(x/25))\n",
    ")"
   ]
  },
  {
   "cell_type": "code",
   "execution_count": 164,
   "id": "14c82900-219a-4f5a-a503-e34fc9b8096d",
   "metadata": {},
   "outputs": [
    {
     "data": {
      "text/plain": [
       "<AxesSubplot:ylabel='Frequency'>"
      ]
     },
     "execution_count": 164,
     "metadata": {},
     "output_type": "execute_result"
    },
    {
     "data": {
      "image/png": "[encoded data removed]",
      "text/plain": [
       "<Figure size 432x288 with 1 Axes>"
      ]
     },
     "metadata": {
      "needs_background": "light"
     },
     "output_type": "display_data"
    }
   ],
   "source": [
    "df[var_respuesta].plot(kind=\"hist\")"
   ]
  },
  {
   "cell_type": "code",
   "execution_count": 165,
   "id": "33396b80-e292-4b54-a4c6-f381dfb77fc2",
   "metadata": {},
   "outputs": [
    {
     "data": {
      "text/plain": [
       "<AxesSubplot:>"
      ]
     },
     "execution_count": 165,
     "metadata": {},
     "output_type": "execute_result"
    },
    {
     "data": {
      "image/png": "[encoded data removed]",
      "text/plain": [
       "<Figure size 432x288 with 1 Axes>"
      ]
     },
     "metadata": {
      "needs_background": "light"
     },
     "output_type": "display_data"
    }
   ],
   "source": [
    "df[var_respuesta].plot(\n",
    "    kind=\"box\"\n",
    ")"
   ]
  },
  {
   "cell_type": "code",
   "execution_count": 166,
   "id": "58d88efe-0586-4f5c-9a43-f1996e108db8",
   "metadata": {},
   "outputs": [
    {
     "data": {
      "text/html": [
       "<div>\n",
       "<style scoped>\n",
       "    .dataframe tbody tr th:only-of-type {\n",
       "        vertical-align: middle;\n",
       "    }\n",
       "\n",
       "    .dataframe tbody tr th {\n",
       "        vertical-align: top;\n",
       "    }\n",
       "\n",
       "    .dataframe thead th {\n",
       "        text-align: right;\n",
       "    }\n",
       "</style>\n",
       "<table border=\"1\" class=\"dataframe\">\n",
       "  <thead>\n",
       "    <tr style=\"text-align: right;\">\n",
       "      <th></th>\n",
       "      <th>sold_quantity</th>\n",
       "    </tr>\n",
       "  </thead>\n",
       "  <tbody>\n",
       "    <tr>\n",
       "      <th>1625</th>\n",
       "      <td>1</td>\n",
       "    </tr>\n",
       "    <tr>\n",
       "      <th>1075</th>\n",
       "      <td>1</td>\n",
       "    </tr>\n",
       "    <tr>\n",
       "      <th>475</th>\n",
       "      <td>1</td>\n",
       "    </tr>\n",
       "    <tr>\n",
       "      <th>425</th>\n",
       "      <td>1</td>\n",
       "    </tr>\n",
       "    <tr>\n",
       "      <th>775</th>\n",
       "      <td>1</td>\n",
       "    </tr>\n",
       "    <tr>\n",
       "      <th>700</th>\n",
       "      <td>2</td>\n",
       "    </tr>\n",
       "    <tr>\n",
       "      <th>575</th>\n",
       "      <td>2</td>\n",
       "    </tr>\n",
       "    <tr>\n",
       "      <th>1225</th>\n",
       "      <td>2</td>\n",
       "    </tr>\n",
       "    <tr>\n",
       "      <th>1025</th>\n",
       "      <td>2</td>\n",
       "    </tr>\n",
       "    <tr>\n",
       "      <th>675</th>\n",
       "      <td>2</td>\n",
       "    </tr>\n",
       "    <tr>\n",
       "      <th>850</th>\n",
       "      <td>2</td>\n",
       "    </tr>\n",
       "    <tr>\n",
       "      <th>3625</th>\n",
       "      <td>2</td>\n",
       "    </tr>\n",
       "    <tr>\n",
       "      <th>1500</th>\n",
       "      <td>3</td>\n",
       "    </tr>\n",
       "    <tr>\n",
       "      <th>825</th>\n",
       "      <td>3</td>\n",
       "    </tr>\n",
       "    <tr>\n",
       "      <th>875</th>\n",
       "      <td>3</td>\n",
       "    </tr>\n",
       "    <tr>\n",
       "      <th>975</th>\n",
       "      <td>3</td>\n",
       "    </tr>\n",
       "    <tr>\n",
       "      <th>500</th>\n",
       "      <td>3</td>\n",
       "    </tr>\n",
       "    <tr>\n",
       "      <th>2025</th>\n",
       "      <td>3</td>\n",
       "    </tr>\n",
       "    <tr>\n",
       "      <th>900</th>\n",
       "      <td>3</td>\n",
       "    </tr>\n",
       "    <tr>\n",
       "      <th>2050</th>\n",
       "      <td>3</td>\n",
       "    </tr>\n",
       "    <tr>\n",
       "      <th>450</th>\n",
       "      <td>4</td>\n",
       "    </tr>\n",
       "    <tr>\n",
       "      <th>1725</th>\n",
       "      <td>4</td>\n",
       "    </tr>\n",
       "    <tr>\n",
       "      <th>525</th>\n",
       "      <td>4</td>\n",
       "    </tr>\n",
       "    <tr>\n",
       "      <th>650</th>\n",
       "      <td>5</td>\n",
       "    </tr>\n",
       "    <tr>\n",
       "      <th>375</th>\n",
       "      <td>6</td>\n",
       "    </tr>\n",
       "    <tr>\n",
       "      <th>350</th>\n",
       "      <td>9</td>\n",
       "    </tr>\n",
       "    <tr>\n",
       "      <th>325</th>\n",
       "      <td>11</td>\n",
       "    </tr>\n",
       "    <tr>\n",
       "      <th>275</th>\n",
       "      <td>13</td>\n",
       "    </tr>\n",
       "    <tr>\n",
       "      <th>225</th>\n",
       "      <td>18</td>\n",
       "    </tr>\n",
       "    <tr>\n",
       "      <th>175</th>\n",
       "      <td>38</td>\n",
       "    </tr>\n",
       "    <tr>\n",
       "      <th>125</th>\n",
       "      <td>63</td>\n",
       "    </tr>\n",
       "    <tr>\n",
       "      <th>5050</th>\n",
       "      <td>173</td>\n",
       "    </tr>\n",
       "    <tr>\n",
       "      <th>250</th>\n",
       "      <td>702</td>\n",
       "    </tr>\n",
       "    <tr>\n",
       "      <th>200</th>\n",
       "      <td>898</td>\n",
       "    </tr>\n",
       "    <tr>\n",
       "      <th>150</th>\n",
       "      <td>1253</td>\n",
       "    </tr>\n",
       "    <tr>\n",
       "      <th>75</th>\n",
       "      <td>1295</td>\n",
       "    </tr>\n",
       "    <tr>\n",
       "      <th>50</th>\n",
       "      <td>1500</td>\n",
       "    </tr>\n",
       "    <tr>\n",
       "      <th>100</th>\n",
       "      <td>1739</td>\n",
       "    </tr>\n",
       "    <tr>\n",
       "      <th>300</th>\n",
       "      <td>1979</td>\n",
       "    </tr>\n",
       "    <tr>\n",
       "      <th>550</th>\n",
       "      <td>2866</td>\n",
       "    </tr>\n",
       "  </tbody>\n",
       "</table>\n",
       "</div>"
      ],
      "text/plain": [
       "      sold_quantity\n",
       "1625              1\n",
       "1075              1\n",
       "475               1\n",
       "425               1\n",
       "775               1\n",
       "700               2\n",
       "575               2\n",
       "1225              2\n",
       "1025              2\n",
       "675               2\n",
       "850               2\n",
       "3625              2\n",
       "1500              3\n",
       "825               3\n",
       "875               3\n",
       "975               3\n",
       "500               3\n",
       "2025              3\n",
       "900               3\n",
       "2050              3\n",
       "450               4\n",
       "1725              4\n",
       "525               4\n",
       "650               5\n",
       "375               6\n",
       "350               9\n",
       "325              11\n",
       "275              13\n",
       "225              18\n",
       "175              38\n",
       "125              63\n",
       "5050            173\n",
       "250             702\n",
       "200             898\n",
       "150            1253\n",
       "75             1295\n",
       "50             1500\n",
       "100            1739\n",
       "300            1979\n",
       "550            2866"
      ]
     },
     "execution_count": 166,
     "metadata": {},
     "output_type": "execute_result"
    }
   ],
   "source": [
    "pd.DataFrame(\n",
    "    df[var_respuesta].value_counts()\n",
    ").sort_values(\n",
    "    by=[\"sold_quantity\"],\n",
    "    \n",
    ")"
   ]
  },
  {
   "cell_type": "code",
   "execution_count": 176,
   "id": "e47088e7-8d57-420c-8d06-c657037fd8fa",
   "metadata": {},
   "outputs": [],
   "source": [
    "df[\"prueba\"] = df[var_respuesta].map(\n",
    "    lambda x : 350 if x >= 350 else x\n",
    ")\n",
    "\n",
    "df[\"prueba\"] = df[\"prueba\"].map(\n",
    "    lambda x : 225 if x == 200 else x\n",
    ")\n",
    "\n",
    "df[\"prueba\"] = df[\"prueba\"].map(\n",
    "    lambda x : 175 if x == 150 else x\n",
    ")\n",
    "\n",
    "df[\"prueba\"] = df[\"prueba\"].map(\n",
    "    lambda x : 125 if x == 100 else x\n",
    ")\n",
    "\n",
    "df[\"prueba\"] = df[\"prueba\"].map(\n",
    "    lambda x : 350 if x == 325 else x\n",
    ")\n",
    "\n",
    "df[\"prueba\"] = df[\"prueba\"].map(\n",
    "    lambda x : 300 if x == 275 else x\n",
    ")"
   ]
  },
  {
   "cell_type": "code",
   "execution_count": 177,
   "id": "940c384d-b9c6-40ee-9bd4-d1884ce0b5ef",
   "metadata": {},
   "outputs": [
    {
     "data": {
      "text/plain": [
       "<AxesSubplot:ylabel='Frequency'>"
      ]
     },
     "execution_count": 177,
     "metadata": {},
     "output_type": "execute_result"
    },
    {
     "data": {
      "image/png": "[encoded data removed]",
      "text/plain": [
       "<Figure size 432x288 with 1 Axes>"
      ]
     },
     "metadata": {
      "needs_background": "light"
     },
     "output_type": "display_data"
    }
   ],
   "source": [
    "df[\"prueba\"].plot(kind=\"hist\")"
   ]
  },
  {
   "cell_type": "code",
   "execution_count": 178,
   "id": "e29e4446-da7e-43a9-a2d5-cea13fdd300d",
   "metadata": {},
   "outputs": [
    {
     "data": {
      "text/plain": [
       "<AxesSubplot:>"
      ]
     },
     "execution_count": 178,
     "metadata": {},
     "output_type": "execute_result"
    },
    {
     "data": {
      "image/png": "[encoded data removed]",
      "text/plain": [
       "<Figure size 432x288 with 1 Axes>"
      ]
     },
     "metadata": {
      "needs_background": "light"
     },
     "output_type": "display_data"
    }
   ],
   "source": [
    "df[\"prueba\"].plot(\n",
    "    kind=\"box\"\n",
    ")"
   ]
  },
  {
   "cell_type": "code",
   "execution_count": 179,
   "id": "1d81621f-5073-45a9-bfab-3f3bd4f3ce22",
   "metadata": {},
   "outputs": [
    {
     "data": {
      "text/html": [
       "<div>\n",
       "<style scoped>\n",
       "    .dataframe tbody tr th:only-of-type {\n",
       "        vertical-align: middle;\n",
       "    }\n",
       "\n",
       "    .dataframe tbody tr th {\n",
       "        vertical-align: top;\n",
       "    }\n",
       "\n",
       "    .dataframe thead th {\n",
       "        text-align: right;\n",
       "    }\n",
       "</style>\n",
       "<table border=\"1\" class=\"dataframe\">\n",
       "  <thead>\n",
       "    <tr style=\"text-align: right;\">\n",
       "      <th></th>\n",
       "      <th>prueba</th>\n",
       "    </tr>\n",
       "  </thead>\n",
       "  <tbody>\n",
       "    <tr>\n",
       "      <th>250</th>\n",
       "      <td>702</td>\n",
       "    </tr>\n",
       "    <tr>\n",
       "      <th>225</th>\n",
       "      <td>916</td>\n",
       "    </tr>\n",
       "    <tr>\n",
       "      <th>175</th>\n",
       "      <td>1291</td>\n",
       "    </tr>\n",
       "    <tr>\n",
       "      <th>75</th>\n",
       "      <td>1295</td>\n",
       "    </tr>\n",
       "    <tr>\n",
       "      <th>50</th>\n",
       "      <td>1500</td>\n",
       "    </tr>\n",
       "    <tr>\n",
       "      <th>125</th>\n",
       "      <td>1802</td>\n",
       "    </tr>\n",
       "    <tr>\n",
       "      <th>300</th>\n",
       "      <td>1992</td>\n",
       "    </tr>\n",
       "    <tr>\n",
       "      <th>350</th>\n",
       "      <td>3125</td>\n",
       "    </tr>\n",
       "  </tbody>\n",
       "</table>\n",
       "</div>"
      ],
      "text/plain": [
       "     prueba\n",
       "250     702\n",
       "225     916\n",
       "175    1291\n",
       "75     1295\n",
       "50     1500\n",
       "125    1802\n",
       "300    1992\n",
       "350    3125"
      ]
     },
     "execution_count": 179,
     "metadata": {},
     "output_type": "execute_result"
    }
   ],
   "source": [
    "pd.DataFrame(\n",
    "    df[\"prueba\"].value_counts()\n",
    ").sort_values(\n",
    "    by=[\"prueba\"],\n",
    "    \n",
    ")"
   ]
  },
  {
   "cell_type": "code",
   "execution_count": 181,
   "id": "e374b0dc-370e-464a-a774-22b7d9289e9a",
   "metadata": {},
   "outputs": [],
   "source": [
    "df[var_respuesta] = df[\"prueba\"]\n",
    "\n",
    "df.drop(\n",
    "    columns = [\"prueba\"],\n",
    "    inplace=True\n",
    ")"
   ]
  },
  {
   "cell_type": "code",
   "execution_count": 182,
   "id": "fe52ab81-8506-41ba-aeff-205a2cb1da9f",
   "metadata": {},
   "outputs": [
    {
     "data": {
      "text/plain": [
       "price                          0\n",
       "available_quantity             0\n",
       "sold_quantity                  0\n",
       "order_backend                  0\n",
       "installments_quantity          0\n",
       "installments_amount            0\n",
       "address_state_name             0\n",
       "shipping_free_shipping         0\n",
       "shipping_mode                  0\n",
       "shipping_logistic_type         0\n",
       "seller_address_country_name    0\n",
       "seller_address_state_name      0\n",
       "NUM_ATTRIBUTEs                 0\n",
       "ITEM_CONDITION                 0\n",
       "num_tags                       0\n",
       "best_seller_candidate          0\n",
       "loyalty_discount_eligible      0\n",
       "good_quality_picture           0\n",
       "tiene_descuento                0\n",
       "MODEL_bool                     0\n",
       "BRAND_bool                     0\n",
       "num_words_tittle               0\n",
       "num_ints_tittle                0\n",
       "num_letters_tittle             0\n",
       "dtype: int64"
      ]
     },
     "execution_count": 182,
     "metadata": {},
     "output_type": "execute_result"
    }
   ],
   "source": [
    "df.isnull().sum()"
   ]
  },
  {
   "cell_type": "code",
   "execution_count": 183,
   "id": "8d909c55-1604-438f-a524-2834554e6ea4",
   "metadata": {},
   "outputs": [],
   "source": [
    "from sklearn.model_selection import train_test_split\n",
    "import seaborn as sn\n",
    "from matplotlib.colors import LogNorm\n",
    "from sklearn.ensemble import GradientBoostingClassifier\n",
    "from sklearn.pipeline import make_pipeline\n",
    "from sklearn.preprocessing import StandardScaler\n",
    "from sklearn.metrics import roc_auc_score\n",
    "from sklearn.metrics import recall_score\n",
    "from sklearn.metrics import precision_score\n",
    "from sklearn.metrics import f1_score\n",
    "from sklearn.metrics import roc_curve\n",
    "from sklearn.metrics import auc\n",
    "from sklearn.metrics import confusion_matrix\n",
    "import matplotlib.pyplot as plt"
   ]
  },
  {
   "cell_type": "markdown",
   "id": "6431e546-782c-4155-9156-1b04fc282509",
   "metadata": {},
   "source": [
    "# Separación variable de respuesta y dataset"
   ]
  },
  {
   "cell_type": "code",
   "execution_count": 184,
   "id": "2f34d260-ae0e-4034-ba10-02d48072bc15",
   "metadata": {},
   "outputs": [],
   "source": [
    "dataset = df\n",
    "response_variable = dataset[var_respuesta]\n",
    "dataset = dataset.drop(\n",
    "    columns=[var_respuesta], \n",
    "    axis=1\n",
    ")"
   ]
  },
  {
   "cell_type": "code",
   "execution_count": 185,
   "id": "c172a6ca-1a92-43aa-bf8f-a78a004b5c8d",
   "metadata": {},
   "outputs": [
    {
     "data": {
      "text/plain": [
       "0        300\n",
       "1        125\n",
       "2         75\n",
       "3        300\n",
       "4        175\n",
       "        ... \n",
       "12820    350\n",
       "12821    350\n",
       "12822    350\n",
       "12823    350\n",
       "12824    125\n",
       "Name: sold_quantity, Length: 12623, dtype: int64"
      ]
     },
     "execution_count": 185,
     "metadata": {},
     "output_type": "execute_result"
    }
   ],
   "source": [
    "response_variable"
   ]
  },
  {
   "cell_type": "markdown",
   "id": "0e1d060d-7656-4839-97c5-1a4096593fa8",
   "metadata": {},
   "source": [
    "# Obtener dummies y crear train y test set"
   ]
  },
  {
   "cell_type": "code",
   "execution_count": 224,
   "id": "6c039a5a-a739-43f3-9115-f0e286da0cf5",
   "metadata": {},
   "outputs": [],
   "source": [
    "dataset = pd.get_dummies(\n",
    "    data = dataset, \n",
    "    drop_first=True\n",
    ")\n",
    "\n",
    "dataset_train, dataset_test, response_train, response_test = train_test_split(\n",
    "    dataset, \n",
    "    response_variable,\n",
    "    random_state=0\n",
    ")"
   ]
  },
  {
   "cell_type": "markdown",
   "id": "2b3634c1-e0c2-4d41-9307-e653d19233b3",
   "metadata": {},
   "source": [
    "# Pipeline"
   ]
  },
  {
   "cell_type": "code",
   "execution_count": 225,
   "id": "65847371-ef78-428f-a8c6-0d8276e390e8",
   "metadata": {},
   "outputs": [],
   "source": [
    "process = make_pipeline(\n",
    "    StandardScaler(), \n",
    "    GradientBoostingClassifier(\n",
    "        n_estimators=100,\n",
    "        verbose=1,\n",
    "        max_depth=5\n",
    "    )\n",
    ")"
   ]
  },
  {
   "cell_type": "markdown",
   "id": "21a64556-673b-4fc0-8503-4d5919a20e07",
   "metadata": {},
   "source": [
    "# Training"
   ]
  },
  {
   "cell_type": "code",
   "execution_count": 226,
   "id": "2ece3cad-4c6f-405a-aa56-538ed2b50b44",
   "metadata": {},
   "outputs": [
    {
     "name": "stdout",
     "output_type": "stream",
     "text": [
      "      Iter       Train Loss   Remaining Time \n",
      "         1           1.9370           38.07s\n",
      "         2           1.9027           37.59s\n",
      "         3           1.8733           37.16s\n",
      "         4           1.8473           36.37s\n",
      "         5           1.8260           35.93s\n",
      "         6           1.8047           35.48s\n",
      "         7           1.7861           35.28s\n",
      "         8           1.7693           34.58s\n",
      "         9           1.7531           34.00s\n",
      "        10           1.7360           33.42s\n",
      "        20           1.6151           28.89s\n",
      "        30           1.5299           25.01s\n",
      "        40           1.4651           21.23s\n",
      "        50           1.4103           17.64s\n",
      "        60           1.3661           14.15s\n",
      "        70           1.3249           10.62s\n",
      "        80           1.2858            7.08s\n",
      "        90           1.2488            3.54s\n",
      "       100           1.2113            0.00s\n"
     ]
    },
    {
     "data": {
      "text/plain": [
       "Pipeline(steps=[('standardscaler', StandardScaler()),\n",
       "                ('gradientboostingclassifier',\n",
       "                 GradientBoostingClassifier(max_depth=5, verbose=1))])"
      ]
     },
     "execution_count": 226,
     "metadata": {},
     "output_type": "execute_result"
    }
   ],
   "source": [
    "process.fit(\n",
    "    dataset_train,\n",
    "    response_train\n",
    ")"
   ]
  },
  {
   "cell_type": "markdown",
   "id": "968d5fc0-74ce-44b1-9da2-82d20c61c062",
   "metadata": {},
   "source": [
    "# Predict"
   ]
  },
  {
   "cell_type": "code",
   "execution_count": 227,
   "id": "3d25ca92-f809-4c89-9e02-5e90c3a2e122",
   "metadata": {},
   "outputs": [],
   "source": [
    "test_predict = process.predict(\n",
    "    dataset_test\n",
    ")\n",
    "\n",
    "train_predict = process.predict(\n",
    "    dataset_train\n",
    ")"
   ]
  },
  {
   "cell_type": "code",
   "execution_count": 228,
   "id": "e9c6837c-97fc-4780-a4f7-eea197e0c36e",
   "metadata": {},
   "outputs": [],
   "source": [
    "labels = list(set(response_variable))"
   ]
  },
  {
   "cell_type": "markdown",
   "id": "0a8f9db4-e655-434d-949d-18eabd55991e",
   "metadata": {},
   "source": [
    "# Arreglo de ROC AUC SCORE, Siguentes 3 celdas borrar si es posible"
   ]
  },
  {
   "cell_type": "code",
   "execution_count": 229,
   "id": "7b83b9b3-2814-49d6-97d7-cc5813fd3cc1",
   "metadata": {},
   "outputs": [],
   "source": [
    "test_labels = np.unique(test_predict)\n",
    "train_labels = np.unique(train_predict)"
   ]
  },
  {
   "cell_type": "code",
   "execution_count": 230,
   "id": "415d5a56-1fd8-43df-8c0f-0d5fd74b1e2f",
   "metadata": {},
   "outputs": [],
   "source": [
    "for label in labels:\n",
    "    if label not in test_labels:\n",
    "        test_predict = np.append(test_predict,label)\n",
    "        response_test = np.append(response_test,label)"
   ]
  },
  {
   "cell_type": "code",
   "execution_count": 231,
   "id": "c5683c65-91d6-4115-beb4-4cf00bed697e",
   "metadata": {},
   "outputs": [],
   "source": [
    "for label in labels:\n",
    "    if label not in train_labels:\n",
    "        train_predict = np.append(train_predict,label)\n",
    "        response_train = np.append(response_train,label)"
   ]
  },
  {
   "cell_type": "markdown",
   "id": "79d0f2e2-96a7-40f4-9651-5a7e440948d2",
   "metadata": {},
   "source": [
    "# Scores test set"
   ]
  },
  {
   "cell_type": "code",
   "execution_count": 232,
   "id": "a4c5f99d-c64a-4a10-aec0-0414a92af2c3",
   "metadata": {},
   "outputs": [
    {
     "data": {
      "text/plain": [
       "12319    225\n",
       "343      125\n",
       "6938      50\n",
       "7520     300\n",
       "4024      50\n",
       "        ... \n",
       "7525     350\n",
       "5470     350\n",
       "181      250\n",
       "9260     250\n",
       "10559    300\n",
       "Name: sold_quantity, Length: 3156, dtype: int64"
      ]
     },
     "execution_count": 232,
     "metadata": {},
     "output_type": "execute_result"
    }
   ],
   "source": [
    "response_test"
   ]
  },
  {
   "cell_type": "code",
   "execution_count": 233,
   "id": "0c131a55-8067-4031-8036-72247431172f",
   "metadata": {},
   "outputs": [
    {
     "data": {
      "text/html": [
       "<div>\n",
       "<style scoped>\n",
       "    .dataframe tbody tr th:only-of-type {\n",
       "        vertical-align: middle;\n",
       "    }\n",
       "\n",
       "    .dataframe tbody tr th {\n",
       "        vertical-align: top;\n",
       "    }\n",
       "\n",
       "    .dataframe thead th {\n",
       "        text-align: right;\n",
       "    }\n",
       "</style>\n",
       "<table border=\"1\" class=\"dataframe\">\n",
       "  <thead>\n",
       "    <tr style=\"text-align: right;\">\n",
       "      <th></th>\n",
       "      <th>Medida de desempeño</th>\n",
       "      <th>Valor</th>\n",
       "    </tr>\n",
       "  </thead>\n",
       "  <tbody>\n",
       "    <tr>\n",
       "      <th>0</th>\n",
       "      <td>F1-Score (Balanceado)</td>\n",
       "      <td>0.390087</td>\n",
       "    </tr>\n",
       "    <tr>\n",
       "      <th>1</th>\n",
       "      <td>Precision (Balanceado)</td>\n",
       "      <td>0.420476</td>\n",
       "    </tr>\n",
       "    <tr>\n",
       "      <th>2</th>\n",
       "      <td>Recall (Balanceado)</td>\n",
       "      <td>0.422053</td>\n",
       "    </tr>\n",
       "    <tr>\n",
       "      <th>3</th>\n",
       "      <td>ROC AUC (Balanceado)</td>\n",
       "      <td>0.648560</td>\n",
       "    </tr>\n",
       "  </tbody>\n",
       "</table>\n",
       "</div>"
      ],
      "text/plain": [
       "      Medida de desempeño     Valor\n",
       "0   F1-Score (Balanceado)  0.390087\n",
       "1  Precision (Balanceado)  0.420476\n",
       "2     Recall (Balanceado)  0.422053\n",
       "3    ROC AUC (Balanceado)  0.648560"
      ]
     },
     "execution_count": 233,
     "metadata": {},
     "output_type": "execute_result"
    }
   ],
   "source": [
    "scores = {\n",
    "    'Medida de desempeño': [\n",
    "        'F1-Score (Balanceado)',\n",
    "        'Precision (Balanceado)',\n",
    "        'Recall (Balanceado)','ROC AUC (Balanceado)'\n",
    "    ], \n",
    "    'Valor': [\n",
    "        f1_score(\n",
    "            response_test, \n",
    "            test_predict, \n",
    "            average = 'weighted'\n",
    "        ),\n",
    "        precision_score(\n",
    "            response_test, \n",
    "            test_predict, \n",
    "            average = 'weighted'\n",
    "        ),\n",
    "        recall_score(\n",
    "            response_test, \n",
    "            test_predict, \n",
    "            average = 'weighted'\n",
    "        ),\n",
    "        roc_auc_score(\n",
    "            pd.get_dummies(\n",
    "                response_test,\n",
    "                drop_first=False\n",
    "            ),\n",
    "            pd.get_dummies(\n",
    "                test_predict, \n",
    "                drop_first=False\n",
    "            ),\n",
    "            average = 'weighted'\n",
    "        )\n",
    "    ]\n",
    "}\n",
    "\n",
    "pd.DataFrame.from_dict(scores)"
   ]
  },
  {
   "cell_type": "markdown",
   "id": "d3eed777-e130-4275-817c-dbf6b022b940",
   "metadata": {},
   "source": [
    "# Scores train set"
   ]
  },
  {
   "cell_type": "code",
   "execution_count": 234,
   "id": "99914dae-c10c-42d8-a6fc-3c5998b5ceb9",
   "metadata": {},
   "outputs": [
    {
     "data": {
      "text/html": [
       "<div>\n",
       "<style scoped>\n",
       "    .dataframe tbody tr th:only-of-type {\n",
       "        vertical-align: middle;\n",
       "    }\n",
       "\n",
       "    .dataframe tbody tr th {\n",
       "        vertical-align: top;\n",
       "    }\n",
       "\n",
       "    .dataframe thead th {\n",
       "        text-align: right;\n",
       "    }\n",
       "</style>\n",
       "<table border=\"1\" class=\"dataframe\">\n",
       "  <thead>\n",
       "    <tr style=\"text-align: right;\">\n",
       "      <th></th>\n",
       "      <th>Medida de desempeño</th>\n",
       "      <th>Valor</th>\n",
       "    </tr>\n",
       "  </thead>\n",
       "  <tbody>\n",
       "    <tr>\n",
       "      <th>0</th>\n",
       "      <td>F1-Score (Balanceado)</td>\n",
       "      <td>0.626791</td>\n",
       "    </tr>\n",
       "    <tr>\n",
       "      <th>1</th>\n",
       "      <td>Precision (Balanceado)</td>\n",
       "      <td>0.683709</td>\n",
       "    </tr>\n",
       "    <tr>\n",
       "      <th>2</th>\n",
       "      <td>Recall (Balanceado)</td>\n",
       "      <td>0.633147</td>\n",
       "    </tr>\n",
       "    <tr>\n",
       "      <th>3</th>\n",
       "      <td>ROC AUC (Balanceado)</td>\n",
       "      <td>0.775028</td>\n",
       "    </tr>\n",
       "  </tbody>\n",
       "</table>\n",
       "</div>"
      ],
      "text/plain": [
       "      Medida de desempeño     Valor\n",
       "0   F1-Score (Balanceado)  0.626791\n",
       "1  Precision (Balanceado)  0.683709\n",
       "2     Recall (Balanceado)  0.633147\n",
       "3    ROC AUC (Balanceado)  0.775028"
      ]
     },
     "execution_count": 234,
     "metadata": {},
     "output_type": "execute_result"
    }
   ],
   "source": [
    "scores = {\n",
    "    'Medida de desempeño': \n",
    "    [\n",
    "        'F1-Score (Balanceado)',\n",
    "        'Precision (Balanceado)',\n",
    "        'Recall (Balanceado)',\n",
    "        'ROC AUC (Balanceado)'\n",
    "    ],\n",
    "    'Valor':[\n",
    "        f1_score(\n",
    "            response_train, \n",
    "            train_predict, \n",
    "            average = 'weighted'\n",
    "        ),\n",
    "        precision_score(\n",
    "            response_train, \n",
    "            train_predict, \n",
    "            average = 'weighted'\n",
    "        ),\n",
    "        recall_score(\n",
    "            response_train, \n",
    "            train_predict, \n",
    "            average = 'weighted'\n",
    "        ),\n",
    "        roc_auc_score(\n",
    "            pd.get_dummies(\n",
    "                response_train, \n",
    "                drop_first=False\n",
    "            ), \n",
    "            pd.get_dummies(\n",
    "                train_predict, \n",
    "                drop_first=False\n",
    "            ),average = 'weighted'\n",
    "        )\n",
    "    ]\n",
    "}\n",
    "\n",
    "pd.DataFrame.from_dict(scores)"
   ]
  },
  {
   "cell_type": "markdown",
   "id": "bc8114ab-0d40-4a79-9169-83475993ebe1",
   "metadata": {},
   "source": [
    "# Curva ROC test"
   ]
  },
  {
   "cell_type": "code",
   "execution_count": 235,
   "id": "aee4079f-ba73-4091-a32f-6f3f26d4e2ac",
   "metadata": {},
   "outputs": [
    {
     "data": {
      "image/png": "[encoded data removed]",
      "text/plain": [
       "<Figure size 1152x720 with 1 Axes>"
      ]
     },
     "metadata": {
      "needs_background": "light"
     },
     "output_type": "display_data"
    }
   ],
   "source": [
    "roc_auc_score(pd.get_dummies(response_test, drop_first=False), \n",
    "              pd.get_dummies(test_predict, drop_first=False),average = 'weighted')\n",
    "fpr = {}\n",
    "tpr = {}\n",
    "for label in labels:\n",
    "    prueba_prediccion = test_predict == label\n",
    "    prueba_resultados = response_test == label \n",
    "    roc = roc_curve(prueba_prediccion,prueba_resultados)\n",
    "    fpr[label] = roc[0]\n",
    "    tpr[label] = roc[1]\n",
    "plt.figure(figsize=(16, 10))\n",
    "for label in labels:\n",
    "    plt.plot(fpr[label], tpr[label], color=np.random.rand(3,),\n",
    "             lw=2, label=label)\n",
    "plt.plot([0, 1], [0, 1], color='navy', lw=2, linestyle='--')\n",
    "plt.xlim([0.0, 1.0])\n",
    "plt.ylim([0.0, 1.05])\n",
    "plt.xlabel('False Positive Rate')\n",
    "plt.ylabel('True Positive Rate')\n",
    "plt.title('Receiver operating characteristic example')\n",
    "plt.legend(loc=\"lower right\")\n",
    "plt.show()"
   ]
  },
  {
   "cell_type": "markdown",
   "id": "b8f760c0-ce29-4e19-90d9-5a6ed582028b",
   "metadata": {},
   "source": [
    "# Curva ROC Train"
   ]
  },
  {
   "cell_type": "code",
   "execution_count": 236,
   "id": "ffa72bf6-29b0-4ee5-9f1a-a991c9444fa1",
   "metadata": {},
   "outputs": [
    {
     "data": {
      "image/png": "[encoded data removed]",
      "text/plain": [
       "<Figure size 1152x720 with 1 Axes>"
      ]
     },
     "metadata": {
      "needs_background": "light"
     },
     "output_type": "display_data"
    }
   ],
   "source": [
    "roc_auc_score(pd.get_dummies(response_train, drop_first=False), \n",
    "              pd.get_dummies(train_predict, drop_first=False),average = 'weighted')\n",
    "fpr = {}\n",
    "tpr = {}\n",
    "for label in labels:\n",
    "    prueba_prediccion = train_predict == label\n",
    "    prueba_resultados = response_train == label \n",
    "    roc = roc_curve(prueba_prediccion,prueba_resultados)\n",
    "    fpr[label] = roc[0]\n",
    "    tpr[label] = roc[1]\n",
    "plt.figure(figsize=(16, 10))\n",
    "for label in labels:\n",
    "    plt.plot(fpr[label], tpr[label], color=np.random.rand(3,),\n",
    "             lw=2, label=label)\n",
    "plt.plot([0, 1], [0, 1], color='navy', lw=2, linestyle='--')\n",
    "plt.xlim([0.0, 1.0])\n",
    "plt.ylim([0.0, 1.05])\n",
    "plt.xlabel('False Positive Rate')\n",
    "plt.ylabel('True Positive Rate')\n",
    "plt.title('Receiver operating characteristic example')\n",
    "plt.legend(loc=\"lower right\")\n",
    "plt.show()"
   ]
  },
  {
   "cell_type": "markdown",
   "id": "4ab980f8-efb0-4bc9-8052-62aae4bab238",
   "metadata": {},
   "source": [
    "# Matriz de confusión test"
   ]
  },
  {
   "cell_type": "code",
   "execution_count": 237,
   "id": "1f9b843d-2bdf-487f-970c-c56d483b91c2",
   "metadata": {},
   "outputs": [
    {
     "data": {
      "text/plain": [
       "<AxesSubplot:>"
      ]
     },
     "execution_count": 237,
     "metadata": {},
     "output_type": "execute_result"
    },
    {
     "data": {
      "image/png": "[encoded data removed]",
      "text/plain": [
       "<Figure size 1296x1152 with 2 Axes>"
      ]
     },
     "metadata": {
      "needs_background": "light"
     },
     "output_type": "display_data"
    }
   ],
   "source": [
    "# Fila valor real  columna valor predicho\n",
    "df_cm = pd.DataFrame(\n",
    "    confusion_matrix(\n",
    "        response_test,\n",
    "        test_predict\n",
    "    ), \n",
    "    index = [i for i in labels],\n",
    "    columns = [i for i in labels]\n",
    ")\n",
    "\n",
    "plt.figure(figsize = (18,16))\n",
    "\n",
    "sn.heatmap(\n",
    "    df_cm, \n",
    "    annot=True,\n",
    "    norm=LogNorm(),\n",
    "    fmt=\"d\",\n",
    "    linewidths=.5\n",
    ")"
   ]
  },
  {
   "cell_type": "markdown",
   "id": "72f68e17-2b46-424b-9817-4343b6897b12",
   "metadata": {},
   "source": [
    "# Matriz de confusión test"
   ]
  },
  {
   "cell_type": "code",
   "execution_count": 238,
   "id": "ec7ccb62-67df-4851-b7a2-5d95a453f9b1",
   "metadata": {},
   "outputs": [
    {
     "data": {
      "text/plain": [
       "<AxesSubplot:>"
      ]
     },
     "execution_count": 238,
     "metadata": {},
     "output_type": "execute_result"
    },
    {
     "data": {
      "image/png": "[encoded data removed]",
      "text/plain": [
       "<Figure size 1296x1152 with 2 Axes>"
      ]
     },
     "metadata": {
      "needs_background": "light"
     },
     "output_type": "display_data"
    }
   ],
   "source": [
    "df_cm = pd.DataFrame(\n",
    "    confusion_matrix(\n",
    "        response_train,\n",
    "        train_predict\n",
    "    ),\n",
    "    index = [i for i in labels],\n",
    "    columns = [i for i in labels]\n",
    ")\n",
    "\n",
    "plt.figure(figsize = (18,16))\n",
    "\n",
    "sn.heatmap(\n",
    "    df_cm, \n",
    "    annot=True,\n",
    "    norm=LogNorm(),\n",
    "    fmt=\"d\",\n",
    "    linewidths=.5\n",
    ")"
   ]
  },
  {
   "cell_type": "code",
   "execution_count": null,
   "id": "163abe72-79a6-442f-9f09-d45c91e16d1e",
   "metadata": {},
   "outputs": [],
   "source": []
  }
 ],
 "metadata": {
  "kernelspec": {
   "display_name": ".my_env",
   "language": "python",
   "name": ".my_env"
  },
  "language_info": {
   "codemirror_mode": {
    "name": "ipython",
    "version": 3
   },
   "file_extension": ".py",
   "mimetype": "text/x-python",
   "name": "python",
   "nbconvert_exporter": "python",
   "pygments_lexer": "ipython3",
   "version": "3.8.10"
  }
 },
 "nbformat": 4,
 "nbformat_minor": 5
}
