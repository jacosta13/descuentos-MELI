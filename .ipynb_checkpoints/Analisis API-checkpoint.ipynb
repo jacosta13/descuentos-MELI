{
 "cells": [
  {
   "cell_type": "code",
   "execution_count": 1,
   "id": "fd0ce8ca-1f47-4b32-9775-40b0bd86f976",
   "metadata": {},
   "outputs": [],
   "source": [
    "import requests\n",
    "import pandas as pd\n",
    "import time\n",
    "import numpy as np"
   ]
  },
  {
   "cell_type": "markdown",
   "id": "ee767b8b-55fa-4c01-af49-f1b7b5d1aaeb",
   "metadata": {},
   "source": [
    "# Ubicaciones "
   ]
  },
  {
   "cell_type": "code",
   "execution_count": 2,
   "id": "8f101dd6-2499-4a2a-9de9-db6fa6ea39cb",
   "metadata": {},
   "outputs": [],
   "source": [
    "URL_ALL_SITES = \"https://api.mercadolibre.com/sites\" "
   ]
  },
  {
   "cell_type": "code",
   "execution_count": 3,
   "id": "82cf9cbc-c3b3-483d-b5dc-df53e73373e1",
   "metadata": {},
   "outputs": [],
   "source": [
    "json_sites = requests.request(\n",
    "    \"GET\",\n",
    "    URL_ALL_SITES\n",
    ").json()"
   ]
  },
  {
   "cell_type": "code",
   "execution_count": 4,
   "id": "61bd066d-6731-47f7-841d-4b611dea9017",
   "metadata": {},
   "outputs": [
    {
     "data": {
      "text/plain": [
       "[{'default_currency_id': 'USD', 'id': 'MEC', 'name': 'Ecuador'},\n",
       " {'default_currency_id': 'MXN', 'id': 'MLM', 'name': 'Mexico'},\n",
       " {'default_currency_id': 'CUP', 'id': 'MCU', 'name': 'Cuba'},\n",
       " {'default_currency_id': 'GTQ', 'id': 'MGT', 'name': 'Guatemala'},\n",
       " {'default_currency_id': 'COP', 'id': 'MCO', 'name': 'Colombia'},\n",
       " {'default_currency_id': 'USD', 'id': 'MSV', 'name': 'El Salvador'},\n",
       " {'default_currency_id': 'CLP', 'id': 'MLC', 'name': 'Chile'},\n",
       " {'default_currency_id': 'CRC', 'id': 'MCR', 'name': 'Costa Rica'},\n",
       " {'default_currency_id': 'BRL', 'id': 'MLB', 'name': 'Brasil'},\n",
       " {'default_currency_id': 'BOB', 'id': 'MBO', 'name': 'Bolivia'},\n",
       " {'default_currency_id': 'PEN', 'id': 'MPE', 'name': 'Perú'},\n",
       " {'default_currency_id': 'PYG', 'id': 'MPY', 'name': 'Paraguay'},\n",
       " {'default_currency_id': 'NIO', 'id': 'MNI', 'name': 'Nicaragua'},\n",
       " {'default_currency_id': 'HNL', 'id': 'MHN', 'name': 'Honduras'},\n",
       " {'default_currency_id': 'DOP', 'id': 'MRD', 'name': 'Dominicana'},\n",
       " {'default_currency_id': 'PAB', 'id': 'MPA', 'name': 'Panamá'},\n",
       " {'default_currency_id': 'UYU', 'id': 'MLU', 'name': 'Uruguay'},\n",
       " {'default_currency_id': 'VES', 'id': 'MLV', 'name': 'Venezuela'},\n",
       " {'default_currency_id': 'ARS', 'id': 'MLA', 'name': 'Argentina'}]"
      ]
     },
     "execution_count": 4,
     "metadata": {},
     "output_type": "execute_result"
    }
   ],
   "source": [
    "json_sites"
   ]
  },
  {
   "cell_type": "code",
   "execution_count": 5,
   "id": "ee45f57a-8f3e-44ff-81e5-72db221a5a49",
   "metadata": {},
   "outputs": [
    {
     "data": {
      "text/plain": [
       "['MEC',\n",
       " 'MLM',\n",
       " 'MCU',\n",
       " 'MGT',\n",
       " 'MCO',\n",
       " 'MSV',\n",
       " 'MLC',\n",
       " 'MCR',\n",
       " 'MLB',\n",
       " 'MBO',\n",
       " 'MPE',\n",
       " 'MPY',\n",
       " 'MNI',\n",
       " 'MHN',\n",
       " 'MRD',\n",
       " 'MPA',\n",
       " 'MLU',\n",
       " 'MLV',\n",
       " 'MLA']"
      ]
     },
     "execution_count": 5,
     "metadata": {},
     "output_type": "execute_result"
    }
   ],
   "source": [
    "sites = [\n",
    "    x[\"id\"] for x in json_sites\n",
    "]\n",
    "\n",
    "sites"
   ]
  },
  {
   "cell_type": "markdown",
   "id": "1670c776-96ad-4f22-aa8a-75b99975bec4",
   "metadata": {},
   "source": [
    "# Categorias por ubicacion "
   ]
  },
  {
   "cell_type": "code",
   "execution_count": 6,
   "id": "afdc26fb-48f3-4d49-80d9-ec8124813e6e",
   "metadata": {},
   "outputs": [],
   "source": [
    "URL_CAT_BY_SITE = \"https://api.mercadolibre.com/sites/{site}/categories/all\""
   ]
  },
  {
   "cell_type": "markdown",
   "id": "26e1155c-9c23-4e5e-9ec8-3530aa29b802",
   "metadata": {},
   "source": [
    "## Categorias Colombia (MCO)"
   ]
  },
  {
   "cell_type": "code",
   "execution_count": 7,
   "id": "d59dd63b-d00a-4b39-ac9c-52805f9291ab",
   "metadata": {},
   "outputs": [],
   "source": [
    "json_MCO_categories = requests.request(\n",
    "    \"GET\",\n",
    "    URL_CAT_BY_SITE.format(\n",
    "        site=\"MCO\"\n",
    "    )\n",
    ").json()"
   ]
  },
  {
   "cell_type": "code",
   "execution_count": 8,
   "id": "d8d7929e-7666-4b43-8eb5-e4e6b522a4fd",
   "metadata": {
    "tags": []
   },
   "outputs": [
    {
     "name": "stdout",
     "output_type": "stream",
     "text": [
      "[INFO]: Numero de categorias en Colombia: 9704\n"
     ]
    },
    {
     "data": {
      "text/plain": [
       "['MCO6934',\n",
       " 'MCO441917',\n",
       " 'MCO1403',\n",
       " 'MCO90072',\n",
       " 'MCO403334',\n",
       " 'MCO173787',\n",
       " 'MCO442346',\n",
       " 'MCO417547',\n",
       " 'MCO1747',\n",
       " 'MCO434708']"
      ]
     },
     "execution_count": 8,
     "metadata": {},
     "output_type": "execute_result"
    }
   ],
   "source": [
    "cats_MCO = list(json_MCO_categories.keys())\n",
    "print(\"[INFO]: Numero de categorias en Colombia:\", len(cats_MCO))\n",
    "cats_MCO[:10]"
   ]
  },
  {
   "cell_type": "markdown",
   "id": "32341b36-d5dc-48f8-af8d-799de311cf58",
   "metadata": {},
   "source": [
    "### Analisis de categoria"
   ]
  },
  {
   "cell_type": "markdown",
   "id": "f410ddfc-97bc-48fc-a527-3f1ec1f0d8f3",
   "metadata": {},
   "source": [
    "Listado de atributos por categoria"
   ]
  },
  {
   "cell_type": "code",
   "execution_count": 9,
   "id": "18ce3522-572b-4266-8727-3af6cceb981b",
   "metadata": {},
   "outputs": [
    {
     "name": "stdout",
     "output_type": "stream",
     "text": [
      "id\n",
      "name\n",
      "picture\n",
      "permalink\n",
      "total_items_in_this_category\n",
      "path_from_root\n",
      "children_categories\n",
      "attribute_types\n",
      "settings\n",
      "channels_settings\n",
      "meta_categ_id\n",
      "attributable\n",
      "date_created\n"
     ]
    }
   ],
   "source": [
    "for x in json_MCO_categories[cats_MCO[0]].keys():\n",
    "    print(x)"
   ]
  },
  {
   "cell_type": "code",
   "execution_count": 10,
   "id": "f2a242ee-ae5d-4ccc-9759-c2c6c0f74e8f",
   "metadata": {},
   "outputs": [
    {
     "data": {
      "text/plain": [
       "274908"
      ]
     },
     "execution_count": 10,
     "metadata": {},
     "output_type": "execute_result"
    }
   ],
   "source": [
    "json_MCO_categories[cats_MCO[0]][\"total_items_in_this_category\"]"
   ]
  },
  {
   "cell_type": "code",
   "execution_count": 11,
   "id": "3cd0f231-01f5-4dbc-b04f-9ae172b5db88",
   "metadata": {},
   "outputs": [
    {
     "data": {
      "text/plain": [
       "dict_keys(['adult_content', 'buying_allowed', 'buying_modes', 'catalog_domain', 'coverage_areas', 'currencies', 'fragile', 'immediate_payment', 'item_conditions', 'items_reviews_allowed', 'listing_allowed', 'max_description_length', 'max_pictures_per_item', 'max_pictures_per_item_var', 'max_sub_title_length', 'max_title_length', 'max_variations_allowed', 'maximum_price', 'maximum_price_currency', 'minimum_price', 'minimum_price_currency', 'mirror_category', 'mirror_master_category', 'mirror_slave_categories', 'price', 'reservation_allowed', 'restrictions', 'rounded_address', 'seller_contact', 'shipping_options', 'shipping_profile', 'show_contact_information', 'simple_shipping', 'stock', 'sub_vertical', 'subscribable', 'tags', 'vertical', 'vip_subdomain', 'buyer_protection_programs', 'status'])"
      ]
     },
     "execution_count": 11,
     "metadata": {},
     "output_type": "execute_result"
    }
   ],
   "source": [
    "json_MCO_categories[cats_MCO[0]][\"settings\"].keys()"
   ]
  },
  {
   "cell_type": "code",
   "execution_count": 12,
   "id": "91884d8d-3f81-4408-95c2-634b33d17c9e",
   "metadata": {},
   "outputs": [
    {
     "data": {
      "text/plain": [
       "{'id': 'MCO6934',\n",
       " 'name': 'Acc. para Carros y Camionetas',\n",
       " 'picture': 'http://resources.mlstatic.com/category/images/2e4b7d67-a92d-4125-826e-2c8bda65613a.png',\n",
       " 'permalink': None,\n",
       " 'total_items_in_this_category': 274908,\n",
       " 'path_from_root': [{'id': 'MCO1747', 'name': 'Accesorios para Vehículos'},\n",
       "  {'id': 'MCO6934', 'name': 'Acc. para Carros y Camionetas'}],\n",
       " 'children_categories': [{'id': 'MCO173787',\n",
       "   'name': 'Accesorios de Exterior',\n",
       "   'total_items_in_this_category': 95641},\n",
       "  {'id': 'MCO173811',\n",
       "   'name': 'Accesorios de Interior',\n",
       "   'total_items_in_this_category': 120651},\n",
       "  {'id': 'MCO87923', 'name': 'Otros', 'total_items_in_this_category': 58531}],\n",
       " 'attribute_types': 'attributes',\n",
       " 'settings': {'adult_content': False,\n",
       "  'buying_allowed': True,\n",
       "  'buying_modes': ['buy_it_now', 'auction'],\n",
       "  'catalog_domain': 'MCO-LIGHT_VEHICLE_ACCESSORIES',\n",
       "  'coverage_areas': 'not_allowed',\n",
       "  'currencies': ['COP'],\n",
       "  'fragile': False,\n",
       "  'immediate_payment': 'required',\n",
       "  'item_conditions': ['not_specified', 'used', 'new'],\n",
       "  'items_reviews_allowed': False,\n",
       "  'listing_allowed': False,\n",
       "  'max_description_length': 50000,\n",
       "  'max_pictures_per_item': 12,\n",
       "  'max_pictures_per_item_var': 10,\n",
       "  'max_sub_title_length': 70,\n",
       "  'max_title_length': 60,\n",
       "  'max_variations_allowed': 100,\n",
       "  'maximum_price': None,\n",
       "  'maximum_price_currency': 'COP',\n",
       "  'minimum_price': 1400,\n",
       "  'minimum_price_currency': 'COP',\n",
       "  'mirror_category': None,\n",
       "  'mirror_master_category': None,\n",
       "  'mirror_slave_categories': [],\n",
       "  'price': 'required',\n",
       "  'reservation_allowed': 'not_allowed',\n",
       "  'restrictions': [],\n",
       "  'rounded_address': False,\n",
       "  'seller_contact': 'not_allowed',\n",
       "  'shipping_options': ['custom', 'carrier'],\n",
       "  'shipping_profile': 'optional',\n",
       "  'show_contact_information': False,\n",
       "  'simple_shipping': 'optional',\n",
       "  'stock': 'required',\n",
       "  'sub_vertical': None,\n",
       "  'subscribable': False,\n",
       "  'tags': [],\n",
       "  'vertical': None,\n",
       "  'vip_subdomain': 'articulo',\n",
       "  'buyer_protection_programs': ['delivered', 'undelivered'],\n",
       "  'status': 'enabled'},\n",
       " 'channels_settings': [{'channel': 'mshops', 'settings': {'minimum_price': 0}},\n",
       "  {'channel': 'proximity', 'settings': {'status': 'disabled'}},\n",
       "  {'channel': 'mp-merchants',\n",
       "   'settings': {'buying_modes': ['buy_it_now'],\n",
       "    'immediate_payment': 'required',\n",
       "    'minimum_price': 1,\n",
       "    'status': 'enabled'}}],\n",
       " 'meta_categ_id': None,\n",
       " 'attributable': False,\n",
       " 'date_created': '2018-04-25T08:12:56.000Z'}"
      ]
     },
     "execution_count": 12,
     "metadata": {},
     "output_type": "execute_result"
    }
   ],
   "source": [
    "json_MCO_categories[\"MCO6934\"]"
   ]
  },
  {
   "cell_type": "markdown",
   "id": "3e505952-7012-40fd-a47b-4977abc1c4cb",
   "metadata": {},
   "source": [
    "## Categorias Relevantes"
   ]
  },
  {
   "cell_type": "code",
   "execution_count": 13,
   "id": "2877da94-f6a3-4d9a-a7be-ac1cab91c84d",
   "metadata": {},
   "outputs": [
    {
     "data": {
      "text/html": [
       "<div>\n",
       "<style scoped>\n",
       "    .dataframe tbody tr th:only-of-type {\n",
       "        vertical-align: middle;\n",
       "    }\n",
       "\n",
       "    .dataframe tbody tr th {\n",
       "        vertical-align: top;\n",
       "    }\n",
       "\n",
       "    .dataframe thead th {\n",
       "        text-align: right;\n",
       "    }\n",
       "</style>\n",
       "<table border=\"1\" class=\"dataframe\">\n",
       "  <thead>\n",
       "    <tr style=\"text-align: right;\">\n",
       "      <th></th>\n",
       "      <th>cod_category</th>\n",
       "      <th>name_category</th>\n",
       "      <th>total_items</th>\n",
       "      <th>parti_num_items</th>\n",
       "      <th>cum_parti_num_items</th>\n",
       "    </tr>\n",
       "  </thead>\n",
       "  <tbody>\n",
       "    <tr>\n",
       "      <th>0</th>\n",
       "      <td>MCO1574</td>\n",
       "      <td>Hogar y Muebles</td>\n",
       "      <td>4305565</td>\n",
       "      <td>5.430839</td>\n",
       "      <td>5.430839</td>\n",
       "    </tr>\n",
       "    <tr>\n",
       "      <th>1</th>\n",
       "      <td>MCO1132</td>\n",
       "      <td>Juegos y Juguetes</td>\n",
       "      <td>2136362</td>\n",
       "      <td>2.694708</td>\n",
       "      <td>8.125547</td>\n",
       "    </tr>\n",
       "    <tr>\n",
       "      <th>2</th>\n",
       "      <td>MCO1246</td>\n",
       "      <td>Belleza y Cuidado Personal</td>\n",
       "      <td>2059954</td>\n",
       "      <td>2.598330</td>\n",
       "      <td>10.723877</td>\n",
       "    </tr>\n",
       "    <tr>\n",
       "      <th>3</th>\n",
       "      <td>MCO1747</td>\n",
       "      <td>Accesorios para Vehículos</td>\n",
       "      <td>1596663</td>\n",
       "      <td>2.013956</td>\n",
       "      <td>12.737833</td>\n",
       "    </tr>\n",
       "    <tr>\n",
       "      <th>4</th>\n",
       "      <td>MCO1430</td>\n",
       "      <td>Ropa y Accesorios</td>\n",
       "      <td>1431321</td>\n",
       "      <td>1.805402</td>\n",
       "      <td>14.543235</td>\n",
       "    </tr>\n",
       "    <tr>\n",
       "      <th>...</th>\n",
       "      <td>...</td>\n",
       "      <td>...</td>\n",
       "      <td>...</td>\n",
       "      <td>...</td>\n",
       "      <td>...</td>\n",
       "    </tr>\n",
       "    <tr>\n",
       "      <th>9699</th>\n",
       "      <td>MCO401906</td>\n",
       "      <td>Emuladores de Inyectores</td>\n",
       "      <td>0</td>\n",
       "      <td>0.000000</td>\n",
       "      <td>100.000000</td>\n",
       "    </tr>\n",
       "    <tr>\n",
       "      <th>9700</th>\n",
       "      <td>MCO417291</td>\n",
       "      <td>Otros</td>\n",
       "      <td>0</td>\n",
       "      <td>0.000000</td>\n",
       "      <td>100.000000</td>\n",
       "    </tr>\n",
       "    <tr>\n",
       "      <th>9701</th>\n",
       "      <td>MCO189233</td>\n",
       "      <td>Transfers para Gelatinas</td>\n",
       "      <td>0</td>\n",
       "      <td>0.000000</td>\n",
       "      <td>100.000000</td>\n",
       "    </tr>\n",
       "    <tr>\n",
       "      <th>9702</th>\n",
       "      <td>MCO263824</td>\n",
       "      <td>Panes de Miel</td>\n",
       "      <td>0</td>\n",
       "      <td>0.000000</td>\n",
       "      <td>100.000000</td>\n",
       "    </tr>\n",
       "    <tr>\n",
       "      <th>9703</th>\n",
       "      <td>MCO454843</td>\n",
       "      <td>Repuestos para Estetoscopios</td>\n",
       "      <td>0</td>\n",
       "      <td>0.000000</td>\n",
       "      <td>100.000000</td>\n",
       "    </tr>\n",
       "  </tbody>\n",
       "</table>\n",
       "<p>9704 rows × 5 columns</p>\n",
       "</div>"
      ],
      "text/plain": [
       "     cod_category                 name_category  total_items  parti_num_items  \\\n",
       "0         MCO1574               Hogar y Muebles      4305565         5.430839   \n",
       "1         MCO1132             Juegos y Juguetes      2136362         2.694708   \n",
       "2         MCO1246    Belleza y Cuidado Personal      2059954         2.598330   \n",
       "3         MCO1747     Accesorios para Vehículos      1596663         2.013956   \n",
       "4         MCO1430             Ropa y Accesorios      1431321         1.805402   \n",
       "...           ...                           ...          ...              ...   \n",
       "9699    MCO401906      Emuladores de Inyectores            0         0.000000   \n",
       "9700    MCO417291                         Otros            0         0.000000   \n",
       "9701    MCO189233      Transfers para Gelatinas            0         0.000000   \n",
       "9702    MCO263824                 Panes de Miel            0         0.000000   \n",
       "9703    MCO454843  Repuestos para Estetoscopios            0         0.000000   \n",
       "\n",
       "      cum_parti_num_items  \n",
       "0                5.430839  \n",
       "1                8.125547  \n",
       "2               10.723877  \n",
       "3               12.737833  \n",
       "4               14.543235  \n",
       "...                   ...  \n",
       "9699           100.000000  \n",
       "9700           100.000000  \n",
       "9701           100.000000  \n",
       "9702           100.000000  \n",
       "9703           100.000000  \n",
       "\n",
       "[9704 rows x 5 columns]"
      ]
     },
     "execution_count": 13,
     "metadata": {},
     "output_type": "execute_result"
    }
   ],
   "source": [
    "data_items = {\n",
    "    \"cod_category\":[],\n",
    "    \"name_category\":[],\n",
    "    \"total_items\":[]\n",
    "}\n",
    "\n",
    "for cat in json_MCO_categories.keys():\n",
    "    num_items = json_MCO_categories[cat][\"total_items_in_this_category\"]\n",
    "    name = json_MCO_categories[cat][\"name\"]\n",
    "\n",
    "    data_items[\"cod_category\"].append(cat)\n",
    "    data_items[\"name_category\"].append(name)\n",
    "    data_items[\"total_items\"].append(num_items)\n",
    "\n",
    "    \n",
    "df_items = pd.DataFrame(\n",
    "    data_items\n",
    ")\n",
    "\n",
    "df_items.sort_values(\n",
    "    by=[\"total_items\"],\n",
    "    inplace=True,\n",
    "    ascending=False\n",
    ")\n",
    "\n",
    "df_items.reset_index(\n",
    "    inplace=True,\n",
    "    drop=True\n",
    ")\n",
    "\n",
    "df_items[\"parti_num_items\"] = 100* df_items[\"total_items\"] / df_items[\"total_items\"].sum()\n",
    "\n",
    "df_items[\"cum_parti_num_items\"] = df_items[\"parti_num_items\"].cumsum()\n",
    "\n",
    "df_items"
   ]
  },
  {
   "cell_type": "markdown",
   "id": "e0394c4f-609a-4a06-8ffd-51ddc6b4f284",
   "metadata": {},
   "source": [
    "Seleccion de categorias con mayor participacion"
   ]
  },
  {
   "cell_type": "code",
   "execution_count": 14,
   "id": "34012091-cf4f-4bbf-8006-203b51e74cc5",
   "metadata": {},
   "outputs": [
    {
     "data": {
      "text/plain": [
       "118627"
      ]
     },
     "execution_count": 14,
     "metadata": {},
     "output_type": "execute_result"
    }
   ],
   "source": [
    "118627"
   ]
  },
  {
   "cell_type": "code",
   "execution_count": 15,
   "id": "a2d631df-dc93-4f90-9e28-617434e2c5f1",
   "metadata": {},
   "outputs": [
    {
     "data": {
      "text/html": [
       "<div>\n",
       "<style scoped>\n",
       "    .dataframe tbody tr th:only-of-type {\n",
       "        vertical-align: middle;\n",
       "    }\n",
       "\n",
       "    .dataframe tbody tr th {\n",
       "        vertical-align: top;\n",
       "    }\n",
       "\n",
       "    .dataframe thead th {\n",
       "        text-align: right;\n",
       "    }\n",
       "</style>\n",
       "<table border=\"1\" class=\"dataframe\">\n",
       "  <thead>\n",
       "    <tr style=\"text-align: right;\">\n",
       "      <th></th>\n",
       "      <th>cod_category</th>\n",
       "      <th>name_category</th>\n",
       "      <th>total_items</th>\n",
       "      <th>parti_num_items</th>\n",
       "      <th>cum_parti_num_items</th>\n",
       "    </tr>\n",
       "  </thead>\n",
       "  <tbody>\n",
       "    <tr>\n",
       "      <th>0</th>\n",
       "      <td>MCO1574</td>\n",
       "      <td>Hogar y Muebles</td>\n",
       "      <td>4305565</td>\n",
       "      <td>5.430839</td>\n",
       "      <td>5.430839</td>\n",
       "    </tr>\n",
       "    <tr>\n",
       "      <th>1</th>\n",
       "      <td>MCO1132</td>\n",
       "      <td>Juegos y Juguetes</td>\n",
       "      <td>2136362</td>\n",
       "      <td>2.694708</td>\n",
       "      <td>8.125547</td>\n",
       "    </tr>\n",
       "    <tr>\n",
       "      <th>2</th>\n",
       "      <td>MCO1246</td>\n",
       "      <td>Belleza y Cuidado Personal</td>\n",
       "      <td>2059954</td>\n",
       "      <td>2.598330</td>\n",
       "      <td>10.723877</td>\n",
       "    </tr>\n",
       "    <tr>\n",
       "      <th>3</th>\n",
       "      <td>MCO1747</td>\n",
       "      <td>Accesorios para Vehículos</td>\n",
       "      <td>1596663</td>\n",
       "      <td>2.013956</td>\n",
       "      <td>12.737833</td>\n",
       "    </tr>\n",
       "    <tr>\n",
       "      <th>4</th>\n",
       "      <td>MCO1430</td>\n",
       "      <td>Ropa y Accesorios</td>\n",
       "      <td>1431321</td>\n",
       "      <td>1.805402</td>\n",
       "      <td>14.543235</td>\n",
       "    </tr>\n",
       "    <tr>\n",
       "      <th>5</th>\n",
       "      <td>MCO1592</td>\n",
       "      <td>Cocina</td>\n",
       "      <td>1260470</td>\n",
       "      <td>1.589898</td>\n",
       "      <td>16.133133</td>\n",
       "    </tr>\n",
       "    <tr>\n",
       "      <th>6</th>\n",
       "      <td>MCO3025</td>\n",
       "      <td>Libros, Revistas y Comics</td>\n",
       "      <td>1088052</td>\n",
       "      <td>1.372418</td>\n",
       "      <td>17.505551</td>\n",
       "    </tr>\n",
       "    <tr>\n",
       "      <th>7</th>\n",
       "      <td>MCO1276</td>\n",
       "      <td>Deportes y Fitness</td>\n",
       "      <td>1063357</td>\n",
       "      <td>1.341269</td>\n",
       "      <td>18.846820</td>\n",
       "    </tr>\n",
       "    <tr>\n",
       "      <th>8</th>\n",
       "      <td>MCO1196</td>\n",
       "      <td>Libros Físicos</td>\n",
       "      <td>1016174</td>\n",
       "      <td>1.281755</td>\n",
       "      <td>20.128575</td>\n",
       "    </tr>\n",
       "    <tr>\n",
       "      <th>9</th>\n",
       "      <td>MCO1631</td>\n",
       "      <td>Adornos y Decoración del Hogar</td>\n",
       "      <td>860546</td>\n",
       "      <td>1.085453</td>\n",
       "      <td>21.214027</td>\n",
       "    </tr>\n",
       "    <tr>\n",
       "      <th>10</th>\n",
       "      <td>MCO175794</td>\n",
       "      <td>Herramientas</td>\n",
       "      <td>852205</td>\n",
       "      <td>1.074932</td>\n",
       "      <td>22.288959</td>\n",
       "    </tr>\n",
       "    <tr>\n",
       "      <th>11</th>\n",
       "      <td>MCO1000</td>\n",
       "      <td>Electrónica, Audio y Video</td>\n",
       "      <td>824783</td>\n",
       "      <td>1.040343</td>\n",
       "      <td>23.329302</td>\n",
       "    </tr>\n",
       "    <tr>\n",
       "      <th>12</th>\n",
       "      <td>MCO3937</td>\n",
       "      <td>Relojes y Joyas</td>\n",
       "      <td>810070</td>\n",
       "      <td>1.021785</td>\n",
       "      <td>24.351086</td>\n",
       "    </tr>\n",
       "    <tr>\n",
       "      <th>13</th>\n",
       "      <td>MCO1368</td>\n",
       "      <td>Arte, Papelería y Mercería</td>\n",
       "      <td>781489</td>\n",
       "      <td>0.985734</td>\n",
       "      <td>25.336820</td>\n",
       "    </tr>\n",
       "    <tr>\n",
       "      <th>14</th>\n",
       "      <td>MCO1051</td>\n",
       "      <td>Celulares y Teléfonos</td>\n",
       "      <td>740084</td>\n",
       "      <td>0.933507</td>\n",
       "      <td>26.270328</td>\n",
       "    </tr>\n",
       "    <tr>\n",
       "      <th>15</th>\n",
       "      <td>MCO87919</td>\n",
       "      <td>Repuestos Carros y Camionetas</td>\n",
       "      <td>736683</td>\n",
       "      <td>0.929218</td>\n",
       "      <td>27.199545</td>\n",
       "    </tr>\n",
       "    <tr>\n",
       "      <th>16</th>\n",
       "      <td>MCO176628</td>\n",
       "      <td>Muñecos y Muñecas</td>\n",
       "      <td>678137</td>\n",
       "      <td>0.855370</td>\n",
       "      <td>28.054916</td>\n",
       "    </tr>\n",
       "    <tr>\n",
       "      <th>17</th>\n",
       "      <td>MCO1648</td>\n",
       "      <td>Computación</td>\n",
       "      <td>665090</td>\n",
       "      <td>0.838914</td>\n",
       "      <td>28.893829</td>\n",
       "    </tr>\n",
       "    <tr>\n",
       "      <th>18</th>\n",
       "      <td>MCO3813</td>\n",
       "      <td>Accesorios para Celulares</td>\n",
       "      <td>615676</td>\n",
       "      <td>0.776585</td>\n",
       "      <td>29.670414</td>\n",
       "    </tr>\n",
       "    <tr>\n",
       "      <th>19</th>\n",
       "      <td>MCO1384</td>\n",
       "      <td>Bebés</td>\n",
       "      <td>563555</td>\n",
       "      <td>0.710842</td>\n",
       "      <td>30.381256</td>\n",
       "    </tr>\n",
       "  </tbody>\n",
       "</table>\n",
       "</div>"
      ],
      "text/plain": [
       "   cod_category                   name_category  total_items  parti_num_items  \\\n",
       "0       MCO1574                 Hogar y Muebles      4305565         5.430839   \n",
       "1       MCO1132               Juegos y Juguetes      2136362         2.694708   \n",
       "2       MCO1246      Belleza y Cuidado Personal      2059954         2.598330   \n",
       "3       MCO1747       Accesorios para Vehículos      1596663         2.013956   \n",
       "4       MCO1430               Ropa y Accesorios      1431321         1.805402   \n",
       "5       MCO1592                          Cocina      1260470         1.589898   \n",
       "6       MCO3025       Libros, Revistas y Comics      1088052         1.372418   \n",
       "7       MCO1276              Deportes y Fitness      1063357         1.341269   \n",
       "8       MCO1196                  Libros Físicos      1016174         1.281755   \n",
       "9       MCO1631  Adornos y Decoración del Hogar       860546         1.085453   \n",
       "10    MCO175794                    Herramientas       852205         1.074932   \n",
       "11      MCO1000      Electrónica, Audio y Video       824783         1.040343   \n",
       "12      MCO3937                 Relojes y Joyas       810070         1.021785   \n",
       "13      MCO1368      Arte, Papelería y Mercería       781489         0.985734   \n",
       "14      MCO1051           Celulares y Teléfonos       740084         0.933507   \n",
       "15     MCO87919   Repuestos Carros y Camionetas       736683         0.929218   \n",
       "16    MCO176628               Muñecos y Muñecas       678137         0.855370   \n",
       "17      MCO1648                     Computación       665090         0.838914   \n",
       "18      MCO3813       Accesorios para Celulares       615676         0.776585   \n",
       "19      MCO1384                           Bebés       563555         0.710842   \n",
       "\n",
       "    cum_parti_num_items  \n",
       "0              5.430839  \n",
       "1              8.125547  \n",
       "2             10.723877  \n",
       "3             12.737833  \n",
       "4             14.543235  \n",
       "5             16.133133  \n",
       "6             17.505551  \n",
       "7             18.846820  \n",
       "8             20.128575  \n",
       "9             21.214027  \n",
       "10            22.288959  \n",
       "11            23.329302  \n",
       "12            24.351086  \n",
       "13            25.336820  \n",
       "14            26.270328  \n",
       "15            27.199545  \n",
       "16            28.054916  \n",
       "17            28.893829  \n",
       "18            29.670414  \n",
       "19            30.381256  "
      ]
     },
     "execution_count": 15,
     "metadata": {},
     "output_type": "execute_result"
    }
   ],
   "source": [
    "over_80_perc = df_items[df_items[\"cum_parti_num_items\"] > 80].index\n",
    "df_items.drop(\n",
    "    index=over_80_perc,\n",
    "    inplace=True\n",
    ")\n",
    "\n",
    "df_items.head(20)"
   ]
  },
  {
   "cell_type": "code",
   "execution_count": 16,
   "id": "e802b7e4-ec96-4610-87a9-bd07fb8d3a29",
   "metadata": {},
   "outputs": [
    {
     "data": {
      "text/plain": [
       "<AxesSubplot:>"
      ]
     },
     "execution_count": 16,
     "metadata": {},
     "output_type": "execute_result"
    },
    {
     "data": {
      "image/png": "[encoded data removed]",
      "text/plain": [
       "<Figure size 432x288 with 1 Axes>"
      ]
     },
     "metadata": {
      "needs_background": "light"
     },
     "output_type": "display_data"
    }
   ],
   "source": [
    "df_items[\"total_items\"].plot(kind=\"box\")"
   ]
  },
  {
   "cell_type": "code",
   "execution_count": 17,
   "id": "c1077fd2-cc71-43b4-b148-0e7979aaba39",
   "metadata": {},
   "outputs": [
    {
     "data": {
      "text/plain": [
       "count    5.080000e+02\n",
       "mean     1.248268e+05\n",
       "std      2.875454e+05\n",
       "min      2.213100e+04\n",
       "25%      3.095250e+04\n",
       "50%      4.668950e+04\n",
       "75%      1.015880e+05\n",
       "max      4.305565e+06\n",
       "Name: total_items, dtype: float64"
      ]
     },
     "execution_count": 17,
     "metadata": {},
     "output_type": "execute_result"
    }
   ],
   "source": [
    "df_items[\"total_items\"].describe()"
   ]
  },
  {
   "cell_type": "code",
   "execution_count": 18,
   "id": "c8b7a688-a0f5-4ad6-aee7-60aa64aa54ed",
   "metadata": {},
   "outputs": [
    {
     "data": {
      "text/plain": [
       "['MCO1574',\n",
       " 'MCO1132',\n",
       " 'MCO1246',\n",
       " 'MCO1747',\n",
       " 'MCO1430',\n",
       " 'MCO1592',\n",
       " 'MCO3025',\n",
       " 'MCO1276',\n",
       " 'MCO1196',\n",
       " 'MCO1631']"
      ]
     },
     "execution_count": 18,
     "metadata": {},
     "output_type": "execute_result"
    }
   ],
   "source": [
    "cats_MCO = list(df_items.cod_category)\n",
    "\n",
    "cats_MCO[:10]"
   ]
  },
  {
   "cell_type": "markdown",
   "id": "26c46570-7925-4c21-8635-dd5bdc271cc4",
   "metadata": {},
   "source": [
    "# Items por Categoria"
   ]
  },
  {
   "cell_type": "markdown",
   "id": "fea1e49a-2ac4-41e8-b297-0a117e17a11a",
   "metadata": {},
   "source": [
    "Analisis de metodo GET para listado de items por categoria"
   ]
  },
  {
   "cell_type": "code",
   "execution_count": 19,
   "id": "bde4b55e-14a9-43ce-938b-b602f96e267c",
   "metadata": {},
   "outputs": [],
   "source": [
    "URL_SPCF_CAT = \"https://api.mercadolibre.com/sites/{site}/search?category={category}\""
   ]
  },
  {
   "cell_type": "code",
   "execution_count": 20,
   "id": "637e0941-35c6-4133-930f-47c6cc424bc6",
   "metadata": {},
   "outputs": [
    {
     "name": "stdout",
     "output_type": "stream",
     "text": [
      "2.6373414993286133\n"
     ]
    }
   ],
   "source": [
    "start = time.time()\n",
    "json_items = requests.request(\n",
    "    \"GET\",\n",
    "    URL_SPCF_CAT.format(\n",
    "        site=\"MCO\",\n",
    "        category=\"MCO1574\"\n",
    "    )\n",
    ").json()\n",
    "end = time.time()\n",
    "lapso = end -start\n",
    "print(lapso)"
   ]
  },
  {
   "cell_type": "code",
   "execution_count": 21,
   "id": "607fdd81-5449-4153-a9d9-a2b4ea7fb5d0",
   "metadata": {},
   "outputs": [
    {
     "data": {
      "text/plain": [
       "39"
      ]
     },
     "execution_count": 21,
     "metadata": {},
     "output_type": "execute_result"
    }
   ],
   "source": [
    "len(json_items[\"results\"])"
   ]
  },
  {
   "cell_type": "code",
   "execution_count": 22,
   "id": "3fdfd906-32fe-4be1-b12f-f3b3d1716aab",
   "metadata": {},
   "outputs": [
    {
     "name": "stdout",
     "output_type": "stream",
     "text": [
      "num_item 0\n",
      "item_id MCO564288693\n",
      "original_price 423150\n"
     ]
    }
   ],
   "source": [
    "pos = 0\n",
    "sin_descuento = True\n",
    "while sin_descuento&(pos < len(json_items[\"results\"])):\n",
    "    \n",
    "    if json_items[\"results\"][pos][\"original_price\"]:\n",
    "        \n",
    "        print(\"num_item\", pos)\n",
    "        print(\"item_id\",json_items[\"results\"][pos][\"id\"])\n",
    "        print(\"original_price\",json_items[\"results\"][pos][\"original_price\"])\n",
    "        sin_descuento = False\n",
    "    \n",
    "    pos = pos + 1"
   ]
  },
  {
   "cell_type": "code",
   "execution_count": 23,
   "id": "c257d60f-3038-4548-aded-20b5fb568559",
   "metadata": {},
   "outputs": [
    {
     "name": "stdout",
     "output_type": "stream",
     "text": [
      "Numero de items con descuento: 11\n",
      "Porcentaje de items con descuento: 28.205128205128204\n"
     ]
    }
   ],
   "source": [
    "items_descuentos = [x for x in json_items[\"results\"] if x[\"original_price\"]]\n",
    "print(\"Numero de items con descuento:\", len(items_descuentos))\n",
    "print(\"Porcentaje de items con descuento:\", 100*len(items_descuentos)/len(json_items[\"results\"]))"
   ]
  },
  {
   "cell_type": "code",
   "execution_count": 24,
   "id": "f2065e38-4967-49cd-8739-5500eb2e5ad8",
   "metadata": {},
   "outputs": [
    {
     "data": {
      "text/plain": [
       "dict_keys(['site_id', 'country_default_time_zone', 'paging', 'results', 'sort', 'available_sorts', 'filters', 'available_filters'])"
      ]
     },
     "execution_count": 24,
     "metadata": {},
     "output_type": "execute_result"
    }
   ],
   "source": [
    "json_items.keys()"
   ]
  },
  {
   "cell_type": "code",
   "execution_count": 25,
   "id": "885ab867-8bc4-4ec7-bf54-84074cbf8b12",
   "metadata": {},
   "outputs": [
    {
     "name": "stdout",
     "output_type": "stream",
     "text": [
      "paging {'total': 13788, 'primary_results': 1000, 'offset': 0, 'limit': 50}\n",
      "\n",
      "\n",
      "sort {'id': 'relevance', 'name': 'Más relevantes'}\n",
      "\n",
      "\n",
      "available_sorts [{'id': 'price_asc', 'name': 'Menor precio'}, {'id': 'price_desc', 'name': 'Mayor precio'}]\n",
      "\n",
      "\n",
      "filters [{'id': 'category', 'name': 'Categorías', 'type': 'text', 'values': [{'id': 'MCO1574', 'name': 'Hogar y Muebles', 'path_from_root': [{'id': 'MCO1574', 'name': 'Hogar y Muebles'}]}]}]\n",
      "\n",
      "\n",
      "available_filters [{'id': 'category', 'name': 'Categorías', 'type': 'text', 'values': [{'id': 'MCO436380', 'name': 'Muebles para el Hogar', 'results': 1625}, {'id': 'MCO1592', 'name': 'Cocina', 'results': 3306}, {'id': 'MCO165940', 'name': 'Jardin y Aire Libre', 'results': 2049}, {'id': 'MCO166256', 'name': 'Baños', 'results': 1543}, {'id': 'MCO1631', 'name': 'Adornos y Decoración del Hogar', 'results': 1483}, {'id': 'MCO436246', 'name': 'Textiles de Hogar y Decoración', 'results': 1319}, {'id': 'MCO181171', 'name': 'Cuidado del Hogar y Lavandería', 'results': 1000}, {'id': 'MCO7155', 'name': 'Iluminación para el Hogar', 'results': 994}, {'id': 'MCO441249', 'name': 'Camas, Colchones y Accesorios', 'results': 801}, {'id': 'MCO177804', 'name': 'Seguridad para el Hogar', 'results': 676}, {'id': 'MCO436414', 'name': 'Organización para el Hogar', 'results': 547}, {'id': 'MCO1902', 'name': 'Otros', 'results': 100}]}, {'id': 'official_store', 'name': 'Tiendas oficiales', 'type': 'text', 'values': [{'id': 'all', 'name': 'Todas las tiendas oficiales', 'results': 653}, {'id': '1471', 'name': 'RTA Muebles', 'results': 38}, {'id': '1568', 'name': 'Ergonomus', 'results': 46}, {'id': '172', 'name': 'Maderkit', 'results': 19}, {'id': '1653', 'name': 'Alluma Colombia', 'results': 12}]}, {'id': 'state', 'name': 'Ubicación', 'type': 'text', 'values': [{'id': 'CO-DC', 'name': 'Bogotá D.C.', 'results': 7805}, {'id': 'CO-ANT', 'name': 'Antioquia', 'results': 2101}, {'id': 'CO-CUN', 'name': 'Cundinamarca', 'results': 1572}, {'id': 'CO-VAC', 'name': 'Valle Del Cauca', 'results': 793}, {'id': 'CO-SAN', 'name': 'Santander', 'results': 247}, {'id': 'CO-RIS', 'name': 'Risaralda', 'results': 203}, {'id': 'CO-NSA', 'name': 'Norte De Santander', 'results': 186}, {'id': 'CO-ATL', 'name': 'Atlantico', 'results': 150}, {'id': 'CO-CAL', 'name': 'Caldas', 'results': 122}, {'id': 'CO-BOY', 'name': 'Boyaca', 'results': 121}, {'id': 'CO-MET', 'name': 'Meta', 'results': 89}, {'id': 'CO-HUI', 'name': 'Huila', 'results': 63}, {'id': 'CO-QUI', 'name': 'Quindio', 'results': 56}, {'id': 'CO-TOL', 'name': 'Tolima', 'results': 44}, {'id': 'CO-BOL', 'name': 'Bolivar', 'results': 43}, {'id': 'CO-SUC', 'name': 'Sucre', 'results': 42}, {'id': 'CO-CES', 'name': 'Cesar', 'results': 29}, {'id': 'CO-NAR', 'name': 'Nariño', 'results': 27}, {'id': 'CO-MAG', 'name': 'Magdalena', 'results': 23}, {'id': 'CO-LAG', 'name': 'Guajira', 'results': 10}, {'id': 'CO-CAU', 'name': 'Cauca', 'results': 8}, {'id': 'CO-COR', 'name': 'Córdoba', 'results': 8}, {'id': 'CO-CAQ', 'name': 'Caqueta', 'results': 1}, {'id': 'CO-CAS', 'name': 'Casanare', 'results': 1}, {'id': 'CO-PUT', 'name': 'Putumayo', 'results': 1}]}, {'id': 'price', 'name': 'Precio', 'type': 'range', 'values': [{'id': '*-20000.0', 'name': 'Hasta $20.000', 'results': 3730}, {'id': '20000.0-70000.0', 'name': '$20.000 a $70.000', 'results': 5317}, {'id': '70000.0-*', 'name': 'Más de $70.000', 'results': 4741}]}, {'id': 'accepts_mercadopago', 'name': 'Filtro por MercadoPago', 'type': 'boolean', 'values': [{'id': 'yes', 'name': 'Con MercadoPago', 'results': 13788}]}, {'id': 'installments', 'name': 'Pago', 'type': 'text', 'values': [{'id': 'yes', 'name': 'En cuotas', 'results': 13767}, {'id': 'no_interest', 'name': 'Cuotas sin interés', 'results': 6458}]}, {'id': 'shipping', 'name': 'Envío', 'type': 'text', 'values': [{'id': 'mercadoenvios', 'name': 'Mercado Envíos', 'results': 12954}, {'id': 'fulfillment', 'name': 'Full', 'results': 1347}]}, {'id': 'power_seller', 'name': 'Filtro por calidad de vendedores', 'type': 'boolean', 'values': [{'id': 'yes', 'name': 'Mejores vendedores', 'results': 10174}]}, {'id': 'has_video', 'name': 'Filtro por publicaciones con video', 'type': 'boolean', 'values': [{'id': 'yes', 'name': 'Publicaciones con video', 'results': 1652}]}, {'id': 'has_pictures', 'name': 'Filtro por publicaciones con imágenes', 'type': 'boolean', 'values': [{'id': 'yes', 'name': 'Con fotos', 'results': 13788}]}, {'id': 'shipping_cost', 'name': 'Costo de envío', 'type': 'text', 'values': [{'id': 'free', 'name': 'Gratis', 'results': 4906}]}]\n",
      "\n",
      "\n"
     ]
    }
   ],
   "source": [
    "interesting_keys = [\n",
    "    \"paging\",\n",
    "    \"sort\",\n",
    "    \"available_sorts\", \n",
    "    \"filters\",\n",
    "    \"available_filters\"\n",
    "]\n",
    "\n",
    "for key in interesting_keys:\n",
    "    print(key, json_items[key])\n",
    "    print(\"\\n\")"
   ]
  },
  {
   "cell_type": "code",
   "execution_count": 26,
   "id": "fffd9e18-a69f-43de-8e83-ae717a28b31f",
   "metadata": {},
   "outputs": [
    {
     "name": "stdout",
     "output_type": "stream",
     "text": [
      "category Categorías\n",
      "official_store Tiendas oficiales\n",
      "state Ubicación\n",
      "price Precio\n",
      "accepts_mercadopago Filtro por MercadoPago\n",
      "installments Pago\n",
      "shipping Envío\n",
      "power_seller Filtro por calidad de vendedores\n",
      "has_video Filtro por publicaciones con video\n",
      "has_pictures Filtro por publicaciones con imágenes\n",
      "shipping_cost Costo de envío\n"
     ]
    }
   ],
   "source": [
    "for x in json_items[\"available_filters\"]:\n",
    "    print(x[\"id\"], x[\"name\"])"
   ]
  },
  {
   "cell_type": "markdown",
   "id": "db8b6d62-a6ab-42a9-90b7-60bac6f3e2d1",
   "metadata": {},
   "source": [
    "## Items mas relevantes, con descuento"
   ]
  },
  {
   "cell_type": "markdown",
   "id": "e44aee82-c693-428d-9fc9-f47a2f71d004",
   "metadata": {},
   "source": [
    "Luego de un analisis sobre filtros y ordenamientos se genera la siguiente ruta"
   ]
  },
  {
   "cell_type": "code",
   "execution_count": 27,
   "id": "38e95320-1f66-46c1-a01c-0d49d6df6cb5",
   "metadata": {},
   "outputs": [],
   "source": [
    "URL_ITEMS_DISC = \"https://api.mercadolibre.com/sites/{site}/search?category={category}&offset={offset}&sort=relevance&discount=5-100\""
   ]
  },
  {
   "cell_type": "code",
   "execution_count": 28,
   "id": "8a2e280c-6484-4f84-9ead-40858788f134",
   "metadata": {},
   "outputs": [
    {
     "name": "stdout",
     "output_type": "stream",
     "text": [
      "2.785458564758301\n"
     ]
    }
   ],
   "source": [
    "start = time.time()\n",
    "json_items_disc = requests.request(\n",
    "    \"GET\",\n",
    "    URL_ITEMS_DISC.format(\n",
    "        site=\"MCO\",\n",
    "        category=\"MCO1574\",\n",
    "        offset=0\n",
    "    )\n",
    ").json()\n",
    "end = time.time()\n",
    "lapso = end -start\n",
    "print(lapso)"
   ]
  },
  {
   "cell_type": "code",
   "execution_count": 29,
   "id": "6c60cfe7-5fc0-4b2a-9aa7-baf18eb1df5f",
   "metadata": {},
   "outputs": [
    {
     "data": {
      "text/plain": [
       "50"
      ]
     },
     "execution_count": 29,
     "metadata": {},
     "output_type": "execute_result"
    }
   ],
   "source": [
    "len(json_items_disc[\"results\"])"
   ]
  },
  {
   "cell_type": "code",
   "execution_count": 30,
   "id": "e2264091-e9c5-49b3-a53a-f59a7996da8f",
   "metadata": {},
   "outputs": [
    {
     "name": "stdout",
     "output_type": "stream",
     "text": [
      "num_item 0\n",
      "item_id MCO613095552\n",
      "original_price 7162900\n"
     ]
    }
   ],
   "source": [
    "pos = 0\n",
    "sin_descuento = True\n",
    "while sin_descuento&(pos < len(json_items_disc[\"results\"])):\n",
    "    \n",
    "    if json_items_disc[\"results\"][pos][\"original_price\"]:\n",
    "        \n",
    "        print(\"num_item\", pos)\n",
    "        print(\"item_id\",json_items_disc[\"results\"][pos][\"id\"])\n",
    "        print(\"original_price\",json_items_disc[\"results\"][pos][\"original_price\"])\n",
    "        sin_descuento = False\n",
    "    \n",
    "    pos = pos + 1"
   ]
  },
  {
   "cell_type": "code",
   "execution_count": 31,
   "id": "a0232976-6948-4dfe-92e8-4fcdaa3bd73b",
   "metadata": {},
   "outputs": [
    {
     "name": "stdout",
     "output_type": "stream",
     "text": [
      "Numero de items con descuento: 50\n",
      "Porcentaje de items con descuento: 128.2051282051282\n"
     ]
    }
   ],
   "source": [
    "items_descuentos = [x for x in json_items_disc[\"results\"] if x[\"original_price\"]]\n",
    "print(\"Numero de items con descuento:\", len(items_descuentos))\n",
    "print(\"Porcentaje de items con descuento:\", 100*len(items_descuentos)/len(json_items[\"results\"]))"
   ]
  },
  {
   "cell_type": "markdown",
   "id": "1897f42f-d420-4932-ab62-92c6472e4a6f",
   "metadata": {},
   "source": [
    "# Extraccion variables por Item"
   ]
  },
  {
   "cell_type": "code",
   "execution_count": 32,
   "id": "7d697def-2880-4807-920b-ef8d7f7efa23",
   "metadata": {},
   "outputs": [
    {
     "name": "stdout",
     "output_type": "stream",
     "text": [
      "<class 'pandas.core.frame.DataFrame'>\n",
      "RangeIndex: 1 entries, 0 to 0\n",
      "Data columns (total 67 columns):\n",
      " #   Column                                Non-Null Count  Dtype  \n",
      "---  ------                                --------------  -----  \n",
      " 0   id                                    1 non-null      object \n",
      " 1   site_id                               1 non-null      object \n",
      " 2   title                                 1 non-null      object \n",
      " 3   price                                 1 non-null      int64  \n",
      " 4   sale_price                            0 non-null      object \n",
      " 5   currency_id                           1 non-null      object \n",
      " 6   available_quantity                    1 non-null      int64  \n",
      " 7   sold_quantity                         1 non-null      int64  \n",
      " 8   buying_mode                           1 non-null      object \n",
      " 9   listing_type_id                       1 non-null      object \n",
      " 10  stop_time                             1 non-null      object \n",
      " 11  condition                             1 non-null      object \n",
      " 12  permalink                             1 non-null      object \n",
      " 13  thumbnail                             1 non-null      object \n",
      " 14  thumbnail_id                          1 non-null      object \n",
      " 15  accepts_mercadopago                   1 non-null      bool   \n",
      " 16  attributes                            1 non-null      object \n",
      " 17  original_price                        1 non-null      int64  \n",
      " 18  category_id                           1 non-null      object \n",
      " 19  official_store_id                     1 non-null      int64  \n",
      " 20  domain_id                             1 non-null      object \n",
      " 21  catalog_product_id                    0 non-null      object \n",
      " 22  tags                                  1 non-null      object \n",
      " 23  order_backend                         1 non-null      int64  \n",
      " 24  use_thumbnail_id                      1 non-null      bool   \n",
      " 25  offer_score                           0 non-null      object \n",
      " 26  offer_share                           0 non-null      object \n",
      " 27  match_score                           0 non-null      object \n",
      " 28  winner_item_id                        0 non-null      object \n",
      " 29  melicoin                              0 non-null      object \n",
      " 30  seller.id                             1 non-null      int64  \n",
      " 31  seller.permalink                      0 non-null      object \n",
      " 32  seller.registration_date              0 non-null      object \n",
      " 33  seller.car_dealer                     1 non-null      bool   \n",
      " 34  seller.real_estate_agency             1 non-null      bool   \n",
      " 35  seller.tags                           0 non-null      object \n",
      " 36  prices.id                             1 non-null      object \n",
      " 37  prices.prices                         1 non-null      object \n",
      " 38  prices.presentation.display_currency  1 non-null      object \n",
      " 39  prices.payment_method_prices          1 non-null      object \n",
      " 40  prices.reference_prices               1 non-null      object \n",
      " 41  prices.purchase_discounts             1 non-null      object \n",
      " 42  installments.quantity                 1 non-null      int64  \n",
      " 43  installments.amount                   1 non-null      float64\n",
      " 44  installments.rate                     1 non-null      int64  \n",
      " 45  installments.currency_id              1 non-null      object \n",
      " 46  address.state_id                      1 non-null      object \n",
      " 47  address.state_name                    1 non-null      object \n",
      " 48  address.city_id                       1 non-null      object \n",
      " 49  address.city_name                     1 non-null      object \n",
      " 50  shipping.free_shipping                1 non-null      bool   \n",
      " 51  shipping.mode                         1 non-null      object \n",
      " 52  shipping.tags                         1 non-null      object \n",
      " 53  shipping.logistic_type                1 non-null      object \n",
      " 54  shipping.store_pick_up                1 non-null      bool   \n",
      " 55  seller_address.id                     1 non-null      object \n",
      " 56  seller_address.comment                1 non-null      object \n",
      " 57  seller_address.address_line           1 non-null      object \n",
      " 58  seller_address.zip_code               1 non-null      object \n",
      " 59  seller_address.country.id             1 non-null      object \n",
      " 60  seller_address.country.name           1 non-null      object \n",
      " 61  seller_address.state.id               1 non-null      object \n",
      " 62  seller_address.state.name             1 non-null      object \n",
      " 63  seller_address.city.id                1 non-null      object \n",
      " 64  seller_address.city.name              1 non-null      object \n",
      " 65  seller_address.latitude               1 non-null      object \n",
      " 66  seller_address.longitude              1 non-null      object \n",
      "dtypes: bool(6), float64(1), int64(9), object(51)\n",
      "memory usage: 622.0+ bytes\n"
     ]
    }
   ],
   "source": [
    "df_strc_json = pd.json_normalize(json_items_disc[\"results\"][0])\n",
    "df_strc_json.to_csv(\"estructura_json.csv\")\n",
    "\n",
    "df_strc_json.info()"
   ]
  },
  {
   "cell_type": "code",
   "execution_count": 33,
   "id": "02ac9dae-eb0a-49e2-924f-cc1eac2fe12d",
   "metadata": {},
   "outputs": [
    {
     "data": {
      "text/plain": [
       "['good_quality_thumbnail',\n",
       " 'loyalty_discount_eligible',\n",
       " 'good_quality_picture',\n",
       " 'immediate_payment']"
      ]
     },
     "execution_count": 33,
     "metadata": {},
     "output_type": "execute_result"
    }
   ],
   "source": [
    "df_strc_json[\"tags\"].values[0]"
   ]
  },
  {
   "cell_type": "code",
   "execution_count": 34,
   "id": "db1c0086-3f9c-4d71-9110-412d5011b8de",
   "metadata": {},
   "outputs": [
    {
     "data": {
      "text/html": [
       "<div>\n",
       "<style scoped>\n",
       "    .dataframe tbody tr th:only-of-type {\n",
       "        vertical-align: middle;\n",
       "    }\n",
       "\n",
       "    .dataframe tbody tr th {\n",
       "        vertical-align: top;\n",
       "    }\n",
       "\n",
       "    .dataframe thead th {\n",
       "        text-align: right;\n",
       "    }\n",
       "</style>\n",
       "<table border=\"1\" class=\"dataframe\">\n",
       "  <thead>\n",
       "    <tr style=\"text-align: right;\">\n",
       "      <th></th>\n",
       "      <th>0</th>\n",
       "    </tr>\n",
       "  </thead>\n",
       "  <tbody>\n",
       "    <tr>\n",
       "      <th>id</th>\n",
       "      <td>MCO613095552</td>\n",
       "    </tr>\n",
       "    <tr>\n",
       "      <th>site_id</th>\n",
       "      <td>MCO</td>\n",
       "    </tr>\n",
       "    <tr>\n",
       "      <th>title</th>\n",
       "      <td>Juego De Sala Para Exterior</td>\n",
       "    </tr>\n",
       "    <tr>\n",
       "      <th>price</th>\n",
       "      <td>4774900</td>\n",
       "    </tr>\n",
       "    <tr>\n",
       "      <th>sale_price</th>\n",
       "      <td>None</td>\n",
       "    </tr>\n",
       "    <tr>\n",
       "      <th>currency_id</th>\n",
       "      <td>COP</td>\n",
       "    </tr>\n",
       "    <tr>\n",
       "      <th>available_quantity</th>\n",
       "      <td>1</td>\n",
       "    </tr>\n",
       "    <tr>\n",
       "      <th>sold_quantity</th>\n",
       "      <td>0</td>\n",
       "    </tr>\n",
       "    <tr>\n",
       "      <th>buying_mode</th>\n",
       "      <td>buy_it_now</td>\n",
       "    </tr>\n",
       "    <tr>\n",
       "      <th>listing_type_id</th>\n",
       "      <td>gold_special</td>\n",
       "    </tr>\n",
       "    <tr>\n",
       "      <th>stop_time</th>\n",
       "      <td>2041-08-14T15:21:14.000Z</td>\n",
       "    </tr>\n",
       "    <tr>\n",
       "      <th>condition</th>\n",
       "      <td>new</td>\n",
       "    </tr>\n",
       "    <tr>\n",
       "      <th>permalink</th>\n",
       "      <td>https://articulo.mercadolibre.com.co/MCO-61309...</td>\n",
       "    </tr>\n",
       "    <tr>\n",
       "      <th>thumbnail</th>\n",
       "      <td>http://http2.mlstatic.com/D_790950-MCO45335156...</td>\n",
       "    </tr>\n",
       "    <tr>\n",
       "      <th>thumbnail_id</th>\n",
       "      <td>790950-MCO45335156086_032021</td>\n",
       "    </tr>\n",
       "    <tr>\n",
       "      <th>accepts_mercadopago</th>\n",
       "      <td>True</td>\n",
       "    </tr>\n",
       "    <tr>\n",
       "      <th>attributes</th>\n",
       "      <td>[{'value_name': 'RTA DESING', 'values': [{'sou...</td>\n",
       "    </tr>\n",
       "    <tr>\n",
       "      <th>original_price</th>\n",
       "      <td>7162900</td>\n",
       "    </tr>\n",
       "    <tr>\n",
       "      <th>category_id</th>\n",
       "      <td>MCO166338</td>\n",
       "    </tr>\n",
       "    <tr>\n",
       "      <th>official_store_id</th>\n",
       "      <td>1471</td>\n",
       "    </tr>\n",
       "    <tr>\n",
       "      <th>domain_id</th>\n",
       "      <td>MCO-LIVING_ROOM_SETS</td>\n",
       "    </tr>\n",
       "    <tr>\n",
       "      <th>catalog_product_id</th>\n",
       "      <td>None</td>\n",
       "    </tr>\n",
       "    <tr>\n",
       "      <th>tags</th>\n",
       "      <td>[good_quality_thumbnail, loyalty_discount_elig...</td>\n",
       "    </tr>\n",
       "    <tr>\n",
       "      <th>order_backend</th>\n",
       "      <td>1</td>\n",
       "    </tr>\n",
       "    <tr>\n",
       "      <th>use_thumbnail_id</th>\n",
       "      <td>False</td>\n",
       "    </tr>\n",
       "    <tr>\n",
       "      <th>offer_score</th>\n",
       "      <td>None</td>\n",
       "    </tr>\n",
       "    <tr>\n",
       "      <th>offer_share</th>\n",
       "      <td>None</td>\n",
       "    </tr>\n",
       "    <tr>\n",
       "      <th>match_score</th>\n",
       "      <td>None</td>\n",
       "    </tr>\n",
       "    <tr>\n",
       "      <th>winner_item_id</th>\n",
       "      <td>None</td>\n",
       "    </tr>\n",
       "    <tr>\n",
       "      <th>melicoin</th>\n",
       "      <td>None</td>\n",
       "    </tr>\n",
       "    <tr>\n",
       "      <th>seller.id</th>\n",
       "      <td>686352448</td>\n",
       "    </tr>\n",
       "    <tr>\n",
       "      <th>seller.permalink</th>\n",
       "      <td>None</td>\n",
       "    </tr>\n",
       "    <tr>\n",
       "      <th>seller.registration_date</th>\n",
       "      <td>None</td>\n",
       "    </tr>\n",
       "    <tr>\n",
       "      <th>seller.car_dealer</th>\n",
       "      <td>False</td>\n",
       "    </tr>\n",
       "    <tr>\n",
       "      <th>seller.real_estate_agency</th>\n",
       "      <td>False</td>\n",
       "    </tr>\n",
       "    <tr>\n",
       "      <th>seller.tags</th>\n",
       "      <td>None</td>\n",
       "    </tr>\n",
       "    <tr>\n",
       "      <th>prices.id</th>\n",
       "      <td>MCO613095552</td>\n",
       "    </tr>\n",
       "    <tr>\n",
       "      <th>prices.prices</th>\n",
       "      <td>[{'id': '12', 'type': 'standard', 'amount': 58...</td>\n",
       "    </tr>\n",
       "    <tr>\n",
       "      <th>prices.presentation.display_currency</th>\n",
       "      <td>COP</td>\n",
       "    </tr>\n",
       "    <tr>\n",
       "      <th>prices.payment_method_prices</th>\n",
       "      <td>[]</td>\n",
       "    </tr>\n",
       "    <tr>\n",
       "      <th>prices.reference_prices</th>\n",
       "      <td>[]</td>\n",
       "    </tr>\n",
       "    <tr>\n",
       "      <th>prices.purchase_discounts</th>\n",
       "      <td>[]</td>\n",
       "    </tr>\n",
       "    <tr>\n",
       "      <th>installments.quantity</th>\n",
       "      <td>36</td>\n",
       "    </tr>\n",
       "    <tr>\n",
       "      <th>installments.amount</th>\n",
       "      <td>132636.11</td>\n",
       "    </tr>\n",
       "    <tr>\n",
       "      <th>installments.rate</th>\n",
       "      <td>0</td>\n",
       "    </tr>\n",
       "    <tr>\n",
       "      <th>installments.currency_id</th>\n",
       "      <td>COP</td>\n",
       "    </tr>\n",
       "    <tr>\n",
       "      <th>address.state_id</th>\n",
       "      <td>CO-VAC</td>\n",
       "    </tr>\n",
       "    <tr>\n",
       "      <th>address.state_name</th>\n",
       "      <td>Valle Del Cauca</td>\n",
       "    </tr>\n",
       "    <tr>\n",
       "      <th>address.city_id</th>\n",
       "      <td>TUNPQ1lVTTE2MGZm</td>\n",
       "    </tr>\n",
       "    <tr>\n",
       "      <th>address.city_name</th>\n",
       "      <td>Yumbo</td>\n",
       "    </tr>\n",
       "  </tbody>\n",
       "</table>\n",
       "</div>"
      ],
      "text/plain": [
       "                                                                                      0\n",
       "id                                                                         MCO613095552\n",
       "site_id                                                                             MCO\n",
       "title                                                       Juego De Sala Para Exterior\n",
       "price                                                                           4774900\n",
       "sale_price                                                                         None\n",
       "currency_id                                                                         COP\n",
       "available_quantity                                                                    1\n",
       "sold_quantity                                                                         0\n",
       "buying_mode                                                                  buy_it_now\n",
       "listing_type_id                                                            gold_special\n",
       "stop_time                                                      2041-08-14T15:21:14.000Z\n",
       "condition                                                                           new\n",
       "permalink                             https://articulo.mercadolibre.com.co/MCO-61309...\n",
       "thumbnail                             http://http2.mlstatic.com/D_790950-MCO45335156...\n",
       "thumbnail_id                                               790950-MCO45335156086_032021\n",
       "accepts_mercadopago                                                                True\n",
       "attributes                            [{'value_name': 'RTA DESING', 'values': [{'sou...\n",
       "original_price                                                                  7162900\n",
       "category_id                                                                   MCO166338\n",
       "official_store_id                                                                  1471\n",
       "domain_id                                                          MCO-LIVING_ROOM_SETS\n",
       "catalog_product_id                                                                 None\n",
       "tags                                  [good_quality_thumbnail, loyalty_discount_elig...\n",
       "order_backend                                                                         1\n",
       "use_thumbnail_id                                                                  False\n",
       "offer_score                                                                        None\n",
       "offer_share                                                                        None\n",
       "match_score                                                                        None\n",
       "winner_item_id                                                                     None\n",
       "melicoin                                                                           None\n",
       "seller.id                                                                     686352448\n",
       "seller.permalink                                                                   None\n",
       "seller.registration_date                                                           None\n",
       "seller.car_dealer                                                                 False\n",
       "seller.real_estate_agency                                                         False\n",
       "seller.tags                                                                        None\n",
       "prices.id                                                                  MCO613095552\n",
       "prices.prices                         [{'id': '12', 'type': 'standard', 'amount': 58...\n",
       "prices.presentation.display_currency                                                COP\n",
       "prices.payment_method_prices                                                         []\n",
       "prices.reference_prices                                                              []\n",
       "prices.purchase_discounts                                                            []\n",
       "installments.quantity                                                                36\n",
       "installments.amount                                                           132636.11\n",
       "installments.rate                                                                     0\n",
       "installments.currency_id                                                            COP\n",
       "address.state_id                                                                 CO-VAC\n",
       "address.state_name                                                      Valle Del Cauca\n",
       "address.city_id                                                        TUNPQ1lVTTE2MGZm\n",
       "address.city_name                                                                 Yumbo"
      ]
     },
     "execution_count": 34,
     "metadata": {},
     "output_type": "execute_result"
    }
   ],
   "source": [
    "df_strc_json.T.head(50)"
   ]
  },
  {
   "cell_type": "code",
   "execution_count": 35,
   "id": "a478ca33-16f3-416a-92c3-7d0cfb91b97f",
   "metadata": {},
   "outputs": [],
   "source": [
    "import json"
   ]
  },
  {
   "cell_type": "code",
   "execution_count": 36,
   "id": "bd945568-bcd5-44d3-8a51-f6ba72aefc3d",
   "metadata": {},
   "outputs": [],
   "source": [
    "dict_item_ejemplo = json_items_disc[\"results\"][0]\n",
    "item_ejemplo = open(\"item_ejemplo.json\", \"w\")\n",
    "item_ejemplo = json.dump(dict_item_ejemplo, item_ejemplo)"
   ]
  },
  {
   "cell_type": "code",
   "execution_count": 37,
   "id": "4244509e-8a36-4be0-aa23-49608c62a165",
   "metadata": {},
   "outputs": [
    {
     "data": {
      "text/html": [
       "<div>\n",
       "<style scoped>\n",
       "    .dataframe tbody tr th:only-of-type {\n",
       "        vertical-align: middle;\n",
       "    }\n",
       "\n",
       "    .dataframe tbody tr th {\n",
       "        vertical-align: top;\n",
       "    }\n",
       "\n",
       "    .dataframe thead th {\n",
       "        text-align: right;\n",
       "    }\n",
       "</style>\n",
       "<table border=\"1\" class=\"dataframe\">\n",
       "  <thead>\n",
       "    <tr style=\"text-align: right;\">\n",
       "      <th></th>\n",
       "      <th>id</th>\n",
       "      <th>type</th>\n",
       "      <th>value</th>\n",
       "    </tr>\n",
       "  </thead>\n",
       "  <tbody>\n",
       "    <tr>\n",
       "      <th>0</th>\n",
       "      <td>id</td>\n",
       "      <td>&lt;class 'str'&gt;</td>\n",
       "      <td>MCO613095552</td>\n",
       "    </tr>\n",
       "    <tr>\n",
       "      <th>1</th>\n",
       "      <td>site_id</td>\n",
       "      <td>&lt;class 'str'&gt;</td>\n",
       "      <td>MCO</td>\n",
       "    </tr>\n",
       "    <tr>\n",
       "      <th>2</th>\n",
       "      <td>title</td>\n",
       "      <td>&lt;class 'str'&gt;</td>\n",
       "      <td>Juego De Sala Para Exterior</td>\n",
       "    </tr>\n",
       "    <tr>\n",
       "      <th>3</th>\n",
       "      <td>seller</td>\n",
       "      <td>&lt;class 'dict'&gt;</td>\n",
       "      <td>{'id': 686352448, 'permalink': None, 'registra...</td>\n",
       "    </tr>\n",
       "    <tr>\n",
       "      <th>4</th>\n",
       "      <td>price</td>\n",
       "      <td>&lt;class 'int'&gt;</td>\n",
       "      <td>4774900</td>\n",
       "    </tr>\n",
       "    <tr>\n",
       "      <th>5</th>\n",
       "      <td>prices</td>\n",
       "      <td>&lt;class 'dict'&gt;</td>\n",
       "      <td>{'id': 'MCO613095552', 'prices': [{'id': '12',...</td>\n",
       "    </tr>\n",
       "    <tr>\n",
       "      <th>6</th>\n",
       "      <td>sale_price</td>\n",
       "      <td>&lt;class 'NoneType'&gt;</td>\n",
       "      <td>None</td>\n",
       "    </tr>\n",
       "    <tr>\n",
       "      <th>7</th>\n",
       "      <td>currency_id</td>\n",
       "      <td>&lt;class 'str'&gt;</td>\n",
       "      <td>COP</td>\n",
       "    </tr>\n",
       "    <tr>\n",
       "      <th>8</th>\n",
       "      <td>available_quantity</td>\n",
       "      <td>&lt;class 'int'&gt;</td>\n",
       "      <td>1</td>\n",
       "    </tr>\n",
       "    <tr>\n",
       "      <th>9</th>\n",
       "      <td>sold_quantity</td>\n",
       "      <td>&lt;class 'int'&gt;</td>\n",
       "      <td>0</td>\n",
       "    </tr>\n",
       "    <tr>\n",
       "      <th>10</th>\n",
       "      <td>buying_mode</td>\n",
       "      <td>&lt;class 'str'&gt;</td>\n",
       "      <td>buy_it_now</td>\n",
       "    </tr>\n",
       "    <tr>\n",
       "      <th>11</th>\n",
       "      <td>listing_type_id</td>\n",
       "      <td>&lt;class 'str'&gt;</td>\n",
       "      <td>gold_special</td>\n",
       "    </tr>\n",
       "    <tr>\n",
       "      <th>12</th>\n",
       "      <td>stop_time</td>\n",
       "      <td>&lt;class 'str'&gt;</td>\n",
       "      <td>2041-08-14T15:21:14.000Z</td>\n",
       "    </tr>\n",
       "    <tr>\n",
       "      <th>13</th>\n",
       "      <td>condition</td>\n",
       "      <td>&lt;class 'str'&gt;</td>\n",
       "      <td>new</td>\n",
       "    </tr>\n",
       "    <tr>\n",
       "      <th>14</th>\n",
       "      <td>permalink</td>\n",
       "      <td>&lt;class 'str'&gt;</td>\n",
       "      <td>https://articulo.mercadolibre.com.co/MCO-61309...</td>\n",
       "    </tr>\n",
       "    <tr>\n",
       "      <th>15</th>\n",
       "      <td>thumbnail</td>\n",
       "      <td>&lt;class 'str'&gt;</td>\n",
       "      <td>http://http2.mlstatic.com/D_790950-MCO45335156...</td>\n",
       "    </tr>\n",
       "    <tr>\n",
       "      <th>16</th>\n",
       "      <td>thumbnail_id</td>\n",
       "      <td>&lt;class 'str'&gt;</td>\n",
       "      <td>790950-MCO45335156086_032021</td>\n",
       "    </tr>\n",
       "    <tr>\n",
       "      <th>17</th>\n",
       "      <td>accepts_mercadopago</td>\n",
       "      <td>&lt;class 'bool'&gt;</td>\n",
       "      <td>True</td>\n",
       "    </tr>\n",
       "    <tr>\n",
       "      <th>18</th>\n",
       "      <td>installments</td>\n",
       "      <td>&lt;class 'dict'&gt;</td>\n",
       "      <td>{'quantity': 36, 'amount': 132636.11, 'rate': ...</td>\n",
       "    </tr>\n",
       "    <tr>\n",
       "      <th>19</th>\n",
       "      <td>address</td>\n",
       "      <td>&lt;class 'dict'&gt;</td>\n",
       "      <td>{'state_id': 'CO-VAC', 'state_name': 'Valle De...</td>\n",
       "    </tr>\n",
       "    <tr>\n",
       "      <th>20</th>\n",
       "      <td>shipping</td>\n",
       "      <td>&lt;class 'dict'&gt;</td>\n",
       "      <td>{'free_shipping': True, 'mode': 'not_specified...</td>\n",
       "    </tr>\n",
       "    <tr>\n",
       "      <th>21</th>\n",
       "      <td>seller_address</td>\n",
       "      <td>&lt;class 'dict'&gt;</td>\n",
       "      <td>{'id': '', 'comment': '', 'address_line': '', ...</td>\n",
       "    </tr>\n",
       "    <tr>\n",
       "      <th>22</th>\n",
       "      <td>attributes</td>\n",
       "      <td>&lt;class 'list'&gt;</td>\n",
       "      <td>[{'value_name': 'RTA DESING', 'values': [{'sou...</td>\n",
       "    </tr>\n",
       "    <tr>\n",
       "      <th>23</th>\n",
       "      <td>original_price</td>\n",
       "      <td>&lt;class 'int'&gt;</td>\n",
       "      <td>7162900</td>\n",
       "    </tr>\n",
       "    <tr>\n",
       "      <th>24</th>\n",
       "      <td>category_id</td>\n",
       "      <td>&lt;class 'str'&gt;</td>\n",
       "      <td>MCO166338</td>\n",
       "    </tr>\n",
       "    <tr>\n",
       "      <th>25</th>\n",
       "      <td>official_store_id</td>\n",
       "      <td>&lt;class 'int'&gt;</td>\n",
       "      <td>1471</td>\n",
       "    </tr>\n",
       "    <tr>\n",
       "      <th>26</th>\n",
       "      <td>domain_id</td>\n",
       "      <td>&lt;class 'str'&gt;</td>\n",
       "      <td>MCO-LIVING_ROOM_SETS</td>\n",
       "    </tr>\n",
       "    <tr>\n",
       "      <th>27</th>\n",
       "      <td>catalog_product_id</td>\n",
       "      <td>&lt;class 'NoneType'&gt;</td>\n",
       "      <td>None</td>\n",
       "    </tr>\n",
       "    <tr>\n",
       "      <th>28</th>\n",
       "      <td>tags</td>\n",
       "      <td>&lt;class 'list'&gt;</td>\n",
       "      <td>[good_quality_thumbnail, loyalty_discount_elig...</td>\n",
       "    </tr>\n",
       "    <tr>\n",
       "      <th>29</th>\n",
       "      <td>order_backend</td>\n",
       "      <td>&lt;class 'int'&gt;</td>\n",
       "      <td>1</td>\n",
       "    </tr>\n",
       "    <tr>\n",
       "      <th>30</th>\n",
       "      <td>use_thumbnail_id</td>\n",
       "      <td>&lt;class 'bool'&gt;</td>\n",
       "      <td>False</td>\n",
       "    </tr>\n",
       "    <tr>\n",
       "      <th>31</th>\n",
       "      <td>offer_score</td>\n",
       "      <td>&lt;class 'NoneType'&gt;</td>\n",
       "      <td>None</td>\n",
       "    </tr>\n",
       "    <tr>\n",
       "      <th>32</th>\n",
       "      <td>offer_share</td>\n",
       "      <td>&lt;class 'NoneType'&gt;</td>\n",
       "      <td>None</td>\n",
       "    </tr>\n",
       "    <tr>\n",
       "      <th>33</th>\n",
       "      <td>match_score</td>\n",
       "      <td>&lt;class 'NoneType'&gt;</td>\n",
       "      <td>None</td>\n",
       "    </tr>\n",
       "    <tr>\n",
       "      <th>34</th>\n",
       "      <td>winner_item_id</td>\n",
       "      <td>&lt;class 'NoneType'&gt;</td>\n",
       "      <td>None</td>\n",
       "    </tr>\n",
       "    <tr>\n",
       "      <th>35</th>\n",
       "      <td>melicoin</td>\n",
       "      <td>&lt;class 'NoneType'&gt;</td>\n",
       "      <td>None</td>\n",
       "    </tr>\n",
       "  </tbody>\n",
       "</table>\n",
       "</div>"
      ],
      "text/plain": [
       "                     id                type  \\\n",
       "0                    id       <class 'str'>   \n",
       "1               site_id       <class 'str'>   \n",
       "2                 title       <class 'str'>   \n",
       "3                seller      <class 'dict'>   \n",
       "4                 price       <class 'int'>   \n",
       "5                prices      <class 'dict'>   \n",
       "6            sale_price  <class 'NoneType'>   \n",
       "7           currency_id       <class 'str'>   \n",
       "8    available_quantity       <class 'int'>   \n",
       "9         sold_quantity       <class 'int'>   \n",
       "10          buying_mode       <class 'str'>   \n",
       "11      listing_type_id       <class 'str'>   \n",
       "12            stop_time       <class 'str'>   \n",
       "13            condition       <class 'str'>   \n",
       "14            permalink       <class 'str'>   \n",
       "15            thumbnail       <class 'str'>   \n",
       "16         thumbnail_id       <class 'str'>   \n",
       "17  accepts_mercadopago      <class 'bool'>   \n",
       "18         installments      <class 'dict'>   \n",
       "19              address      <class 'dict'>   \n",
       "20             shipping      <class 'dict'>   \n",
       "21       seller_address      <class 'dict'>   \n",
       "22           attributes      <class 'list'>   \n",
       "23       original_price       <class 'int'>   \n",
       "24          category_id       <class 'str'>   \n",
       "25    official_store_id       <class 'int'>   \n",
       "26            domain_id       <class 'str'>   \n",
       "27   catalog_product_id  <class 'NoneType'>   \n",
       "28                 tags      <class 'list'>   \n",
       "29        order_backend       <class 'int'>   \n",
       "30     use_thumbnail_id      <class 'bool'>   \n",
       "31          offer_score  <class 'NoneType'>   \n",
       "32          offer_share  <class 'NoneType'>   \n",
       "33          match_score  <class 'NoneType'>   \n",
       "34       winner_item_id  <class 'NoneType'>   \n",
       "35             melicoin  <class 'NoneType'>   \n",
       "\n",
       "                                                value  \n",
       "0                                        MCO613095552  \n",
       "1                                                 MCO  \n",
       "2                         Juego De Sala Para Exterior  \n",
       "3   {'id': 686352448, 'permalink': None, 'registra...  \n",
       "4                                             4774900  \n",
       "5   {'id': 'MCO613095552', 'prices': [{'id': '12',...  \n",
       "6                                                None  \n",
       "7                                                 COP  \n",
       "8                                                   1  \n",
       "9                                                   0  \n",
       "10                                         buy_it_now  \n",
       "11                                       gold_special  \n",
       "12                           2041-08-14T15:21:14.000Z  \n",
       "13                                                new  \n",
       "14  https://articulo.mercadolibre.com.co/MCO-61309...  \n",
       "15  http://http2.mlstatic.com/D_790950-MCO45335156...  \n",
       "16                       790950-MCO45335156086_032021  \n",
       "17                                               True  \n",
       "18  {'quantity': 36, 'amount': 132636.11, 'rate': ...  \n",
       "19  {'state_id': 'CO-VAC', 'state_name': 'Valle De...  \n",
       "20  {'free_shipping': True, 'mode': 'not_specified...  \n",
       "21  {'id': '', 'comment': '', 'address_line': '', ...  \n",
       "22  [{'value_name': 'RTA DESING', 'values': [{'sou...  \n",
       "23                                            7162900  \n",
       "24                                          MCO166338  \n",
       "25                                               1471  \n",
       "26                               MCO-LIVING_ROOM_SETS  \n",
       "27                                               None  \n",
       "28  [good_quality_thumbnail, loyalty_discount_elig...  \n",
       "29                                                  1  \n",
       "30                                              False  \n",
       "31                                               None  \n",
       "32                                               None  \n",
       "33                                               None  \n",
       "34                                               None  \n",
       "35                                               None  "
      ]
     },
     "execution_count": 37,
     "metadata": {},
     "output_type": "execute_result"
    }
   ],
   "source": [
    "data_strc_json = {\n",
    "    \"id\":[],\n",
    "    \"type\":[],\n",
    "    \"value\":[]\n",
    "}\n",
    "for x in dict_item_ejemplo.keys():\n",
    "    \n",
    "    data_strc_json[\"id\"].append(x)\n",
    "    data_strc_json[\"type\"].append(type(dict_item_ejemplo[x]))\n",
    "    data_strc_json[\"value\"].append(dict_item_ejemplo[x])\n",
    "    \n",
    "df_strc_json = pd.DataFrame(\n",
    "    data_strc_json,\n",
    "    index=range(len(dict_item_ejemplo))\n",
    ")\n",
    "\n",
    "df_strc_json"
   ]
  },
  {
   "cell_type": "code",
   "execution_count": 38,
   "id": "1f803b84-3803-4e99-ba1b-a73a53fb9f5f",
   "metadata": {},
   "outputs": [
    {
     "data": {
      "text/plain": [
       "array([<class 'str'>, <class 'dict'>, <class 'int'>, <class 'NoneType'>,\n",
       "       <class 'bool'>, <class 'list'>], dtype=object)"
      ]
     },
     "execution_count": 38,
     "metadata": {},
     "output_type": "execute_result"
    }
   ],
   "source": [
    "df_strc_json[\"type\"].unique()"
   ]
  },
  {
   "cell_type": "code",
   "execution_count": 39,
   "id": "54ad9bc4-d661-4574-8e29-f3e62803129d",
   "metadata": {},
   "outputs": [
    {
     "name": "stdout",
     "output_type": "stream",
     "text": [
      "<class 'pandas.core.frame.DataFrame'>\n",
      "RangeIndex: 36 entries, 0 to 35\n",
      "Data columns (total 3 columns):\n",
      " #   Column  Non-Null Count  Dtype \n",
      "---  ------  --------------  ----- \n",
      " 0   id      36 non-null     object\n",
      " 1   type    36 non-null     object\n",
      " 2   value   29 non-null     object\n",
      "dtypes: object(3)\n",
      "memory usage: 992.0+ bytes\n"
     ]
    }
   ],
   "source": [
    "df_strc_json.info()"
   ]
  },
  {
   "cell_type": "code",
   "execution_count": 40,
   "id": "091cb999-9025-4edd-98d6-75eea74a9a3f",
   "metadata": {},
   "outputs": [
    {
     "name": "stdout",
     "output_type": "stream",
     "text": [
      "seller----------\n",
      "{'id': 686352448, 'permalink': None, 'registration_date': None, 'car_dealer': False, 'real_estate_agency': False, 'tags': None}\n",
      "\n",
      "\n",
      "prices----------\n",
      "{'id': 'MCO613095552', 'prices': [{'id': '12', 'type': 'standard', 'amount': 5866900, 'regular_amount': None, 'currency_id': 'COP', 'last_updated': '2021-04-08T00:38:52Z', 'conditions': {'context_restrictions': [], 'start_time': None, 'end_time': None, 'eligible': True}, 'exchange_rate_context': 'DEFAULT', 'metadata': {}}, {'id': '24', 'type': 'promotion', 'amount': 4774900, 'regular_amount': 7162900, 'currency_id': 'COP', 'last_updated': '2021-12-13T15:37:44Z', 'conditions': {'context_restrictions': ['channel_marketplace'], 'start_time': '2021-01-05T04:30:00Z', 'end_time': '2024-01-01T04:59:00Z', 'eligible': True}, 'exchange_rate_context': 'DEFAULT', 'metadata': {'campaign_id': 'MCO2298', 'promotion_id': 'MCO2298', 'promotion_type': 'campaign'}}], 'presentation': {'display_currency': 'COP'}, 'payment_method_prices': [], 'reference_prices': [], 'purchase_discounts': []}\n",
      "\n",
      "\n",
      "installments----------\n",
      "{'quantity': 36, 'amount': 132636.11, 'rate': 0, 'currency_id': 'COP'}\n",
      "\n",
      "\n",
      "address----------\n",
      "{'state_id': 'CO-VAC', 'state_name': 'Valle Del Cauca', 'city_id': 'TUNPQ1lVTTE2MGZm', 'city_name': 'Yumbo'}\n",
      "\n",
      "\n",
      "shipping----------\n",
      "{'free_shipping': True, 'mode': 'not_specified', 'tags': [], 'logistic_type': 'not_specified', 'store_pick_up': False}\n",
      "\n",
      "\n",
      "seller_address----------\n",
      "{'id': '', 'comment': '', 'address_line': '', 'zip_code': '', 'country': {'id': 'CO', 'name': 'Colombia'}, 'state': {'id': 'CO-VAC', 'name': 'Valle Del Cauca'}, 'city': {'id': 'TUNPQ1lVTTE2MGZm', 'name': 'Yumbo'}, 'latitude': '', 'longitude': ''}\n",
      "\n",
      "\n",
      "attributes----------\n",
      "[{'value_name': 'RTA DESING', 'values': [{'source': 6808261514773724, 'id': None, 'name': 'RTA DESING', 'struct': None}], 'attribute_group_id': 'OTHERS', 'id': 'BRAND', 'value_id': None, 'value_struct': None, 'attribute_group_name': 'Otros', 'source': 6808261514773724, 'name': 'Marca'}, {'value_struct': None, 'values': [{'id': '2230284', 'name': 'Nuevo', 'struct': None, 'source': 6808261514773724}], 'attribute_group_name': 'Otros', 'value_name': 'Nuevo', 'attribute_group_id': 'OTHERS', 'source': 6808261514773724, 'id': 'ITEM_CONDITION', 'name': 'Condición del ítem', 'value_id': '2230284'}, {'values': [{'source': 6808261514773724, 'id': None, 'name': 'VMOD-102', 'struct': None}], 'attribute_group_name': 'Otros', 'value_name': 'VMOD-102', 'name': 'Modelo', 'value_id': None, 'value_struct': None, 'attribute_group_id': 'OTHERS', 'source': 6808261514773724, 'id': 'MODEL'}]\n",
      "\n",
      "\n",
      "tags----------\n",
      "['good_quality_thumbnail', 'loyalty_discount_eligible', 'good_quality_picture', 'immediate_payment']\n",
      "\n",
      "\n"
     ]
    }
   ],
   "source": [
    "complex_types = [\n",
    "    dict,\n",
    "    list\n",
    "]\n",
    "\n",
    "complex_keys = []\n",
    "\n",
    "for row in df_strc_json[df_strc_json[\"type\"].isin(complex_types)].iterrows():\n",
    "    print(row[1][\"id\"]+\"-\"*10)\n",
    "    print(row[1][\"value\"])\n",
    "    print(\"\\n\")\n",
    "    \n",
    "    complex_keys.append(row[1][\"id\"])"
   ]
  },
  {
   "cell_type": "code",
   "execution_count": 41,
   "id": "c5a226e3-d84a-4be2-9cb9-e6d72f5d983b",
   "metadata": {},
   "outputs": [
    {
     "data": {
      "text/plain": [
       "['seller',\n",
       " 'prices',\n",
       " 'installments',\n",
       " 'address',\n",
       " 'shipping',\n",
       " 'seller_address',\n",
       " 'attributes',\n",
       " 'tags']"
      ]
     },
     "execution_count": 41,
     "metadata": {},
     "output_type": "execute_result"
    }
   ],
   "source": [
    "complex_keys"
   ]
  },
  {
   "cell_type": "markdown",
   "id": "53083ddc-d619-4e07-bd9b-3fa73bb3bd43",
   "metadata": {},
   "source": [
    "# Funciones para extraer datos de un item"
   ]
  },
  {
   "cell_type": "markdown",
   "id": "5aa744be-ffb3-4334-8edc-6e7462632cc1",
   "metadata": {},
   "source": [
    "## Funcion auxiliar para extraer info de Json"
   ]
  },
  {
   "cell_type": "code",
   "execution_count": 42,
   "id": "cad1cd8c-1461-4f0f-b42f-da0ba3eef441",
   "metadata": {},
   "outputs": [],
   "source": [
    "def nested_get(key: str, obj: dict):\n",
    "    \"\"\"\n",
    "    Funcion para acceder a valores en diccionarios anidados.\n",
    "    :param key: String con las llaves a seguir hasta el valor separadas por\n",
    "        puntos.\n",
    "    :param obj: Diccionario.\n",
    "    :return: Valor en Diccionario.\n",
    "    \"\"\"\n",
    "    try:\n",
    "        current = obj\n",
    "        for k in key.split(\".\"):\n",
    "            current = current[k]\n",
    "            \n",
    "        return current\n",
    "    except (KeyError, ValueError, TypeError):\n",
    "        \n",
    "        return None"
   ]
  },
  {
   "cell_type": "markdown",
   "id": "a1ae9854-3792-44af-a323-2bea78764ab9",
   "metadata": {},
   "source": [
    "## Extraccion de valores directos"
   ]
  },
  {
   "cell_type": "code",
   "execution_count": 43,
   "id": "49ecc086-7700-4899-939b-732a03785231",
   "metadata": {},
   "outputs": [
    {
     "data": {
      "text/plain": [
       "array(['id', 'site_id', 'title', 'price', 'sale_price', 'currency_id',\n",
       "       'available_quantity', 'sold_quantity', 'buying_mode',\n",
       "       'listing_type_id', 'stop_time', 'condition', 'permalink',\n",
       "       'thumbnail', 'thumbnail_id', 'accepts_mercadopago',\n",
       "       'original_price', 'category_id', 'official_store_id', 'domain_id',\n",
       "       'catalog_product_id', 'order_backend', 'use_thumbnail_id',\n",
       "       'offer_score', 'offer_share', 'match_score', 'winner_item_id',\n",
       "       'melicoin'], dtype=object)"
      ]
     },
     "execution_count": 43,
     "metadata": {},
     "output_type": "execute_result"
    }
   ],
   "source": [
    "simple_types = df_strc_json.loc[\n",
    "    ~df_strc_json[\"type\"].isin(complex_types),\n",
    "    \"id\"\n",
    "].unique()\n",
    "\n",
    "simple_types"
   ]
  },
  {
   "cell_type": "code",
   "execution_count": 44,
   "id": "99269f60-b09a-4d5a-999f-e8af8dcd7ef1",
   "metadata": {},
   "outputs": [],
   "source": [
    "KEYS_DIRECT_VALUES=simple_types"
   ]
  },
  {
   "cell_type": "code",
   "execution_count": 45,
   "id": "670d7282-a8da-47c9-a6ca-1de44f273f16",
   "metadata": {},
   "outputs": [],
   "source": [
    "def direct_values_extraction(obj: dict, list_keys=KEYS_DIRECT_VALUES):\n",
    "    \"\"\"\n",
    "    Funcion para acceder a valores de llaves principales en el diccionario.\n",
    "    :param list_keys: Lista de Strings con las llaves a seguir hasta el valor.\n",
    "    :param obj: Diccionario.\n",
    "    :return: DataFrame.\n",
    "    \"\"\"\n",
    "    df = pd.DataFrame(\n",
    "        columns=list_keys\n",
    "    )\n",
    "    \n",
    "    for x in list_keys:\n",
    "        value = nested_get(\n",
    "            key=x, \n",
    "            obj=obj\n",
    "        )\n",
    "        \n",
    "        df[x]=[value]\n",
    "        \n",
    "    return df"
   ]
  },
  {
   "cell_type": "code",
   "execution_count": 46,
   "id": "b436a148-ec6a-4541-9c6e-e3bf6c2aa364",
   "metadata": {},
   "outputs": [
    {
     "data": {
      "text/html": [
       "<div>\n",
       "<style scoped>\n",
       "    .dataframe tbody tr th:only-of-type {\n",
       "        vertical-align: middle;\n",
       "    }\n",
       "\n",
       "    .dataframe tbody tr th {\n",
       "        vertical-align: top;\n",
       "    }\n",
       "\n",
       "    .dataframe thead th {\n",
       "        text-align: right;\n",
       "    }\n",
       "</style>\n",
       "<table border=\"1\" class=\"dataframe\">\n",
       "  <thead>\n",
       "    <tr style=\"text-align: right;\">\n",
       "      <th></th>\n",
       "      <th>id</th>\n",
       "      <th>site_id</th>\n",
       "      <th>title</th>\n",
       "      <th>price</th>\n",
       "      <th>sale_price</th>\n",
       "      <th>currency_id</th>\n",
       "      <th>available_quantity</th>\n",
       "      <th>sold_quantity</th>\n",
       "      <th>buying_mode</th>\n",
       "      <th>listing_type_id</th>\n",
       "      <th>...</th>\n",
       "      <th>official_store_id</th>\n",
       "      <th>domain_id</th>\n",
       "      <th>catalog_product_id</th>\n",
       "      <th>order_backend</th>\n",
       "      <th>use_thumbnail_id</th>\n",
       "      <th>offer_score</th>\n",
       "      <th>offer_share</th>\n",
       "      <th>match_score</th>\n",
       "      <th>winner_item_id</th>\n",
       "      <th>melicoin</th>\n",
       "    </tr>\n",
       "  </thead>\n",
       "  <tbody>\n",
       "    <tr>\n",
       "      <th>0</th>\n",
       "      <td>MCO613095552</td>\n",
       "      <td>MCO</td>\n",
       "      <td>Juego De Sala Para Exterior</td>\n",
       "      <td>4774900</td>\n",
       "      <td>None</td>\n",
       "      <td>COP</td>\n",
       "      <td>1</td>\n",
       "      <td>0</td>\n",
       "      <td>buy_it_now</td>\n",
       "      <td>gold_special</td>\n",
       "      <td>...</td>\n",
       "      <td>1471</td>\n",
       "      <td>MCO-LIVING_ROOM_SETS</td>\n",
       "      <td>None</td>\n",
       "      <td>1</td>\n",
       "      <td>False</td>\n",
       "      <td>None</td>\n",
       "      <td>None</td>\n",
       "      <td>None</td>\n",
       "      <td>None</td>\n",
       "      <td>None</td>\n",
       "    </tr>\n",
       "  </tbody>\n",
       "</table>\n",
       "<p>1 rows × 28 columns</p>\n",
       "</div>"
      ],
      "text/plain": [
       "             id site_id                        title    price sale_price  \\\n",
       "0  MCO613095552     MCO  Juego De Sala Para Exterior  4774900       None   \n",
       "\n",
       "  currency_id  available_quantity  sold_quantity buying_mode listing_type_id  \\\n",
       "0         COP                   1              0  buy_it_now    gold_special   \n",
       "\n",
       "   ... official_store_id             domain_id catalog_product_id  \\\n",
       "0  ...              1471  MCO-LIVING_ROOM_SETS               None   \n",
       "\n",
       "  order_backend use_thumbnail_id  offer_score  offer_share match_score  \\\n",
       "0             1            False         None         None        None   \n",
       "\n",
       "   winner_item_id melicoin  \n",
       "0            None     None  \n",
       "\n",
       "[1 rows x 28 columns]"
      ]
     },
     "execution_count": 46,
     "metadata": {},
     "output_type": "execute_result"
    }
   ],
   "source": [
    "direct_values_extraction(\n",
    "    obj=dict_item_ejemplo\n",
    ")"
   ]
  },
  {
   "cell_type": "markdown",
   "id": "f9cbc203-a0f4-41af-9ccd-4032e0526199",
   "metadata": {},
   "source": [
    "## Extraccion de valores tipo Json o lista"
   ]
  },
  {
   "cell_type": "code",
   "execution_count": 47,
   "id": "0578ed38-70be-4c67-b8c7-192471c8fca8",
   "metadata": {},
   "outputs": [
    {
     "data": {
      "text/plain": [
       "['seller',\n",
       " 'prices',\n",
       " 'installments',\n",
       " 'address',\n",
       " 'shipping',\n",
       " 'seller_address',\n",
       " 'attributes',\n",
       " 'tags']"
      ]
     },
     "execution_count": 47,
     "metadata": {},
     "output_type": "execute_result"
    }
   ],
   "source": [
    "complex_keys"
   ]
  },
  {
   "cell_type": "code",
   "execution_count": 48,
   "id": "239be92f-8930-4091-8f86-629eb9c62b34",
   "metadata": {},
   "outputs": [
    {
     "name": "stdout",
     "output_type": "stream",
     "text": [
      "\"seller\":[\n",
      "\"id\",\n",
      "\"permalink\",\n",
      "\"registration_date\",\n",
      "\"car_dealer\",\n",
      "\"real_estate_agency\",\n",
      "\"tags\",\n",
      "],\n",
      "\"prices\":[\n",
      "\"id\",\n",
      "\"prices\",\n",
      "\"presentation\",\n",
      "\"payment_method_prices\",\n",
      "\"reference_prices\",\n",
      "\"purchase_discounts\",\n",
      "],\n",
      "\"installments\":[\n",
      "\"quantity\",\n",
      "\"amount\",\n",
      "\"rate\",\n",
      "\"currency_id\",\n",
      "],\n",
      "\"address\":[\n",
      "\"state_id\",\n",
      "\"state_name\",\n",
      "\"city_id\",\n",
      "\"city_name\",\n",
      "],\n",
      "\"shipping\":[\n",
      "\"free_shipping\",\n",
      "\"mode\",\n",
      "\"tags\",\n",
      "\"logistic_type\",\n",
      "\"store_pick_up\",\n",
      "],\n",
      "\"seller_address\":[\n",
      "\"id\",\n",
      "\"comment\",\n",
      "\"address_line\",\n",
      "\"zip_code\",\n",
      "\"country\",\n",
      "\"state\",\n",
      "\"city\",\n",
      "\"latitude\",\n",
      "\"longitude\",\n",
      "],\n",
      "\"attributes\":[\n",
      "attributes\n",
      "\"tags\":[\n",
      "tags\n"
     ]
    }
   ],
   "source": [
    "for x in complex_keys:\n",
    "    try:\n",
    "        print('\\\"' + x + '\\\":[')\n",
    "        for y in dict_item_ejemplo[x].keys():\n",
    "            print('\\\"'+y+'\\\",')\n",
    "        print('],')\n",
    "    except:\n",
    "        print(x)"
   ]
  },
  {
   "cell_type": "code",
   "execution_count": 49,
   "id": "484d42e3-b5f7-499b-8e7b-6339be0d5c3c",
   "metadata": {},
   "outputs": [],
   "source": [
    "KEYS_JSON_TYPES = {\n",
    "    \"seller\":[\n",
    "        \"id\",\n",
    "        \"permalink\",\n",
    "        \"registration_date\",\n",
    "        \"car_dealer\",\n",
    "        \"real_estate_agency\",\n",
    "        \"tags\",\n",
    "    ],\n",
    "    \"prices\":[\n",
    "        \"id\",\n",
    "        \"prices\",\n",
    "        \"presentation\",\n",
    "        \"payment_method_prices\",\n",
    "        \"reference_prices\",\n",
    "        \"purchase_discounts\",\n",
    "    ],\n",
    "    \"installments\":[\n",
    "        \"quantity\",\n",
    "        \"amount\",\n",
    "        \"rate\",\n",
    "        \"currency_id\",\n",
    "    ],\n",
    "    \"address\":[\n",
    "        \"state_id\",\n",
    "        \"state_name\",\n",
    "        \"city_id\",\n",
    "        \"city_name\",\n",
    "    ],\n",
    "    \"shipping\":[\n",
    "        \"free_shipping\",\n",
    "        \"mode\",\n",
    "        \"tags\",\n",
    "        \"logistic_type\",\n",
    "        \"store_pick_up\",\n",
    "    ],\n",
    "    \"seller_address\":[\n",
    "        \"id\",\n",
    "        \"comment\",\n",
    "        \"address_line\",\n",
    "        \"zip_code\",\n",
    "        \"country\",\n",
    "        \"state\",\n",
    "        \"city\",\n",
    "        \"latitude\",\n",
    "        \"longitude\",\n",
    "    ]\n",
    "}\n",
    "\n",
    "KEYS_LIST_TYPES = [\n",
    "    \"attributes\",\n",
    "    \"tags\"\n",
    "]"
   ]
  },
  {
   "cell_type": "markdown",
   "id": "16338f12-b895-4e16-960f-45599fb2cb88",
   "metadata": {},
   "source": [
    "### Extraccion de Jsons subyacentes"
   ]
  },
  {
   "cell_type": "code",
   "execution_count": 50,
   "id": "87402c14-565f-41c1-a904-3f831cb53a54",
   "metadata": {},
   "outputs": [],
   "source": [
    "def keys_large_construction(obj=KEYS_JSON_TYPES):\n",
    "    \n",
    "    keys_large = []\n",
    "    \n",
    "    for key in obj.keys():\n",
    "        for value in obj[key]:\n",
    "            keys_large.append(key+\".\"+value)\n",
    "\n",
    "    return keys_large"
   ]
  },
  {
   "cell_type": "code",
   "execution_count": 51,
   "id": "934035e8-bb60-4eb3-88c1-808c739d8c52",
   "metadata": {},
   "outputs": [
    {
     "data": {
      "text/plain": [
       "['seller.id',\n",
       " 'seller.permalink',\n",
       " 'seller.registration_date',\n",
       " 'seller.car_dealer',\n",
       " 'seller.real_estate_agency',\n",
       " 'seller.tags',\n",
       " 'prices.id',\n",
       " 'prices.prices',\n",
       " 'prices.presentation',\n",
       " 'prices.payment_method_prices',\n",
       " 'prices.reference_prices',\n",
       " 'prices.purchase_discounts',\n",
       " 'installments.quantity',\n",
       " 'installments.amount',\n",
       " 'installments.rate',\n",
       " 'installments.currency_id',\n",
       " 'address.state_id',\n",
       " 'address.state_name',\n",
       " 'address.city_id',\n",
       " 'address.city_name',\n",
       " 'shipping.free_shipping',\n",
       " 'shipping.mode',\n",
       " 'shipping.tags',\n",
       " 'shipping.logistic_type',\n",
       " 'shipping.store_pick_up',\n",
       " 'seller_address.id',\n",
       " 'seller_address.comment',\n",
       " 'seller_address.address_line',\n",
       " 'seller_address.zip_code',\n",
       " 'seller_address.country',\n",
       " 'seller_address.state',\n",
       " 'seller_address.city',\n",
       " 'seller_address.latitude',\n",
       " 'seller_address.longitude']"
      ]
     },
     "execution_count": 51,
     "metadata": {},
     "output_type": "execute_result"
    }
   ],
   "source": [
    "KEYS_LARGE = keys_large_construction(KEYS_JSON_TYPES)\n",
    "\n",
    "KEYS_LARGE"
   ]
  },
  {
   "cell_type": "code",
   "execution_count": 52,
   "id": "94b49b5d-f44d-4dca-9d0e-a407f05b754c",
   "metadata": {},
   "outputs": [],
   "source": [
    "def sub_json_extraction(obj:dict, list_keys=KEYS_LARGE):\n",
    "    cols = [\n",
    "        x.replace(\".\",\"_\") for x in list_keys\n",
    "    ]\n",
    "    df = pd.DataFrame(\n",
    "        columns=list_keys\n",
    "    )\n",
    "    \n",
    "    for key in list_keys:\n",
    "        value = nested_get(\n",
    "            key=key, \n",
    "            obj=obj\n",
    "        )\n",
    "        df[key] = [value]\n",
    "        \n",
    "    df.columns = cols\n",
    "        \n",
    "    return df"
   ]
  },
  {
   "cell_type": "code",
   "execution_count": 53,
   "id": "c5f4d931-2d0a-4c52-a219-5e2a87b26590",
   "metadata": {},
   "outputs": [
    {
     "data": {
      "text/html": [
       "<div>\n",
       "<style scoped>\n",
       "    .dataframe tbody tr th:only-of-type {\n",
       "        vertical-align: middle;\n",
       "    }\n",
       "\n",
       "    .dataframe tbody tr th {\n",
       "        vertical-align: top;\n",
       "    }\n",
       "\n",
       "    .dataframe thead th {\n",
       "        text-align: right;\n",
       "    }\n",
       "</style>\n",
       "<table border=\"1\" class=\"dataframe\">\n",
       "  <thead>\n",
       "    <tr style=\"text-align: right;\">\n",
       "      <th></th>\n",
       "      <th>seller_id</th>\n",
       "      <th>seller_permalink</th>\n",
       "      <th>seller_registration_date</th>\n",
       "      <th>seller_car_dealer</th>\n",
       "      <th>seller_real_estate_agency</th>\n",
       "      <th>seller_tags</th>\n",
       "      <th>prices_id</th>\n",
       "      <th>prices_prices</th>\n",
       "      <th>prices_presentation</th>\n",
       "      <th>prices_payment_method_prices</th>\n",
       "      <th>...</th>\n",
       "      <th>shipping_store_pick_up</th>\n",
       "      <th>seller_address_id</th>\n",
       "      <th>seller_address_comment</th>\n",
       "      <th>seller_address_address_line</th>\n",
       "      <th>seller_address_zip_code</th>\n",
       "      <th>seller_address_country</th>\n",
       "      <th>seller_address_state</th>\n",
       "      <th>seller_address_city</th>\n",
       "      <th>seller_address_latitude</th>\n",
       "      <th>seller_address_longitude</th>\n",
       "    </tr>\n",
       "  </thead>\n",
       "  <tbody>\n",
       "    <tr>\n",
       "      <th>0</th>\n",
       "      <td>686352448</td>\n",
       "      <td>None</td>\n",
       "      <td>None</td>\n",
       "      <td>False</td>\n",
       "      <td>False</td>\n",
       "      <td>None</td>\n",
       "      <td>MCO613095552</td>\n",
       "      <td>[{'id': '12', 'type': 'standard', 'amount': 58...</td>\n",
       "      <td>{'display_currency': 'COP'}</td>\n",
       "      <td>[]</td>\n",
       "      <td>...</td>\n",
       "      <td>False</td>\n",
       "      <td></td>\n",
       "      <td></td>\n",
       "      <td></td>\n",
       "      <td></td>\n",
       "      <td>{'id': 'CO', 'name': 'Colombia'}</td>\n",
       "      <td>{'id': 'CO-VAC', 'name': 'Valle Del Cauca'}</td>\n",
       "      <td>{'id': 'TUNPQ1lVTTE2MGZm', 'name': 'Yumbo'}</td>\n",
       "      <td></td>\n",
       "      <td></td>\n",
       "    </tr>\n",
       "  </tbody>\n",
       "</table>\n",
       "<p>1 rows × 34 columns</p>\n",
       "</div>"
      ],
      "text/plain": [
       "   seller_id seller_permalink seller_registration_date  seller_car_dealer  \\\n",
       "0  686352448             None                     None              False   \n",
       "\n",
       "   seller_real_estate_agency seller_tags     prices_id  \\\n",
       "0                      False        None  MCO613095552   \n",
       "\n",
       "                                       prices_prices  \\\n",
       "0  [{'id': '12', 'type': 'standard', 'amount': 58...   \n",
       "\n",
       "           prices_presentation prices_payment_method_prices  ...  \\\n",
       "0  {'display_currency': 'COP'}                           []  ...   \n",
       "\n",
       "  shipping_store_pick_up seller_address_id  seller_address_comment  \\\n",
       "0                  False                                             \n",
       "\n",
       "   seller_address_address_line  seller_address_zip_code  \\\n",
       "0                                                         \n",
       "\n",
       "             seller_address_country  \\\n",
       "0  {'id': 'CO', 'name': 'Colombia'}   \n",
       "\n",
       "                          seller_address_state  \\\n",
       "0  {'id': 'CO-VAC', 'name': 'Valle Del Cauca'}   \n",
       "\n",
       "                           seller_address_city seller_address_latitude  \\\n",
       "0  {'id': 'TUNPQ1lVTTE2MGZm', 'name': 'Yumbo'}                           \n",
       "\n",
       "  seller_address_longitude  \n",
       "0                           \n",
       "\n",
       "[1 rows x 34 columns]"
      ]
     },
     "execution_count": 53,
     "metadata": {},
     "output_type": "execute_result"
    }
   ],
   "source": [
    "df = sub_json_extraction(\n",
    "    obj=dict_item_ejemplo,\n",
    "    list_keys=keys_large_construction(KEYS_JSON_TYPES)\n",
    ")\n",
    "\n",
    "df"
   ]
  },
  {
   "cell_type": "markdown",
   "id": "f874eb42-f2a9-4e81-9482-3aa4268c59ab",
   "metadata": {},
   "source": [
    "### Extraccion de listas subyacentes"
   ]
  },
  {
   "cell_type": "markdown",
   "id": "ee3f4d0f-3ecb-428c-8a82-af38c1a41b61",
   "metadata": {},
   "source": [
    "#### Analisis de listas"
   ]
  },
  {
   "cell_type": "code",
   "execution_count": 54,
   "id": "9ba5f697-fa3b-411f-8df0-85635ec87aef",
   "metadata": {},
   "outputs": [
    {
     "data": {
      "text/plain": [
       "['attributes', 'tags']"
      ]
     },
     "execution_count": 54,
     "metadata": {},
     "output_type": "execute_result"
    }
   ],
   "source": [
    "KEYS_LIST_TYPES"
   ]
  },
  {
   "cell_type": "markdown",
   "id": "510e7494-7f56-4bf7-b4e6-60e6cffcdf53",
   "metadata": {},
   "source": [
    "##### Attributes "
   ]
  },
  {
   "cell_type": "code",
   "execution_count": 55,
   "id": "52bedcce-2b7c-4e9d-8cbd-4e959d14b614",
   "metadata": {},
   "outputs": [
    {
     "data": {
      "text/plain": [
       "{'value_struct': None,\n",
       " 'values': [{'id': '2230284',\n",
       "   'name': 'Nuevo',\n",
       "   'struct': None,\n",
       "   'source': 6808261514773724}],\n",
       " 'attribute_group_name': 'Otros',\n",
       " 'value_name': 'Nuevo',\n",
       " 'attribute_group_id': 'OTHERS',\n",
       " 'source': 6808261514773724,\n",
       " 'id': 'ITEM_CONDITION',\n",
       " 'name': 'Condición del ítem',\n",
       " 'value_id': '2230284'}"
      ]
     },
     "execution_count": 55,
     "metadata": {},
     "output_type": "execute_result"
    }
   ],
   "source": [
    "dict_item_ejemplo[\"attributes\"][1]"
   ]
  },
  {
   "cell_type": "code",
   "execution_count": 56,
   "id": "50be057b-ac77-4f18-a702-24734f07dd3d",
   "metadata": {},
   "outputs": [
    {
     "name": "stdout",
     "output_type": "stream",
     "text": [
      "BRAND portal del hogar\n",
      "ITEM_CONDITION Nuevo\n",
      "LENGTH None\n",
      "MODEL afilador de cuchillos\n",
      "PACKAGE_LENGTH 12 cm\n",
      "PACKAGE_WEIGHT 240 g\n",
      "UNITS_PER_PACKAGE 1\n"
     ]
    }
   ],
   "source": [
    "for x in json_items_disc[\"results\"][1][\"attributes\"]:\n",
    "    print(x[\"id\"], x[\"value_name\"])"
   ]
  },
  {
   "cell_type": "code",
   "execution_count": 57,
   "id": "e60b9690-265b-4a37-9b88-527954a0f5ee",
   "metadata": {},
   "outputs": [],
   "source": [
    "ATTRIBUTES_IDS = [\n",
    "    \"ITEM_CONDITION\",\n",
    "    \"BRAND\",\n",
    "    \"MODEL\"\n",
    "]"
   ]
  },
  {
   "cell_type": "code",
   "execution_count": 58,
   "id": "29241ee9-fb37-4a6d-a5bd-1dae3ec29d1d",
   "metadata": {},
   "outputs": [],
   "source": [
    "def attribute_extraction(obj:dict,  attributes_id=ATTRIBUTES_IDS):\n",
    "    atts = obj[\"attributes\"]\n",
    "    data = {\n",
    "        \"NUM_ATTRIBUTEs\":len(atts)\n",
    "    }\n",
    "    \n",
    "    for x in atts:\n",
    "        att_id = x[\"id\"]\n",
    "        value = None\n",
    "        \n",
    "        if att_id in attributes_id:\n",
    "            \n",
    "            data[att_id] = x[\"value_name\"]\n",
    "            \n",
    "    df = pd.DataFrame(\n",
    "        data=data,\n",
    "        index=[0]\n",
    "    )\n",
    "    \n",
    "    return df"
   ]
  },
  {
   "cell_type": "code",
   "execution_count": 59,
   "id": "74236a96-5b1a-43d3-80c5-32f1467b62ec",
   "metadata": {},
   "outputs": [
    {
     "data": {
      "text/html": [
       "<div>\n",
       "<style scoped>\n",
       "    .dataframe tbody tr th:only-of-type {\n",
       "        vertical-align: middle;\n",
       "    }\n",
       "\n",
       "    .dataframe tbody tr th {\n",
       "        vertical-align: top;\n",
       "    }\n",
       "\n",
       "    .dataframe thead th {\n",
       "        text-align: right;\n",
       "    }\n",
       "</style>\n",
       "<table border=\"1\" class=\"dataframe\">\n",
       "  <thead>\n",
       "    <tr style=\"text-align: right;\">\n",
       "      <th></th>\n",
       "      <th>NUM_ATTRIBUTEs</th>\n",
       "      <th>BRAND</th>\n",
       "      <th>ITEM_CONDITION</th>\n",
       "      <th>MODEL</th>\n",
       "    </tr>\n",
       "  </thead>\n",
       "  <tbody>\n",
       "    <tr>\n",
       "      <th>0</th>\n",
       "      <td>3</td>\n",
       "      <td>RTA DESING</td>\n",
       "      <td>Nuevo</td>\n",
       "      <td>VMOD-102</td>\n",
       "    </tr>\n",
       "  </tbody>\n",
       "</table>\n",
       "</div>"
      ],
      "text/plain": [
       "   NUM_ATTRIBUTEs       BRAND ITEM_CONDITION     MODEL\n",
       "0               3  RTA DESING          Nuevo  VMOD-102"
      ]
     },
     "execution_count": 59,
     "metadata": {},
     "output_type": "execute_result"
    }
   ],
   "source": [
    "attribute_extraction(\n",
    "    attributes_id=ATTRIBUTES_IDS, \n",
    "    obj=dict_item_ejemplo\n",
    ")"
   ]
  },
  {
   "cell_type": "markdown",
   "id": "d5d959b6-bc57-4f91-bb1c-5112852bebd8",
   "metadata": {},
   "source": [
    "##### Tags"
   ]
  },
  {
   "cell_type": "code",
   "execution_count": 60,
   "id": "7f6e8b6a-49f7-4f1e-af3e-c37e3988b919",
   "metadata": {},
   "outputs": [
    {
     "data": {
      "text/plain": [
       "['good_quality_thumbnail',\n",
       " 'loyalty_discount_eligible',\n",
       " 'good_quality_picture',\n",
       " 'immediate_payment']"
      ]
     },
     "execution_count": 60,
     "metadata": {},
     "output_type": "execute_result"
    }
   ],
   "source": [
    "dict_item_ejemplo[\"tags\"]"
   ]
  },
  {
   "cell_type": "code",
   "execution_count": 61,
   "id": "e96deaaa-f077-415e-92e9-23da2c886916",
   "metadata": {},
   "outputs": [
    {
     "data": {
      "text/plain": [
       "['good_quality_picture',\n",
       " 'good_quality_thumbnail',\n",
       " 'loyalty_discount_eligible',\n",
       " 'immediate_payment']"
      ]
     },
     "execution_count": 61,
     "metadata": {},
     "output_type": "execute_result"
    }
   ],
   "source": [
    "json_items_disc[\"results\"][4][\"tags\"]"
   ]
  },
  {
   "cell_type": "code",
   "execution_count": 62,
   "id": "7c640e74-dc9d-4f9f-b881-bfe2c16729e3",
   "metadata": {},
   "outputs": [],
   "source": [
    "TAGS = [\n",
    "    \"best_seller_candidate\",\n",
    "    \"loyalty_discount_eligible\",\n",
    "    \"good_quality_picture\"\n",
    "]"
   ]
  },
  {
   "cell_type": "code",
   "execution_count": 63,
   "id": "96effb29-399b-4865-87fe-3286f715e02b",
   "metadata": {},
   "outputs": [],
   "source": [
    "def tags_extraction(obj:dict, list_tags=TAGS):\n",
    "    \n",
    "    item_tags = obj[\"tags\"]\n",
    "    data = {\n",
    "        \"num_tags\":len(item_tags)\n",
    "    }\n",
    "    \n",
    "    for tag in list_tags:\n",
    "        data[tag] = 1 if tag in item_tags else 0\n",
    "        \n",
    "    df = pd.DataFrame(\n",
    "        data=data,\n",
    "        index=[0]\n",
    "    )\n",
    "    \n",
    "    return df  "
   ]
  },
  {
   "cell_type": "code",
   "execution_count": 64,
   "id": "7993a5b3-7711-461a-89b1-4d5934b4ee4f",
   "metadata": {},
   "outputs": [
    {
     "data": {
      "text/html": [
       "<div>\n",
       "<style scoped>\n",
       "    .dataframe tbody tr th:only-of-type {\n",
       "        vertical-align: middle;\n",
       "    }\n",
       "\n",
       "    .dataframe tbody tr th {\n",
       "        vertical-align: top;\n",
       "    }\n",
       "\n",
       "    .dataframe thead th {\n",
       "        text-align: right;\n",
       "    }\n",
       "</style>\n",
       "<table border=\"1\" class=\"dataframe\">\n",
       "  <thead>\n",
       "    <tr style=\"text-align: right;\">\n",
       "      <th></th>\n",
       "      <th>num_tags</th>\n",
       "      <th>best_seller_candidate</th>\n",
       "      <th>loyalty_discount_eligible</th>\n",
       "      <th>good_quality_picture</th>\n",
       "    </tr>\n",
       "  </thead>\n",
       "  <tbody>\n",
       "    <tr>\n",
       "      <th>0</th>\n",
       "      <td>4</td>\n",
       "      <td>0</td>\n",
       "      <td>1</td>\n",
       "      <td>1</td>\n",
       "    </tr>\n",
       "  </tbody>\n",
       "</table>\n",
       "</div>"
      ],
      "text/plain": [
       "   num_tags  best_seller_candidate  loyalty_discount_eligible  \\\n",
       "0         4                      0                          1   \n",
       "\n",
       "   good_quality_picture  \n",
       "0                     1  "
      ]
     },
     "execution_count": 64,
     "metadata": {},
     "output_type": "execute_result"
    }
   ],
   "source": [
    "tags_extraction(obj=dict_item_ejemplo)"
   ]
  },
  {
   "cell_type": "markdown",
   "id": "fdd6fba2-7890-40c2-b2c2-f02c18764899",
   "metadata": {},
   "source": [
    "## Agrupacion de variable spor item"
   ]
  },
  {
   "cell_type": "code",
   "execution_count": 65,
   "id": "90facdea-c517-458d-8bae-a646e137d7fa",
   "metadata": {},
   "outputs": [],
   "source": [
    "def info_item(\n",
    "    obj_item:dict,\n",
    "    list_direct_values=KEYS_DIRECT_VALUES,\n",
    "    obj_keys_json_type=KEYS_JSON_TYPES,\n",
    "    attributes_id=ATTRIBUTES_IDS,\n",
    "    list_tags=TAGS\n",
    "):\n",
    "    \"\"\"\n",
    "    Funcion que retorna la informacion relevante por item, de acuerdo a los parametros.\n",
    "    :param: json del item junto con especificaciones para cada funcion.\n",
    "    :return: DataFrame.\n",
    "    \"\"\"\n",
    "    keys_large_json=keys_large_construction(obj_keys_json_type)\n",
    "    \n",
    "    df = pd.concat(\n",
    "        [\n",
    "            direct_values_extraction(\n",
    "                obj=obj_item, \n",
    "                list_keys=list_direct_values\n",
    "            ),\n",
    "            sub_json_extraction(\n",
    "                obj=obj_item,\n",
    "                list_keys=keys_large_json\n",
    "            ),\n",
    "            attribute_extraction(\n",
    "                obj=obj_item,\n",
    "                attributes_id=attributes_id\n",
    "            ),\n",
    "            tags_extraction(\n",
    "                obj=obj_item, \n",
    "                list_tags=list_tags\n",
    "            )\n",
    "        ],\n",
    "        axis=1\n",
    "    )\n",
    "    \n",
    "    return df"
   ]
  },
  {
   "cell_type": "code",
   "execution_count": 66,
   "id": "f3bc9e4e-ea5f-4be5-9474-e3ede1451999",
   "metadata": {},
   "outputs": [],
   "source": [
    "def items_request(obj:dict):\n",
    "    \"\"\"\n",
    "    Funcion que estructura una tabla con la informacion de items por consulta\n",
    "    :param: Consulta API.\n",
    "    :return: DataFrame.\n",
    "    \"\"\"\n",
    "\n",
    "    df = pd.DataFrame()\n",
    "    try:\n",
    "        for x in obj[\"results\"]:\n",
    "            df_temp = info_item(obj_item=x)\n",
    "            df = pd.concat(\n",
    "                [\n",
    "                    df_temp,\n",
    "                    df\n",
    "                ],\n",
    "                axis=0\n",
    "            ).reset_index(drop=True)\n",
    "    except:\n",
    "        print(\"[ERROR]: No se pudo crear tabla de items\")\n",
    "        \n",
    "    return df"
   ]
  },
  {
   "cell_type": "code",
   "execution_count": 67,
   "id": "29cb300f-e409-4c7a-ac8f-8a12605aca85",
   "metadata": {},
   "outputs": [
    {
     "data": {
      "text/html": [
       "<div>\n",
       "<style scoped>\n",
       "    .dataframe tbody tr th:only-of-type {\n",
       "        vertical-align: middle;\n",
       "    }\n",
       "\n",
       "    .dataframe tbody tr th {\n",
       "        vertical-align: top;\n",
       "    }\n",
       "\n",
       "    .dataframe thead th {\n",
       "        text-align: right;\n",
       "    }\n",
       "</style>\n",
       "<table border=\"1\" class=\"dataframe\">\n",
       "  <thead>\n",
       "    <tr style=\"text-align: right;\">\n",
       "      <th></th>\n",
       "      <th>id</th>\n",
       "      <th>site_id</th>\n",
       "      <th>title</th>\n",
       "      <th>price</th>\n",
       "      <th>sale_price</th>\n",
       "      <th>currency_id</th>\n",
       "      <th>available_quantity</th>\n",
       "      <th>sold_quantity</th>\n",
       "      <th>buying_mode</th>\n",
       "      <th>listing_type_id</th>\n",
       "      <th>...</th>\n",
       "      <th>seller_address_latitude</th>\n",
       "      <th>seller_address_longitude</th>\n",
       "      <th>NUM_ATTRIBUTEs</th>\n",
       "      <th>BRAND</th>\n",
       "      <th>ITEM_CONDITION</th>\n",
       "      <th>MODEL</th>\n",
       "      <th>num_tags</th>\n",
       "      <th>best_seller_candidate</th>\n",
       "      <th>loyalty_discount_eligible</th>\n",
       "      <th>good_quality_picture</th>\n",
       "    </tr>\n",
       "  </thead>\n",
       "  <tbody>\n",
       "    <tr>\n",
       "      <th>0</th>\n",
       "      <td>MCO588885852</td>\n",
       "      <td>MCO</td>\n",
       "      <td>Set X2 Tuppers Begônia Recipientes De Plástico...</td>\n",
       "      <td>21700</td>\n",
       "      <td>None</td>\n",
       "      <td>COP</td>\n",
       "      <td>50</td>\n",
       "      <td>250</td>\n",
       "      <td>buy_it_now</td>\n",
       "      <td>gold_special</td>\n",
       "      <td>...</td>\n",
       "      <td></td>\n",
       "      <td></td>\n",
       "      <td>5</td>\n",
       "      <td>Begônia</td>\n",
       "      <td>Nuevo</td>\n",
       "      <td>NF20070208-1</td>\n",
       "      <td>7</td>\n",
       "      <td>1</td>\n",
       "      <td>1</td>\n",
       "      <td>1</td>\n",
       "    </tr>\n",
       "    <tr>\n",
       "      <th>1</th>\n",
       "      <td>MCO602167001</td>\n",
       "      <td>MCO</td>\n",
       "      <td>Regadera Ducha Metálica 20 X 20 Cuadrada Kit T...</td>\n",
       "      <td>36955</td>\n",
       "      <td>None</td>\n",
       "      <td>COP</td>\n",
       "      <td>1</td>\n",
       "      <td>500</td>\n",
       "      <td>buy_it_now</td>\n",
       "      <td>gold_pro</td>\n",
       "      <td>...</td>\n",
       "      <td></td>\n",
       "      <td></td>\n",
       "      <td>5</td>\n",
       "      <td>General</td>\n",
       "      <td>Nuevo</td>\n",
       "      <td>DU-2</td>\n",
       "      <td>6</td>\n",
       "      <td>1</td>\n",
       "      <td>1</td>\n",
       "      <td>1</td>\n",
       "    </tr>\n",
       "    <tr>\n",
       "      <th>2</th>\n",
       "      <td>MCO605884969</td>\n",
       "      <td>MCO</td>\n",
       "      <td>Combo Mesa Cuadrada Y 4 Sillas Para Exterior N...</td>\n",
       "      <td>1550900</td>\n",
       "      <td>None</td>\n",
       "      <td>COP</td>\n",
       "      <td>50</td>\n",
       "      <td>0</td>\n",
       "      <td>buy_it_now</td>\n",
       "      <td>gold_special</td>\n",
       "      <td>...</td>\n",
       "      <td></td>\n",
       "      <td></td>\n",
       "      <td>3</td>\n",
       "      <td>RTA DESING</td>\n",
       "      <td>Nuevo</td>\n",
       "      <td>VMOD 116</td>\n",
       "      <td>4</td>\n",
       "      <td>0</td>\n",
       "      <td>1</td>\n",
       "      <td>1</td>\n",
       "    </tr>\n",
       "    <tr>\n",
       "      <th>3</th>\n",
       "      <td>MCO510586505</td>\n",
       "      <td>MCO</td>\n",
       "      <td>Kit 6 Sillas  Eames Patas En Madera Para Comed...</td>\n",
       "      <td>549900</td>\n",
       "      <td>None</td>\n",
       "      <td>COP</td>\n",
       "      <td>1</td>\n",
       "      <td>250</td>\n",
       "      <td>buy_it_now</td>\n",
       "      <td>gold_special</td>\n",
       "      <td>...</td>\n",
       "      <td></td>\n",
       "      <td></td>\n",
       "      <td>4</td>\n",
       "      <td>Box Bit</td>\n",
       "      <td>Nuevo</td>\n",
       "      <td>OR-1102B</td>\n",
       "      <td>5</td>\n",
       "      <td>0</td>\n",
       "      <td>1</td>\n",
       "      <td>1</td>\n",
       "    </tr>\n",
       "    <tr>\n",
       "      <th>4</th>\n",
       "      <td>MCO598391564</td>\n",
       "      <td>MCO</td>\n",
       "      <td>Escritorio Axis Wengue</td>\n",
       "      <td>292900</td>\n",
       "      <td>None</td>\n",
       "      <td>COP</td>\n",
       "      <td>200</td>\n",
       "      <td>500</td>\n",
       "      <td>buy_it_now</td>\n",
       "      <td>gold_special</td>\n",
       "      <td>...</td>\n",
       "      <td></td>\n",
       "      <td></td>\n",
       "      <td>5</td>\n",
       "      <td>RTA DESING</td>\n",
       "      <td>Nuevo</td>\n",
       "      <td>ELW 1464</td>\n",
       "      <td>3</td>\n",
       "      <td>0</td>\n",
       "      <td>0</td>\n",
       "      <td>1</td>\n",
       "    </tr>\n",
       "    <tr>\n",
       "      <th>5</th>\n",
       "      <td>MCO563870938</td>\n",
       "      <td>MCO</td>\n",
       "      <td>Marcos Para Fotos Portaretrato Blancos X 7 Uni...</td>\n",
       "      <td>32500</td>\n",
       "      <td>None</td>\n",
       "      <td>COP</td>\n",
       "      <td>100</td>\n",
       "      <td>500</td>\n",
       "      <td>buy_it_now</td>\n",
       "      <td>gold_special</td>\n",
       "      <td>...</td>\n",
       "      <td></td>\n",
       "      <td></td>\n",
       "      <td>5</td>\n",
       "      <td>Begônia</td>\n",
       "      <td>Nuevo</td>\n",
       "      <td>D150919006</td>\n",
       "      <td>7</td>\n",
       "      <td>1</td>\n",
       "      <td>1</td>\n",
       "      <td>1</td>\n",
       "    </tr>\n",
       "    <tr>\n",
       "      <th>6</th>\n",
       "      <td>MCO846307372</td>\n",
       "      <td>MCO</td>\n",
       "      <td>Combo Sofacama Tapizado + Poltrona + Puff + Me...</td>\n",
       "      <td>2726400</td>\n",
       "      <td>None</td>\n",
       "      <td>COP</td>\n",
       "      <td>1</td>\n",
       "      <td>0</td>\n",
       "      <td>buy_it_now</td>\n",
       "      <td>gold_special</td>\n",
       "      <td>...</td>\n",
       "      <td></td>\n",
       "      <td></td>\n",
       "      <td>2</td>\n",
       "      <td>Alameda</td>\n",
       "      <td>Nuevo</td>\n",
       "      <td>NaN</td>\n",
       "      <td>4</td>\n",
       "      <td>0</td>\n",
       "      <td>1</td>\n",
       "      <td>1</td>\n",
       "    </tr>\n",
       "    <tr>\n",
       "      <th>7</th>\n",
       "      <td>MCO578138693</td>\n",
       "      <td>MCO</td>\n",
       "      <td>Delantal Cocina Unicolor Antifluido Negro,blan...</td>\n",
       "      <td>13575</td>\n",
       "      <td>None</td>\n",
       "      <td>COP</td>\n",
       "      <td>500</td>\n",
       "      <td>500</td>\n",
       "      <td>buy_it_now</td>\n",
       "      <td>gold_pro</td>\n",
       "      <td>...</td>\n",
       "      <td></td>\n",
       "      <td></td>\n",
       "      <td>3</td>\n",
       "      <td>san laurent</td>\n",
       "      <td>Nuevo</td>\n",
       "      <td>delantal cocina</td>\n",
       "      <td>5</td>\n",
       "      <td>0</td>\n",
       "      <td>1</td>\n",
       "      <td>1</td>\n",
       "    </tr>\n",
       "    <tr>\n",
       "      <th>8</th>\n",
       "      <td>MCO598705891</td>\n",
       "      <td>MCO</td>\n",
       "      <td>Mueble Alacena Varese</td>\n",
       "      <td>316900</td>\n",
       "      <td>None</td>\n",
       "      <td>COP</td>\n",
       "      <td>500</td>\n",
       "      <td>250</td>\n",
       "      <td>buy_it_now</td>\n",
       "      <td>gold_special</td>\n",
       "      <td>...</td>\n",
       "      <td></td>\n",
       "      <td></td>\n",
       "      <td>3</td>\n",
       "      <td>Rta Design</td>\n",
       "      <td>Nuevo</td>\n",
       "      <td>MLB 1636</td>\n",
       "      <td>3</td>\n",
       "      <td>0</td>\n",
       "      <td>0</td>\n",
       "      <td>1</td>\n",
       "    </tr>\n",
       "    <tr>\n",
       "      <th>9</th>\n",
       "      <td>MCO487675871</td>\n",
       "      <td>MCO</td>\n",
       "      <td>Kit 4 Sillas Charles Eames Madera - Eiffel</td>\n",
       "      <td>379900</td>\n",
       "      <td>None</td>\n",
       "      <td>COP</td>\n",
       "      <td>1</td>\n",
       "      <td>500</td>\n",
       "      <td>buy_it_now</td>\n",
       "      <td>gold_special</td>\n",
       "      <td>...</td>\n",
       "      <td></td>\n",
       "      <td></td>\n",
       "      <td>4</td>\n",
       "      <td>Box Bit</td>\n",
       "      <td>Nuevo</td>\n",
       "      <td>OR-1102B</td>\n",
       "      <td>5</td>\n",
       "      <td>0</td>\n",
       "      <td>1</td>\n",
       "      <td>1</td>\n",
       "    </tr>\n",
       "  </tbody>\n",
       "</table>\n",
       "<p>10 rows × 70 columns</p>\n",
       "</div>"
      ],
      "text/plain": [
       "             id site_id                                              title  \\\n",
       "0  MCO588885852     MCO  Set X2 Tuppers Begônia Recipientes De Plástico...   \n",
       "1  MCO602167001     MCO  Regadera Ducha Metálica 20 X 20 Cuadrada Kit T...   \n",
       "2  MCO605884969     MCO  Combo Mesa Cuadrada Y 4 Sillas Para Exterior N...   \n",
       "3  MCO510586505     MCO  Kit 6 Sillas  Eames Patas En Madera Para Comed...   \n",
       "4  MCO598391564     MCO                             Escritorio Axis Wengue   \n",
       "5  MCO563870938     MCO  Marcos Para Fotos Portaretrato Blancos X 7 Uni...   \n",
       "6  MCO846307372     MCO  Combo Sofacama Tapizado + Poltrona + Puff + Me...   \n",
       "7  MCO578138693     MCO  Delantal Cocina Unicolor Antifluido Negro,blan...   \n",
       "8  MCO598705891     MCO                             Mueble Alacena Varese    \n",
       "9  MCO487675871     MCO         Kit 4 Sillas Charles Eames Madera - Eiffel   \n",
       "\n",
       "     price sale_price currency_id  available_quantity  sold_quantity  \\\n",
       "0    21700       None         COP                  50            250   \n",
       "1    36955       None         COP                   1            500   \n",
       "2  1550900       None         COP                  50              0   \n",
       "3   549900       None         COP                   1            250   \n",
       "4   292900       None         COP                 200            500   \n",
       "5    32500       None         COP                 100            500   \n",
       "6  2726400       None         COP                   1              0   \n",
       "7    13575       None         COP                 500            500   \n",
       "8   316900       None         COP                 500            250   \n",
       "9   379900       None         COP                   1            500   \n",
       "\n",
       "  buying_mode listing_type_id  ... seller_address_latitude  \\\n",
       "0  buy_it_now    gold_special  ...                           \n",
       "1  buy_it_now        gold_pro  ...                           \n",
       "2  buy_it_now    gold_special  ...                           \n",
       "3  buy_it_now    gold_special  ...                           \n",
       "4  buy_it_now    gold_special  ...                           \n",
       "5  buy_it_now    gold_special  ...                           \n",
       "6  buy_it_now    gold_special  ...                           \n",
       "7  buy_it_now        gold_pro  ...                           \n",
       "8  buy_it_now    gold_special  ...                           \n",
       "9  buy_it_now    gold_special  ...                           \n",
       "\n",
       "  seller_address_longitude NUM_ATTRIBUTEs        BRAND ITEM_CONDITION  \\\n",
       "0                                       5      Begônia          Nuevo   \n",
       "1                                       5      General          Nuevo   \n",
       "2                                       3   RTA DESING          Nuevo   \n",
       "3                                       4      Box Bit          Nuevo   \n",
       "4                                       5   RTA DESING          Nuevo   \n",
       "5                                       5      Begônia          Nuevo   \n",
       "6                                       2      Alameda          Nuevo   \n",
       "7                                       3  san laurent          Nuevo   \n",
       "8                                       3   Rta Design          Nuevo   \n",
       "9                                       4      Box Bit          Nuevo   \n",
       "\n",
       "             MODEL  num_tags best_seller_candidate loyalty_discount_eligible  \\\n",
       "0     NF20070208-1         7                     1                         1   \n",
       "1             DU-2         6                     1                         1   \n",
       "2         VMOD 116         4                     0                         1   \n",
       "3         OR-1102B         5                     0                         1   \n",
       "4         ELW 1464         3                     0                         0   \n",
       "5       D150919006         7                     1                         1   \n",
       "6              NaN         4                     0                         1   \n",
       "7  delantal cocina         5                     0                         1   \n",
       "8         MLB 1636         3                     0                         0   \n",
       "9         OR-1102B         5                     0                         1   \n",
       "\n",
       "  good_quality_picture  \n",
       "0                    1  \n",
       "1                    1  \n",
       "2                    1  \n",
       "3                    1  \n",
       "4                    1  \n",
       "5                    1  \n",
       "6                    1  \n",
       "7                    1  \n",
       "8                    1  \n",
       "9                    1  \n",
       "\n",
       "[10 rows x 70 columns]"
      ]
     },
     "execution_count": 67,
     "metadata": {},
     "output_type": "execute_result"
    }
   ],
   "source": [
    "df_total = items_request(json_items_disc)\n",
    "\n",
    "df_total.head(10)"
   ]
  },
  {
   "cell_type": "code",
   "execution_count": 68,
   "id": "4d5df618-e9cb-46e6-b1cf-61e941ed628c",
   "metadata": {},
   "outputs": [],
   "source": [
    "df_total.to_csv(\"prueba_50_items.csv\", index=False)"
   ]
  },
  {
   "cell_type": "code",
   "execution_count": 69,
   "id": "57062903-31a3-4c00-a1e5-04c608d04372",
   "metadata": {},
   "outputs": [],
   "source": [
    "URL_TEST = \"https://api.mercadolibre.com/sites/{site}/search?category={category}&offset={offset}&sort=relevance&limit=50\""
   ]
  },
  {
   "cell_type": "code",
   "execution_count": 70,
   "id": "491b23e5-8a74-4a59-914c-1663c916c774",
   "metadata": {},
   "outputs": [],
   "source": [
    "URL_SITE_CAT_OFFSET_DISC = \"\"\"\n",
    "https://api.mercadolibre.com/sites/{site}/search?category={category}&offset={offset}&sort=relevance&limit=50&discount=5-100\n",
    "\"\"\"\n",
    "\n",
    "URL_SITE_CAT_OFFSET = \"\"\"\n",
    "https://api.mercadolibre.com/sites/{site}/search?category={category}&offset={offset}&sort=relevance&limit=50\n",
    "\"\"\""
   ]
  },
  {
   "cell_type": "code",
   "execution_count": 71,
   "id": "02bc71fe-728f-4e90-9a7e-7c6b24e5f098",
   "metadata": {},
   "outputs": [],
   "source": [
    "def lote_items(\n",
    "    category:str,\n",
    "    site:str,\n",
    "    size:int,\n",
    "    file_name:str,\n",
    "    discount:bool\n",
    "):\n",
    "    \"\"\"\n",
    "    Funcion que realiza sufientes consultas y las estructura para generar una tabla\n",
    "        con un minimo de items\n",
    "    :param: Detalles de consulta y numero de items.\n",
    "    :return: DataFrame.\n",
    "    \"\"\"\n",
    "    if discount:\n",
    "        URL_TEMP = URL_SITE_CAT_OFFSET_DISC\n",
    "    else:\n",
    "        URL_TEMP = URL_SITE_CAT_OFFSET\n",
    "        \n",
    "    load = -1\n",
    "    errores = 0\n",
    "    while(load<size)&(errores<10):\n",
    "        try:\n",
    "            json_temp = requests.request(\n",
    "                \"GET\",\n",
    "                URL_TEMP.format(\n",
    "                    site=site,\n",
    "                    category=category,\n",
    "                    offset=load+1\n",
    "                )\n",
    "            ).json()\n",
    "                      \n",
    "            df_temp = items_request(json_temp)\n",
    "            \n",
    "            if file_name in os.listdir():\n",
    "                df_loaded_items = pd.read_csv(file_name)\n",
    "            else:\n",
    "                df_loaded_items = pd.DataFrame()\n",
    "                \n",
    "            df_loaded_items = pd.concat(\n",
    "                [\n",
    "                    df_temp,\n",
    "                    df_loaded_items\n",
    "                ],\n",
    "                axis=0\n",
    "            ).reset_index(drop=True)\n",
    "            \n",
    "            load = df_loaded_items.shape[0]\n",
    "            df_loaded_items.to_csv(file_name,index=False)\n",
    "            \n",
    "        except(KeyError, ValueError, TypeError):\n",
    "            print(\"[ERROR]: No se puedo cargar el volumen de datos.\")\n",
    "            time.sleep(3)\n",
    "            errores = errores + 1\n",
    "    print(\"[INFO]: Termino, revise la ruta \"+file_name)"
   ]
  },
  {
   "cell_type": "code",
   "execution_count": 73,
   "id": "022abbfd-d073-469a-b3a7-8752f97cb43b",
   "metadata": {},
   "outputs": [],
   "source": [
    "import os"
   ]
  },
  {
   "cell_type": "code",
   "execution_count": 74,
   "id": "3a1fa912-c9fe-4212-b61c-4988ebe5dbf1",
   "metadata": {},
   "outputs": [
    {
     "name": "stdout",
     "output_type": "stream",
     "text": [
      "[INFO]: Termino, revise la ruta prueba_100_items.csv\n"
     ]
    }
   ],
   "source": [
    "lote_items(\n",
    "    category=\"MCO1574\",\n",
    "    size=100, \n",
    "    site=\"MCO\",\n",
    "    file_name=\"prueba_100_items.csv\",\n",
    "    discount=True\n",
    ")"
   ]
  },
  {
   "cell_type": "markdown",
   "id": "36575f95-ac48-485d-9065-30fc5ed8f373",
   "metadata": {},
   "source": [
    "# PRUEBA utils, constants"
   ]
  },
  {
   "cell_type": "code",
   "execution_count": 75,
   "id": "bb3efebd-f71d-4892-b5b9-6d27a35c912e",
   "metadata": {},
   "outputs": [],
   "source": [
    "import utils\n",
    "import constants"
   ]
  },
  {
   "cell_type": "code",
   "execution_count": 76,
   "id": "b7b82998-46e3-4b62-9c6f-a1480474b16c",
   "metadata": {},
   "outputs": [],
   "source": [
    "import os"
   ]
  },
  {
   "cell_type": "code",
   "execution_count": 77,
   "id": "c4acbda0-3313-4c75-b436-8ffae927490e",
   "metadata": {},
   "outputs": [
    {
     "name": "stdout",
     "output_type": "stream",
     "text": [
      "1.2271876335144043\n"
     ]
    }
   ],
   "source": [
    "URL_ITEMS_DISC = \"https://api.mercadolibre.com/sites/{site}/search?category={category}&offset={offset}&sort=relevance&discount=5-100\"\n",
    "\n",
    "start = time.time()\n",
    "json_items_disc = requests.request(\n",
    "    \"GET\",\n",
    "    URL_ITEMS_DISC.format(\n",
    "        site=\"MCO\",\n",
    "        category=\"MCO1574\",\n",
    "        offset=0\n",
    "    )\n",
    ").json()\n",
    "end = time.time()\n",
    "lapso = end -start\n",
    "print(lapso)"
   ]
  },
  {
   "cell_type": "code",
   "execution_count": 78,
   "id": "11346a1d-4dfe-46a3-a77f-edee3cd527da",
   "metadata": {},
   "outputs": [],
   "source": [
    "# json_items_disc[\"results\"]"
   ]
  },
  {
   "cell_type": "code",
   "execution_count": 81,
   "id": "04a56583-b881-4270-a4f3-594d4554711e",
   "metadata": {},
   "outputs": [
    {
     "name": "stdout",
     "output_type": "stream",
     "text": [
      "[INFO]: Termino, revise la ruta prueba_20_items.csv\n"
     ]
    }
   ],
   "source": [
    "utils.lote_items(\n",
    "    category=\"MCO1574\",\n",
    "    size=20, \n",
    "    site=\"MCO\",\n",
    "    file_name=\"prueba_20_items.csv\",\n",
    "    discount=True\n",
    ")"
   ]
  },
  {
   "cell_type": "code",
   "execution_count": null,
   "id": "c457c5e3-385c-4602-a93a-a4be3ea217f6",
   "metadata": {},
   "outputs": [],
   "source": []
  }
 ],
 "metadata": {
  "kernelspec": {
   "display_name": ".my_env",
   "language": "python",
   "name": ".my_env"
  },
  "language_info": {
   "codemirror_mode": {
    "name": "ipython",
    "version": 3
   },
   "file_extension": ".py",
   "mimetype": "text/x-python",
   "name": "python",
   "nbconvert_exporter": "python",
   "pygments_lexer": "ipython3",
   "version": "3.8.10"
  }
 },
 "nbformat": 4,
 "nbformat_minor": 5
}
