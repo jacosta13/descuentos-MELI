{
 "cells": [
  {
   "cell_type": "code",
   "execution_count": 1,
   "id": "a2456875-f44a-4fdf-bd1f-f4815a4586a7",
   "metadata": {},
   "outputs": [],
   "source": [
    "import requests \n",
    "\n",
    "import json\n",
    "\n",
    "import numpy as np\n",
    "import pandas as pd\n",
    "\n",
    "import utils \n",
    "import constants "
   ]
  },
  {
   "cell_type": "code",
   "execution_count": null,
   "id": "1fad17fd-88a4-41b4-8caa-a24d7a039b80",
   "metadata": {},
   "outputs": [],
   "source": []
  }
 ],
 "metadata": {
  "kernelspec": {
   "display_name": ".my_env",
   "language": "python",
   "name": ".my_env"
  },
  "language_info": {
   "codemirror_mode": {
    "name": "ipython",
    "version": 3
   },
   "file_extension": ".py",
   "mimetype": "text/x-python",
   "name": "python",
   "nbconvert_exporter": "python",
   "pygments_lexer": "ipython3",
   "version": "3.8.10"
  }
 },
 "nbformat": 4,
 "nbformat_minor": 5
}
